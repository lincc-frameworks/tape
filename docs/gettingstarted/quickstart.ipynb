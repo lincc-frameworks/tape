{
 "cells": [
  {
   "cell_type": "markdown",
   "metadata": {},
   "source": [
    "# Quickstart"
   ]
  },
  {
   "attachments": {},
   "cell_type": "markdown",
   "metadata": {},
   "source": [
    "The latest release of TAPE is installable via pip, using the following command:"
   ]
  },
  {
   "cell_type": "code",
   "execution_count": null,
   "metadata": {},
   "outputs": [],
   "source": [
    "\n",
    "%pip install lf-tape --quiet\n"
   ]
  },
  {
   "cell_type": "markdown",
   "metadata": {},
   "source": [
    "For more detailed installation instructions, see the [Installation Guide](installation.html)."
   ]
  },
  {
   "attachments": {},
   "cell_type": "markdown",
   "metadata": {},
   "source": [
    "TAPE provides a scalable framework for analyzing astronomical time series data. Let's walk through a brief example where we calculate the Structure Function for a set of spectroscopically confirmed QSOs. First, we grab the available TAPE Stripe 82 QSO dataset:"
   ]
  },
  {
   "cell_type": "code",
   "execution_count": null,
   "metadata": {},
   "outputs": [],
   "source": [
    "from tape import Ensemble\n",
    "\n",
    "ens = Ensemble()  # Initialize a TAPE Ensemble\n",
    "ens.from_dataset(\"s82_qso\", sorted=True)"
   ]
  },
  {
   "attachments": {},
   "cell_type": "markdown",
   "metadata": {},
   "source": [
    "This dataset contains 9,258 QSOs, we can view the first 5 entries in the \"object\" table to get a sense of the available object-level information:"
   ]
  },
  {
   "cell_type": "code",
   "execution_count": null,
   "metadata": {},
   "outputs": [],
   "source": [
    "ens.head(\"object\", 5)"
   ]
  },
  {
   "attachments": {},
   "cell_type": "markdown",
   "metadata": {},
   "source": [
    "The Ensemble stores data in two `dask` dataframes, object-level information in the \"object\" table as shown above, and individual time series measurements in the \"source\" table. As a result, many operations on the Ensemble closely follow operations on `dask` (and by extension `pandas`) dataframes. Let's filter down our large QSO set to a smaller set with the total number of observations per object within a certain range:"
   ]
  },
  {
   "cell_type": "code",
   "execution_count": null,
   "metadata": {},
   "outputs": [],
   "source": [
    "ens.calc_nobs()  # calculates number of observations, produces \"nobs_total\" column\n",
    "ens = ens.query(\"nobs_total >= 95 & nobs_total <= 105\", \"object\")"
   ]
  },
  {
   "attachments": {},
   "cell_type": "markdown",
   "metadata": {},
   "source": [
    "We can now view the entirety of our remaining QSO set:"
   ]
  },
  {
   "cell_type": "code",
   "execution_count": null,
   "metadata": {},
   "outputs": [],
   "source": [
    "ens.compute(\"object\")"
   ]
  },
  {
   "attachments": {},
   "cell_type": "markdown",
   "metadata": {},
   "source": [
    "Finally, we can calculate the Structure Function for each of these QSOs, using the available TAPE Structure Function Module:"
   ]
  },
  {
   "cell_type": "code",
   "execution_count": null,
   "metadata": {},
   "outputs": [],
   "source": [
    "from tape.analysis import calc_sf2\n",
    "\n",
    "result = ens.batch(\n",
    "    calc_sf2, sf_method=\"macleod_2012\"\n",
    ")  # The batch function applies the provided function to all individual lightcurves within the Ensemble\n",
    "result.compute()"
   ]
  },
  {
   "attachments": {},
   "cell_type": "markdown",
   "metadata": {},
   "source": [
    "The result is a table of delta times (dts) and structure function (sf2) for each unique lightcurve (labeled by lc_id). We can now visualize our delta times versus the computed structure function for each unique object."
   ]
  },
  {
   "cell_type": "code",
   "execution_count": null,
   "metadata": {},
   "outputs": [],
   "source": [
    "import matplotlib.pyplot as plt\n",
    "from matplotlib import rcParams\n",
    "\n",
    "%matplotlib inline\n",
    "%config InlineBackend.figure_format = \"retina\"\n",
    "rcParams[\"savefig.dpi\"] = 550\n",
    "rcParams[\"font.size\"] = 20\n",
    "plt.rc(\"font\", family=\"serif\")\n",
    "\n",
    "fig, ax = plt.subplots(nrows=1, ncols=1, figsize=(5, 4))\n",
    "plt.scatter(result[\"dt\"], result[\"sf2\"], s=20, alpha=1, color=\"#353935\")\n",
    "plt.yscale(\"log\")\n",
    "plt.ylabel(\"Log(SF) (mag)\")\n",
    "plt.xlabel(\"Time Lag (days)\")\n",
    "plt.ylim(1e-3, 1e1)\n",
    "plt.xlim(0, 2e3)"
   ]
  },
  {
   "cell_type": "markdown",
   "metadata": {},
   "source": [
    "Finally, suppose we want to select the ID with the maximum sf2 value from the computed feature. Using the available `ens.to_timeseries()` that creates a TimeSeries object, we can access the light curve for the target ID."
   ]
  },
  {
   "cell_type": "code",
   "execution_count": null,
   "metadata": {},
   "outputs": [],
   "source": [
    "max_id = result.compute()[\"sf2\"].idxmax()[0]\n",
    "lc = ens.to_timeseries(max_id)\n",
    "lc"
   ]
  },
  {
   "cell_type": "code",
   "execution_count": null,
   "metadata": {},
   "outputs": [],
   "source": [
    "filter_r = lc.band == \"r\"  # select filter\n",
    "\n",
    "plt.figure(figsize=(8, 5))\n",
    "plt.errorbar(\n",
    "    lc.time[filter_r], lc.flux[filter_r], lc.flux_err[filter_r], fmt=\"o\", color=\"red\", alpha=0.8, label=\"r\"\n",
    ")\n",
    "plt.minorticks_on()\n",
    "plt.ylabel(\"Flux (mJy)\")\n",
    "plt.xlabel(\"Time (MJD)\")\n",
    "plt.legend(title=\"Band\", loc=\"upper left\")"
   ]
  }
 ],
 "metadata": {
  "kernelspec": {
   "display_name": "Python 3",
   "language": "python",
   "name": "python3"
  },
  "language_info": {
   "codemirror_mode": {
    "name": "ipython",
    "version": 3
   },
   "file_extension": ".py",
   "mimetype": "text/x-python",
   "name": "python",
   "nbconvert_exporter": "python",
   "pygments_lexer": "ipython3",
   "version": "3.10.11"
  },
  "vscode": {
   "interpreter": {
    "hash": "83afbb17b435d9bf8b0d0042367da76f26510da1c5781f0ff6e6c518eab621ec"
   }
  }
 },
 "nbformat": 4,
 "nbformat_minor": 2
}
