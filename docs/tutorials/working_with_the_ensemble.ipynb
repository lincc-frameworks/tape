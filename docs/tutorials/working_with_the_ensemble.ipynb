{
 "cells": [
  {
   "attachments": {},
   "cell_type": "markdown",
   "metadata": {},
   "source": [
    "# Working with the TAPE `Ensemble` object"
   ]
  },
  {
   "attachments": {},
   "cell_type": "markdown",
   "metadata": {},
   "source": [
    "When working with many lightcurves, the TAPE `Ensemble` object serves as a singular interface for storing, filtering, and analyzing timeseries data. \n",
    "Let's consider an example set of lightcurves, generated as follows:"
   ]
  },
  {
   "cell_type": "code",
   "execution_count": 1,
   "metadata": {
    "ExecuteTime": {
     "end_time": "2023-08-30T14:58:34.203827Z",
     "start_time": "2023-08-30T14:58:34.187300Z"
    }
   },
   "outputs": [],
   "source": [
    "import numpy as np\n",
    "np.random.seed(1)\n",
    "\n",
    "# initialize a dictionary of empty arrays\n",
    "source_dict = {\"id\": np.array([]),\n",
    "                   \"time\": np.array([]),\n",
    "                   \"flux\": np.array([]),\n",
    "                   \"error\": np.array([]),\n",
    "                   \"band\": np.array([])}\n",
    "\n",
    "# Create 10 lightcurves with 100 measurements each\n",
    "lc_len = 100\n",
    "for i in range(10):\n",
    "    source_dict[\"id\"] = np.append(source_dict[\"id\"], np.array([i]*lc_len)).astype(int)\n",
    "    source_dict[\"time\"] = np.append(source_dict[\"time\"], np.linspace(1, lc_len, lc_len))\n",
    "    source_dict[\"flux\"] = np.append(source_dict[\"flux\"], 100 + 50 * np.random.rand(lc_len))\n",
    "    source_dict[\"error\"] = np.append(source_dict[\"error\"], 10 + 5 * np.random.rand(lc_len))\n",
    "    source_dict[\"band\"] = np.append(source_dict[\"band\"], [\"g\"]*50+[\"r\"]*50)"
   ]
  },
  {
   "attachments": {},
   "cell_type": "markdown",
   "metadata": {},
   "source": [
    "We can load these into the `Ensemble` using `Ensemble.from_source_dict()`:"
   ]
  },
  {
   "cell_type": "code",
   "execution_count": 2,
   "metadata": {
    "ExecuteTime": {
     "end_time": "2023-08-30T14:58:36.125402Z",
     "start_time": "2023-08-30T14:58:34.190790Z"
    }
   },
   "outputs": [
    {
     "data": {
      "text/plain": "<tape.ensemble.Ensemble at 0x13fa96dd0>"
     },
     "execution_count": 2,
     "metadata": {},
     "output_type": "execute_result"
    }
   ],
   "source": [
    "from tape.ensemble import Ensemble\n",
    "\n",
    "ens = Ensemble()  # initialize an ensemble object\n",
    "\n",
    "# Read in the generated lightcurve data\n",
    "ens.from_source_dict(source_dict, \n",
    "                     id_col=\"id\",\n",
    "                     time_col=\"time\",\n",
    "                     flux_col=\"flux\",\n",
    "                     err_col=\"error\",\n",
    "                     band_col=\"band\")"
   ]
  },
  {
   "attachments": {},
   "cell_type": "markdown",
   "metadata": {},
   "source": [
    "We now have an `Ensemble` object, and have provided it with the constructed data in the source dictionary. Within the call to `Ensemble.from_source_dict`, we specified which columns of the input file mapped to timeseries quantities that the `Ensemble` needs to understand. It's important to link these arguments properly, as the `Ensemble` will use these columns when operations are requested on understood quantities. For example, if an TAPE analysis function requires the time column, from this linking the `Ensemble` will automatically supply that function with the 'time' column."
   ]
  },
  {
   "attachments": {},
   "cell_type": "markdown",
   "metadata": {},
   "source": [
    "## Column Mapping with the ColumnMapper\n",
    "\n",
    "In the above example, we manually provide the column labels within the call to `Ensemble.from_source_dict`. Alternatively, the `tape.utils.ColumnMapper` class offers a means to assign the column mappings. Either manually as shown before, or even populated from a known mapping scheme."
   ]
  },
  {
   "cell_type": "code",
   "execution_count": 3,
   "metadata": {
    "ExecuteTime": {
     "end_time": "2023-08-30T14:58:36.209050Z",
     "start_time": "2023-08-30T14:58:36.115521Z"
    }
   },
   "outputs": [
    {
     "data": {
      "text/plain": "<tape.ensemble.Ensemble at 0x13fa96dd0>"
     },
     "execution_count": 3,
     "metadata": {},
     "output_type": "execute_result"
    }
   ],
   "source": [
    "from tape.utils import ColumnMapper\n",
    "\n",
    "# columns assigned manually\n",
    "col_map = ColumnMapper().assign(id_col=\"id\",\n",
    "                                time_col=\"time\",\n",
    "                                flux_col=\"flux\",\n",
    "                                err_col=\"error\",\n",
    "                                band_col=\"band\")\n",
    "\n",
    "# Pass the ColumnMapper along to from_source_dict\n",
    "ens.from_source_dict(source_dict, column_mapper=col_map)"
   ]
  },
  {
   "attachments": {},
   "cell_type": "markdown",
   "metadata": {},
   "source": [
    "## The Object and Source Frames\n",
    "The `Ensemble` maintains two dataframes under the hood, the \"object dataframe\" and the \"source dataframe\". This borrows from the Rubin Observatories object-source convention, where object denotes a given astronomical object and source is the collection of measurements of that object. Essentially, the Object frame stores one-off information about objects, and the source frame stores the available time-domain data. As a result, `Ensemble` functions that operate on the underlying dataframes need to be pointed at either object or source. In most cases, the default is the object table as it's a more helpful interface for understanding the contents of the `Ensemble`, especially when dealing with large volumes of data."
   ]
  },
  {
   "cell_type": "markdown",
   "metadata": {},
   "source": [
    "## Dask and \"Lazy Evaluation\"\n",
    "\n",
    "Before going any further, the `Ensemble` is built on top of `Dask`, which brings with it a powerful framework for parallelization and scalability. However, there are some differences in how `Dask` code works that, if you're unfamiliar with it, is worth establishing right here at the get-go. The first is that `Dask` evaluates code \"lazily\". Meaning that many operations are not executed when the line of code is run, but instead are added to a scheduler to be executed when the result is actually needed. See below for an example:"
   ]
  },
  {
   "cell_type": "code",
   "execution_count": 4,
   "metadata": {
    "ExecuteTime": {
     "end_time": "2023-08-30T14:58:36.219081Z",
     "start_time": "2023-08-30T14:58:36.205629Z"
    }
   },
   "outputs": [
    {
     "data": {
      "text/plain": "Dask DataFrame Structure:\n                  time     flux    error    band\nnpartitions=1                                   \n0              float64  float64  float64  string\n9                  ...      ...      ...     ...\nDask Name: sort_index, 4 graph layers",
      "text/html": "<div><strong>Dask DataFrame Structure:</strong></div>\n<div>\n<style scoped>\n    .dataframe tbody tr th:only-of-type {\n        vertical-align: middle;\n    }\n\n    .dataframe tbody tr th {\n        vertical-align: top;\n    }\n\n    .dataframe thead th {\n        text-align: right;\n    }\n</style>\n<table border=\"1\" class=\"dataframe\">\n  <thead>\n    <tr style=\"text-align: right;\">\n      <th></th>\n      <th>time</th>\n      <th>flux</th>\n      <th>error</th>\n      <th>band</th>\n    </tr>\n    <tr>\n      <th>npartitions=1</th>\n      <th></th>\n      <th></th>\n      <th></th>\n      <th></th>\n    </tr>\n  </thead>\n  <tbody>\n    <tr>\n      <th>0</th>\n      <td>float64</td>\n      <td>float64</td>\n      <td>float64</td>\n      <td>string</td>\n    </tr>\n    <tr>\n      <th>9</th>\n      <td>...</td>\n      <td>...</td>\n      <td>...</td>\n      <td>...</td>\n    </tr>\n  </tbody>\n</table>\n</div>\n<div>Dask Name: sort_index, 4 graph layers</div>"
     },
     "execution_count": 4,
     "metadata": {},
     "output_type": "execute_result"
    }
   ],
   "source": [
    "ens._source  # We have not actually loaded any data into memory"
   ]
  },
  {
   "cell_type": "markdown",
   "metadata": {},
   "source": [
    "Here we are accessing the Dask dataframe underneath, and despite running a command to read in our data, we only see an empty dataframe with some high-level information available. To explicitly bring the data into memory, we must run a `compute()` command."
   ]
  },
  {
   "cell_type": "code",
   "execution_count": 5,
   "metadata": {
    "ExecuteTime": {
     "end_time": "2023-08-30T14:58:36.484627Z",
     "start_time": "2023-08-30T14:58:36.213215Z"
    }
   },
   "outputs": [
    {
     "data": {
      "text/plain": "     time        flux      error band\nid                                   \n0     1.0  120.851100  11.633225    g\n0     2.0  136.016225  12.635291    g\n0     3.0  100.005719  14.429710    g\n0     4.0  115.116629  11.786349    g\n0     5.0  107.337795  14.542676    g\n..    ...         ...        ...  ...\n9    96.0  138.371176  12.237541    r\n9    97.0  104.060829  10.920638    r\n9    98.0  149.920678  14.143664    r\n9    99.0  119.480601  10.154990    r\n9   100.0  145.260138  14.733641    r\n\n[1000 rows x 4 columns]",
      "text/html": "<div>\n<style scoped>\n    .dataframe tbody tr th:only-of-type {\n        vertical-align: middle;\n    }\n\n    .dataframe tbody tr th {\n        vertical-align: top;\n    }\n\n    .dataframe thead th {\n        text-align: right;\n    }\n</style>\n<table border=\"1\" class=\"dataframe\">\n  <thead>\n    <tr style=\"text-align: right;\">\n      <th></th>\n      <th>time</th>\n      <th>flux</th>\n      <th>error</th>\n      <th>band</th>\n    </tr>\n    <tr>\n      <th>id</th>\n      <th></th>\n      <th></th>\n      <th></th>\n      <th></th>\n    </tr>\n  </thead>\n  <tbody>\n    <tr>\n      <th>0</th>\n      <td>1.0</td>\n      <td>120.851100</td>\n      <td>11.633225</td>\n      <td>g</td>\n    </tr>\n    <tr>\n      <th>0</th>\n      <td>2.0</td>\n      <td>136.016225</td>\n      <td>12.635291</td>\n      <td>g</td>\n    </tr>\n    <tr>\n      <th>0</th>\n      <td>3.0</td>\n      <td>100.005719</td>\n      <td>14.429710</td>\n      <td>g</td>\n    </tr>\n    <tr>\n      <th>0</th>\n      <td>4.0</td>\n      <td>115.116629</td>\n      <td>11.786349</td>\n      <td>g</td>\n    </tr>\n    <tr>\n      <th>0</th>\n      <td>5.0</td>\n      <td>107.337795</td>\n      <td>14.542676</td>\n      <td>g</td>\n    </tr>\n    <tr>\n      <th>...</th>\n      <td>...</td>\n      <td>...</td>\n      <td>...</td>\n      <td>...</td>\n    </tr>\n    <tr>\n      <th>9</th>\n      <td>96.0</td>\n      <td>138.371176</td>\n      <td>12.237541</td>\n      <td>r</td>\n    </tr>\n    <tr>\n      <th>9</th>\n      <td>97.0</td>\n      <td>104.060829</td>\n      <td>10.920638</td>\n      <td>r</td>\n    </tr>\n    <tr>\n      <th>9</th>\n      <td>98.0</td>\n      <td>149.920678</td>\n      <td>14.143664</td>\n      <td>r</td>\n    </tr>\n    <tr>\n      <th>9</th>\n      <td>99.0</td>\n      <td>119.480601</td>\n      <td>10.154990</td>\n      <td>r</td>\n    </tr>\n    <tr>\n      <th>9</th>\n      <td>100.0</td>\n      <td>145.260138</td>\n      <td>14.733641</td>\n      <td>r</td>\n    </tr>\n  </tbody>\n</table>\n<p>1000 rows × 4 columns</p>\n</div>"
     },
     "execution_count": 5,
     "metadata": {},
     "output_type": "execute_result"
    }
   ],
   "source": [
    "ens.compute(\"source\")  # Compute lets dask know we're ready to bring the data into memory"
   ]
  },
  {
   "attachments": {},
   "cell_type": "markdown",
   "metadata": {},
   "source": [
    "With this compute, we see above that we now have a populated dataframe (a Pandas dataframe in fact!). From this, many workflows in Dask and by extension TAPE, will look like a series of lazily evaluated commands that are chained together and then executed with a .compute() call at the end of the workflow.\n",
    "\n",
    "Alternatively we can use `ens.persist()` to execute the chained commands without loading the result into memory. This can speed up future `compute()` calls."
   ]
  },
  {
   "cell_type": "markdown",
   "metadata": {},
   "source": [
    "## Inspection, Filtering, and Selecting\n",
    "\n",
    "The `Ensemble` contains an assortment of functions for inspecting and filtering your data."
   ]
  },
  {
   "cell_type": "markdown",
   "metadata": {},
   "source": [
    "### Inspection\n",
    "\n",
    "These functions provide views into the contents of your `Ensemble` dataframe, especially important when dealing with large data volumes that cannot be brought into memory all at once. The first is `Ensemble.info` which provides information on the columns, data types, and memory usage of the dataframe."
   ]
  },
  {
   "cell_type": "code",
   "execution_count": 6,
   "metadata": {
    "ExecuteTime": {
     "end_time": "2023-08-30T14:58:36.696142Z",
     "start_time": "2023-08-30T14:58:36.361967Z"
    }
   },
   "outputs": [
    {
     "name": "stdout",
     "output_type": "stream",
     "text": [
      "Object Table\n",
      "<class 'dask.dataframe.core.DataFrame'>\n",
      "Index: 10 entries, 0 to 9\n",
      "Data columns (total 3 columns):\n",
      " #   Column      Non-Null Count  Dtype\n",
      "---  ------      --------------  -----\n",
      " 0   nobs_g      10 non-null      float64\n",
      " 1   nobs_r      10 non-null      float64\n",
      " 2   nobs_total  10 non-null      float64\n",
      "dtypes: float64(3)\n",
      "memory usage: 320.0 bytes\n",
      "Source Table\n",
      "<class 'dask.dataframe.core.DataFrame'>\n",
      "Index: 1000 entries, 0 to 9\n",
      "Data columns (total 4 columns):\n",
      " #   Column  Non-Null Count  Dtype\n",
      "---  ------  --------------  -----\n",
      " 0   time    1000 non-null      float64\n",
      " 1   flux    1000 non-null      float64\n",
      " 2   error   1000 non-null      float64\n",
      " 3   band    1000 non-null      string\n",
      "dtypes: float64(3), string(1)\n",
      "memory usage: 36.1 KB\n"
     ]
    }
   ],
   "source": [
    "# Inspection\n",
    "\n",
    "ens.info(verbose=True, memory_usage=True)  # Grabs high level information about the dataframes"
   ]
  },
  {
   "cell_type": "markdown",
   "metadata": {},
   "source": [
    "`Ensemble.info` shows that we have 2000 rows with 54.7 KBs of used memory, and shows the columns we've brought in with their respective data types. If you'd like to actually bring a few rows into memory to inspect, `Ensemble.head` and `Ensemble.tail` provide access to the first n and last n rows respectively."
   ]
  },
  {
   "cell_type": "code",
   "execution_count": 7,
   "metadata": {
    "ExecuteTime": {
     "end_time": "2023-08-30T14:58:36.696879Z",
     "start_time": "2023-08-30T14:58:36.510953Z"
    }
   },
   "outputs": [
    {
     "data": {
      "text/plain": "band  nobs_g  nobs_r  nobs_total\nid                              \n0         50      50         100\n1         50      50         100\n2         50      50         100\n3         50      50         100\n4         50      50         100",
      "text/html": "<div>\n<style scoped>\n    .dataframe tbody tr th:only-of-type {\n        vertical-align: middle;\n    }\n\n    .dataframe tbody tr th {\n        vertical-align: top;\n    }\n\n    .dataframe thead th {\n        text-align: right;\n    }\n</style>\n<table border=\"1\" class=\"dataframe\">\n  <thead>\n    <tr style=\"text-align: right;\">\n      <th>band</th>\n      <th>nobs_g</th>\n      <th>nobs_r</th>\n      <th>nobs_total</th>\n    </tr>\n    <tr>\n      <th>id</th>\n      <th></th>\n      <th></th>\n      <th></th>\n    </tr>\n  </thead>\n  <tbody>\n    <tr>\n      <th>0</th>\n      <td>50</td>\n      <td>50</td>\n      <td>100</td>\n    </tr>\n    <tr>\n      <th>1</th>\n      <td>50</td>\n      <td>50</td>\n      <td>100</td>\n    </tr>\n    <tr>\n      <th>2</th>\n      <td>50</td>\n      <td>50</td>\n      <td>100</td>\n    </tr>\n    <tr>\n      <th>3</th>\n      <td>50</td>\n      <td>50</td>\n      <td>100</td>\n    </tr>\n    <tr>\n      <th>4</th>\n      <td>50</td>\n      <td>50</td>\n      <td>100</td>\n    </tr>\n  </tbody>\n</table>\n</div>"
     },
     "execution_count": 7,
     "metadata": {},
     "output_type": "execute_result"
    }
   ],
   "source": [
    "ens.head(\"object\", 5)  # Grabs the first 5 rows of the object table"
   ]
  },
  {
   "cell_type": "code",
   "execution_count": 8,
   "metadata": {
    "ExecuteTime": {
     "end_time": "2023-08-30T14:58:36.697259Z",
     "start_time": "2023-08-30T14:58:36.561399Z"
    }
   },
   "outputs": [
    {
     "data": {
      "text/plain": "     time        flux      error band\nid                                   \n9    96.0  138.371176  12.237541    r\n9    97.0  104.060829  10.920638    r\n9    98.0  149.920678  14.143664    r\n9    99.0  119.480601  10.154990    r\n9   100.0  145.260138  14.733641    r",
      "text/html": "<div>\n<style scoped>\n    .dataframe tbody tr th:only-of-type {\n        vertical-align: middle;\n    }\n\n    .dataframe tbody tr th {\n        vertical-align: top;\n    }\n\n    .dataframe thead th {\n        text-align: right;\n    }\n</style>\n<table border=\"1\" class=\"dataframe\">\n  <thead>\n    <tr style=\"text-align: right;\">\n      <th></th>\n      <th>time</th>\n      <th>flux</th>\n      <th>error</th>\n      <th>band</th>\n    </tr>\n    <tr>\n      <th>id</th>\n      <th></th>\n      <th></th>\n      <th></th>\n      <th></th>\n    </tr>\n  </thead>\n  <tbody>\n    <tr>\n      <th>9</th>\n      <td>96.0</td>\n      <td>138.371176</td>\n      <td>12.237541</td>\n      <td>r</td>\n    </tr>\n    <tr>\n      <th>9</th>\n      <td>97.0</td>\n      <td>104.060829</td>\n      <td>10.920638</td>\n      <td>r</td>\n    </tr>\n    <tr>\n      <th>9</th>\n      <td>98.0</td>\n      <td>149.920678</td>\n      <td>14.143664</td>\n      <td>r</td>\n    </tr>\n    <tr>\n      <th>9</th>\n      <td>99.0</td>\n      <td>119.480601</td>\n      <td>10.154990</td>\n      <td>r</td>\n    </tr>\n    <tr>\n      <th>9</th>\n      <td>100.0</td>\n      <td>145.260138</td>\n      <td>14.733641</td>\n      <td>r</td>\n    </tr>\n  </tbody>\n</table>\n</div>"
     },
     "execution_count": 8,
     "metadata": {},
     "output_type": "execute_result"
    }
   ],
   "source": [
    "ens.tail(\"source\", 5)  # Grabs the last 5 rows of the source table"
   ]
  },
  {
   "cell_type": "markdown",
   "metadata": {},
   "source": [
    "Additionally, when you are working with a small enough dataset, `Ensemble.compute` can be used to bring the whole dataframe into memory (as shown previously). "
   ]
  },
  {
   "cell_type": "code",
   "execution_count": 9,
   "metadata": {
    "ExecuteTime": {
     "end_time": "2023-08-30T14:58:36.697769Z",
     "start_time": "2023-08-30T14:58:36.592238Z"
    }
   },
   "outputs": [
    {
     "data": {
      "text/plain": "     time        flux      error band\nid                                   \n0     1.0  120.851100  11.633225    g\n0     2.0  136.016225  12.635291    g\n0     3.0  100.005719  14.429710    g\n0     4.0  115.116629  11.786349    g\n0     5.0  107.337795  14.542676    g\n..    ...         ...        ...  ...\n9    96.0  138.371176  12.237541    r\n9    97.0  104.060829  10.920638    r\n9    98.0  149.920678  14.143664    r\n9    99.0  119.480601  10.154990    r\n9   100.0  145.260138  14.733641    r\n\n[1000 rows x 4 columns]",
      "text/html": "<div>\n<style scoped>\n    .dataframe tbody tr th:only-of-type {\n        vertical-align: middle;\n    }\n\n    .dataframe tbody tr th {\n        vertical-align: top;\n    }\n\n    .dataframe thead th {\n        text-align: right;\n    }\n</style>\n<table border=\"1\" class=\"dataframe\">\n  <thead>\n    <tr style=\"text-align: right;\">\n      <th></th>\n      <th>time</th>\n      <th>flux</th>\n      <th>error</th>\n      <th>band</th>\n    </tr>\n    <tr>\n      <th>id</th>\n      <th></th>\n      <th></th>\n      <th></th>\n      <th></th>\n    </tr>\n  </thead>\n  <tbody>\n    <tr>\n      <th>0</th>\n      <td>1.0</td>\n      <td>120.851100</td>\n      <td>11.633225</td>\n      <td>g</td>\n    </tr>\n    <tr>\n      <th>0</th>\n      <td>2.0</td>\n      <td>136.016225</td>\n      <td>12.635291</td>\n      <td>g</td>\n    </tr>\n    <tr>\n      <th>0</th>\n      <td>3.0</td>\n      <td>100.005719</td>\n      <td>14.429710</td>\n      <td>g</td>\n    </tr>\n    <tr>\n      <th>0</th>\n      <td>4.0</td>\n      <td>115.116629</td>\n      <td>11.786349</td>\n      <td>g</td>\n    </tr>\n    <tr>\n      <th>0</th>\n      <td>5.0</td>\n      <td>107.337795</td>\n      <td>14.542676</td>\n      <td>g</td>\n    </tr>\n    <tr>\n      <th>...</th>\n      <td>...</td>\n      <td>...</td>\n      <td>...</td>\n      <td>...</td>\n    </tr>\n    <tr>\n      <th>9</th>\n      <td>96.0</td>\n      <td>138.371176</td>\n      <td>12.237541</td>\n      <td>r</td>\n    </tr>\n    <tr>\n      <th>9</th>\n      <td>97.0</td>\n      <td>104.060829</td>\n      <td>10.920638</td>\n      <td>r</td>\n    </tr>\n    <tr>\n      <th>9</th>\n      <td>98.0</td>\n      <td>149.920678</td>\n      <td>14.143664</td>\n      <td>r</td>\n    </tr>\n    <tr>\n      <th>9</th>\n      <td>99.0</td>\n      <td>119.480601</td>\n      <td>10.154990</td>\n      <td>r</td>\n    </tr>\n    <tr>\n      <th>9</th>\n      <td>100.0</td>\n      <td>145.260138</td>\n      <td>14.733641</td>\n      <td>r</td>\n    </tr>\n  </tbody>\n</table>\n<p>1000 rows × 4 columns</p>\n</div>"
     },
     "execution_count": 9,
     "metadata": {},
     "output_type": "execute_result"
    }
   ],
   "source": [
    "ens.compute(\"source\")"
   ]
  },
  {
   "cell_type": "markdown",
   "metadata": {},
   "source": [
    "### Filtering\n",
    "\n",
    "The `Ensemble` provides a general filtering function `query` that mirrors a Pandas or Dask `query` command. Specifically, the function takes a string that provides an expression indicating which rows to **keep**. As with other `Ensemble` functions, an optional `table` parameter allows you to filter on either the object or the source table.\n",
    "\n",
    "For example, the following code filters the sources to only include rows with a flux value above 18.2. It uses `ens._flux_col` to retrieve the name of the column with that information."
   ]
  },
  {
   "cell_type": "code",
   "execution_count": 10,
   "metadata": {
    "ExecuteTime": {
     "end_time": "2023-08-30T14:58:36.698305Z",
     "start_time": "2023-08-30T14:58:36.615492Z"
    }
   },
   "outputs": [
    {
     "data": {
      "text/plain": "     time        flux      error band\nid                                   \n0     2.0  136.016225  12.635291    g\n0    12.0  134.260975  10.685679    g\n0    14.0  143.905872  13.484091    g\n0    16.0  133.523376  13.777315    g\n0    21.0  140.037228  10.099401    g\n..    ...         ...        ...  ...\n9    91.0  140.368263  14.320720    r\n9    92.0  148.476901  12.239495    r\n9    96.0  138.371176  12.237541    r\n9    98.0  149.920678  14.143664    r\n9   100.0  145.260138  14.733641    r\n\n[422 rows x 4 columns]",
      "text/html": "<div>\n<style scoped>\n    .dataframe tbody tr th:only-of-type {\n        vertical-align: middle;\n    }\n\n    .dataframe tbody tr th {\n        vertical-align: top;\n    }\n\n    .dataframe thead th {\n        text-align: right;\n    }\n</style>\n<table border=\"1\" class=\"dataframe\">\n  <thead>\n    <tr style=\"text-align: right;\">\n      <th></th>\n      <th>time</th>\n      <th>flux</th>\n      <th>error</th>\n      <th>band</th>\n    </tr>\n    <tr>\n      <th>id</th>\n      <th></th>\n      <th></th>\n      <th></th>\n      <th></th>\n    </tr>\n  </thead>\n  <tbody>\n    <tr>\n      <th>0</th>\n      <td>2.0</td>\n      <td>136.016225</td>\n      <td>12.635291</td>\n      <td>g</td>\n    </tr>\n    <tr>\n      <th>0</th>\n      <td>12.0</td>\n      <td>134.260975</td>\n      <td>10.685679</td>\n      <td>g</td>\n    </tr>\n    <tr>\n      <th>0</th>\n      <td>14.0</td>\n      <td>143.905872</td>\n      <td>13.484091</td>\n      <td>g</td>\n    </tr>\n    <tr>\n      <th>0</th>\n      <td>16.0</td>\n      <td>133.523376</td>\n      <td>13.777315</td>\n      <td>g</td>\n    </tr>\n    <tr>\n      <th>0</th>\n      <td>21.0</td>\n      <td>140.037228</td>\n      <td>10.099401</td>\n      <td>g</td>\n    </tr>\n    <tr>\n      <th>...</th>\n      <td>...</td>\n      <td>...</td>\n      <td>...</td>\n      <td>...</td>\n    </tr>\n    <tr>\n      <th>9</th>\n      <td>91.0</td>\n      <td>140.368263</td>\n      <td>14.320720</td>\n      <td>r</td>\n    </tr>\n    <tr>\n      <th>9</th>\n      <td>92.0</td>\n      <td>148.476901</td>\n      <td>12.239495</td>\n      <td>r</td>\n    </tr>\n    <tr>\n      <th>9</th>\n      <td>96.0</td>\n      <td>138.371176</td>\n      <td>12.237541</td>\n      <td>r</td>\n    </tr>\n    <tr>\n      <th>9</th>\n      <td>98.0</td>\n      <td>149.920678</td>\n      <td>14.143664</td>\n      <td>r</td>\n    </tr>\n    <tr>\n      <th>9</th>\n      <td>100.0</td>\n      <td>145.260138</td>\n      <td>14.733641</td>\n      <td>r</td>\n    </tr>\n  </tbody>\n</table>\n<p>422 rows × 4 columns</p>\n</div>"
     },
     "execution_count": 10,
     "metadata": {},
     "output_type": "execute_result"
    }
   ],
   "source": [
    "ens.query(f\"{ens._flux_col} > 130.0\", table=\"source\")\n",
    "ens.compute(\"source\")"
   ]
  },
  {
   "cell_type": "markdown",
   "metadata": {},
   "source": [
    "Alternatively, we could use a Dask dataseries of Booleans to indicate which rows to *keep*. We can often compute these series as the result of some operation on the underlying tables:"
   ]
  },
  {
   "cell_type": "code",
   "execution_count": 11,
   "metadata": {
    "ExecuteTime": {
     "end_time": "2023-08-30T14:58:36.754980Z",
     "start_time": "2023-08-30T14:58:36.669055Z"
    }
   },
   "outputs": [
    {
     "data": {
      "text/plain": "id\n0    False\n0     True\n0    False\n0    False\n0     True\n     ...  \n9    False\n9    False\n9    False\n9    False\n9    False\nName: error, Length: 422, dtype: bool"
     },
     "execution_count": 11,
     "metadata": {},
     "output_type": "execute_result"
    }
   ],
   "source": [
    "keep_rows = ens._source[\"error\"] < 12.0\n",
    "keep_rows.compute()"
   ]
  },
  {
   "cell_type": "markdown",
   "metadata": {},
   "source": [
    "We then pass that series to a `filter_from_series` function:"
   ]
  },
  {
   "cell_type": "code",
   "execution_count": 12,
   "metadata": {
    "ExecuteTime": {
     "end_time": "2023-08-30T14:58:36.792088Z",
     "start_time": "2023-08-30T14:58:36.690772Z"
    }
   },
   "outputs": [
    {
     "data": {
      "text/plain": "    time        flux      error band\nid                                  \n0   12.0  134.260975  10.685679    g\n0   21.0  140.037228  10.099401    g\n0   22.0  148.413079  10.131055    g\n0   24.0  134.616131  11.231055    g\n0   30.0  143.907125  11.395918    g\n..   ...         ...        ...  ...\n9   81.0  149.016644  10.755373    r\n9   85.0  130.071670  11.960329    r\n9   86.0  136.297942  11.419338    r\n9   88.0  134.215481  11.202422    r\n9   89.0  147.302751  11.271162    r\n\n[169 rows x 4 columns]",
      "text/html": "<div>\n<style scoped>\n    .dataframe tbody tr th:only-of-type {\n        vertical-align: middle;\n    }\n\n    .dataframe tbody tr th {\n        vertical-align: top;\n    }\n\n    .dataframe thead th {\n        text-align: right;\n    }\n</style>\n<table border=\"1\" class=\"dataframe\">\n  <thead>\n    <tr style=\"text-align: right;\">\n      <th></th>\n      <th>time</th>\n      <th>flux</th>\n      <th>error</th>\n      <th>band</th>\n    </tr>\n    <tr>\n      <th>id</th>\n      <th></th>\n      <th></th>\n      <th></th>\n      <th></th>\n    </tr>\n  </thead>\n  <tbody>\n    <tr>\n      <th>0</th>\n      <td>12.0</td>\n      <td>134.260975</td>\n      <td>10.685679</td>\n      <td>g</td>\n    </tr>\n    <tr>\n      <th>0</th>\n      <td>21.0</td>\n      <td>140.037228</td>\n      <td>10.099401</td>\n      <td>g</td>\n    </tr>\n    <tr>\n      <th>0</th>\n      <td>22.0</td>\n      <td>148.413079</td>\n      <td>10.131055</td>\n      <td>g</td>\n    </tr>\n    <tr>\n      <th>0</th>\n      <td>24.0</td>\n      <td>134.616131</td>\n      <td>11.231055</td>\n      <td>g</td>\n    </tr>\n    <tr>\n      <th>0</th>\n      <td>30.0</td>\n      <td>143.907125</td>\n      <td>11.395918</td>\n      <td>g</td>\n    </tr>\n    <tr>\n      <th>...</th>\n      <td>...</td>\n      <td>...</td>\n      <td>...</td>\n      <td>...</td>\n    </tr>\n    <tr>\n      <th>9</th>\n      <td>81.0</td>\n      <td>149.016644</td>\n      <td>10.755373</td>\n      <td>r</td>\n    </tr>\n    <tr>\n      <th>9</th>\n      <td>85.0</td>\n      <td>130.071670</td>\n      <td>11.960329</td>\n      <td>r</td>\n    </tr>\n    <tr>\n      <th>9</th>\n      <td>86.0</td>\n      <td>136.297942</td>\n      <td>11.419338</td>\n      <td>r</td>\n    </tr>\n    <tr>\n      <th>9</th>\n      <td>88.0</td>\n      <td>134.215481</td>\n      <td>11.202422</td>\n      <td>r</td>\n    </tr>\n    <tr>\n      <th>9</th>\n      <td>89.0</td>\n      <td>147.302751</td>\n      <td>11.271162</td>\n      <td>r</td>\n    </tr>\n  </tbody>\n</table>\n<p>169 rows × 4 columns</p>\n</div>"
     },
     "execution_count": 12,
     "metadata": {},
     "output_type": "execute_result"
    }
   ],
   "source": [
    "ens.filter_from_series(keep_rows, table=\"source\")\n",
    "ens.compute(\"source\")"
   ]
  },
  {
   "cell_type": "markdown",
   "metadata": {},
   "source": [
    "Additionally, several more specific functions are available for common operations."
   ]
  },
  {
   "cell_type": "code",
   "execution_count": 13,
   "metadata": {
    "ExecuteTime": {
     "end_time": "2023-08-30T14:58:37.026887Z",
     "start_time": "2023-08-30T14:58:36.715537Z"
    }
   },
   "outputs": [
    {
     "name": "stdout",
     "output_type": "stream",
     "text": [
      "Object Table\n",
      "<class 'dask.dataframe.core.DataFrame'>\n",
      "Index: 10 entries, 0 to 9\n",
      "Data columns (total 3 columns):\n",
      " #   Column      Non-Null Count  Dtype\n",
      "---  ------      --------------  -----\n",
      " 0   nobs_g      10 non-null      float64\n",
      " 1   nobs_r      10 non-null      float64\n",
      " 2   nobs_total  10 non-null      float64\n",
      "dtypes: float64(3)\n",
      "memory usage: 320.0 bytes\n",
      "Source Table\n",
      "<class 'dask.dataframe.core.DataFrame'>\n",
      "Index: 169 entries, 0 to 9\n",
      "Data columns (total 4 columns):\n",
      " #   Column  Non-Null Count  Dtype\n",
      "---  ------  --------------  -----\n",
      " 0   time    169 non-null      float64\n",
      " 1   flux    169 non-null      float64\n",
      " 2   error   169 non-null      float64\n",
      " 3   band    169 non-null      string\n",
      "dtypes: float64(3), string(1)\n",
      "memory usage: 6.1 KB\n"
     ]
    }
   ],
   "source": [
    "# Cleaning nans\n",
    "ens.dropna(table=\"source\")  # clean nans from source table\n",
    "ens.dropna(table=\"object\")  # clean nans from object table\n",
    "\n",
    "# Filtering on number of observations\n",
    "ens.prune(threshold=10)  # threshold is the minimum number of observations needed to retain the object\n",
    "\n",
    "ens.info(verbose=True)"
   ]
  },
  {
   "attachments": {},
   "cell_type": "markdown",
   "metadata": {},
   "source": [
    "In the above operations, we remove any rows that have at least 1 NaN value present. And then filter such that only lightcurves which have at least 50 measurements are retained."
   ]
  },
  {
   "cell_type": "markdown",
   "metadata": {},
   "source": [
    "### Selecting\n",
    "\n",
    "The `Ensemble` also provides a `select` function to filter down to a subset of columns."
   ]
  },
  {
   "cell_type": "code",
   "execution_count": 14,
   "metadata": {
    "ExecuteTime": {
     "end_time": "2023-08-30T14:58:37.095991Z",
     "start_time": "2023-08-30T14:58:36.917820Z"
    }
   },
   "outputs": [
    {
     "data": {
      "text/plain": "    time        flux      error band band2\nid                                        \n0   12.0  134.260975  10.685679    g    g2\n0   21.0  140.037228  10.099401    g    g2\n0   22.0  148.413079  10.131055    g    g2\n0   24.0  134.616131  11.231055    g    g2\n0   30.0  143.907125  11.395918    g    g2\n..   ...         ...        ...  ...   ...\n9   81.0  149.016644  10.755373    r    r2\n9   85.0  130.071670  11.960329    r    r2\n9   86.0  136.297942  11.419338    r    r2\n9   88.0  134.215481  11.202422    r    r2\n9   89.0  147.302751  11.271162    r    r2\n\n[169 rows x 5 columns]",
      "text/html": "<div>\n<style scoped>\n    .dataframe tbody tr th:only-of-type {\n        vertical-align: middle;\n    }\n\n    .dataframe tbody tr th {\n        vertical-align: top;\n    }\n\n    .dataframe thead th {\n        text-align: right;\n    }\n</style>\n<table border=\"1\" class=\"dataframe\">\n  <thead>\n    <tr style=\"text-align: right;\">\n      <th></th>\n      <th>time</th>\n      <th>flux</th>\n      <th>error</th>\n      <th>band</th>\n      <th>band2</th>\n    </tr>\n    <tr>\n      <th>id</th>\n      <th></th>\n      <th></th>\n      <th></th>\n      <th></th>\n      <th></th>\n    </tr>\n  </thead>\n  <tbody>\n    <tr>\n      <th>0</th>\n      <td>12.0</td>\n      <td>134.260975</td>\n      <td>10.685679</td>\n      <td>g</td>\n      <td>g2</td>\n    </tr>\n    <tr>\n      <th>0</th>\n      <td>21.0</td>\n      <td>140.037228</td>\n      <td>10.099401</td>\n      <td>g</td>\n      <td>g2</td>\n    </tr>\n    <tr>\n      <th>0</th>\n      <td>22.0</td>\n      <td>148.413079</td>\n      <td>10.131055</td>\n      <td>g</td>\n      <td>g2</td>\n    </tr>\n    <tr>\n      <th>0</th>\n      <td>24.0</td>\n      <td>134.616131</td>\n      <td>11.231055</td>\n      <td>g</td>\n      <td>g2</td>\n    </tr>\n    <tr>\n      <th>0</th>\n      <td>30.0</td>\n      <td>143.907125</td>\n      <td>11.395918</td>\n      <td>g</td>\n      <td>g2</td>\n    </tr>\n    <tr>\n      <th>...</th>\n      <td>...</td>\n      <td>...</td>\n      <td>...</td>\n      <td>...</td>\n      <td>...</td>\n    </tr>\n    <tr>\n      <th>9</th>\n      <td>81.0</td>\n      <td>149.016644</td>\n      <td>10.755373</td>\n      <td>r</td>\n      <td>r2</td>\n    </tr>\n    <tr>\n      <th>9</th>\n      <td>85.0</td>\n      <td>130.071670</td>\n      <td>11.960329</td>\n      <td>r</td>\n      <td>r2</td>\n    </tr>\n    <tr>\n      <th>9</th>\n      <td>86.0</td>\n      <td>136.297942</td>\n      <td>11.419338</td>\n      <td>r</td>\n      <td>r2</td>\n    </tr>\n    <tr>\n      <th>9</th>\n      <td>88.0</td>\n      <td>134.215481</td>\n      <td>11.202422</td>\n      <td>r</td>\n      <td>r2</td>\n    </tr>\n    <tr>\n      <th>9</th>\n      <td>89.0</td>\n      <td>147.302751</td>\n      <td>11.271162</td>\n      <td>r</td>\n      <td>r2</td>\n    </tr>\n  </tbody>\n</table>\n<p>169 rows × 5 columns</p>\n</div>"
     },
     "execution_count": 14,
     "metadata": {},
     "output_type": "execute_result"
    }
   ],
   "source": [
    "# Add a new column so we can filter it out later.\n",
    "ens._source = ens._source.assign(band2=ens._source[\"band\"] + \"2\")\n",
    "ens.compute(\"source\")"
   ]
  },
  {
   "cell_type": "code",
   "execution_count": 15,
   "metadata": {
    "ExecuteTime": {
     "end_time": "2023-08-30T14:58:37.096860Z",
     "start_time": "2023-08-30T14:58:36.937579Z"
    }
   },
   "outputs": [
    {
     "data": {
      "text/plain": "    time        flux      error band\nid                                  \n0   12.0  134.260975  10.685679    g\n0   21.0  140.037228  10.099401    g\n0   22.0  148.413079  10.131055    g\n0   24.0  134.616131  11.231055    g\n0   30.0  143.907125  11.395918    g\n..   ...         ...        ...  ...\n9   81.0  149.016644  10.755373    r\n9   85.0  130.071670  11.960329    r\n9   86.0  136.297942  11.419338    r\n9   88.0  134.215481  11.202422    r\n9   89.0  147.302751  11.271162    r\n\n[169 rows x 4 columns]",
      "text/html": "<div>\n<style scoped>\n    .dataframe tbody tr th:only-of-type {\n        vertical-align: middle;\n    }\n\n    .dataframe tbody tr th {\n        vertical-align: top;\n    }\n\n    .dataframe thead th {\n        text-align: right;\n    }\n</style>\n<table border=\"1\" class=\"dataframe\">\n  <thead>\n    <tr style=\"text-align: right;\">\n      <th></th>\n      <th>time</th>\n      <th>flux</th>\n      <th>error</th>\n      <th>band</th>\n    </tr>\n    <tr>\n      <th>id</th>\n      <th></th>\n      <th></th>\n      <th></th>\n      <th></th>\n    </tr>\n  </thead>\n  <tbody>\n    <tr>\n      <th>0</th>\n      <td>12.0</td>\n      <td>134.260975</td>\n      <td>10.685679</td>\n      <td>g</td>\n    </tr>\n    <tr>\n      <th>0</th>\n      <td>21.0</td>\n      <td>140.037228</td>\n      <td>10.099401</td>\n      <td>g</td>\n    </tr>\n    <tr>\n      <th>0</th>\n      <td>22.0</td>\n      <td>148.413079</td>\n      <td>10.131055</td>\n      <td>g</td>\n    </tr>\n    <tr>\n      <th>0</th>\n      <td>24.0</td>\n      <td>134.616131</td>\n      <td>11.231055</td>\n      <td>g</td>\n    </tr>\n    <tr>\n      <th>0</th>\n      <td>30.0</td>\n      <td>143.907125</td>\n      <td>11.395918</td>\n      <td>g</td>\n    </tr>\n    <tr>\n      <th>...</th>\n      <td>...</td>\n      <td>...</td>\n      <td>...</td>\n      <td>...</td>\n    </tr>\n    <tr>\n      <th>9</th>\n      <td>81.0</td>\n      <td>149.016644</td>\n      <td>10.755373</td>\n      <td>r</td>\n    </tr>\n    <tr>\n      <th>9</th>\n      <td>85.0</td>\n      <td>130.071670</td>\n      <td>11.960329</td>\n      <td>r</td>\n    </tr>\n    <tr>\n      <th>9</th>\n      <td>86.0</td>\n      <td>136.297942</td>\n      <td>11.419338</td>\n      <td>r</td>\n    </tr>\n    <tr>\n      <th>9</th>\n      <td>88.0</td>\n      <td>134.215481</td>\n      <td>11.202422</td>\n      <td>r</td>\n    </tr>\n    <tr>\n      <th>9</th>\n      <td>89.0</td>\n      <td>147.302751</td>\n      <td>11.271162</td>\n      <td>r</td>\n    </tr>\n  </tbody>\n</table>\n<p>169 rows × 4 columns</p>\n</div>"
     },
     "execution_count": 15,
     "metadata": {},
     "output_type": "execute_result"
    }
   ],
   "source": [
    "ens.select([\"time\", \"flux\", \"error\", \"band\"], table=\"source\")\n",
    "ens.compute(\"source\")"
   ]
  },
  {
   "cell_type": "markdown",
   "metadata": {},
   "source": [
    "## Assignments and Column Manipulation\n",
    "\n",
    "The ensemble object supports assignment through the Dask `assign` function. We can pass in either a callable or a series to assign to the new column. New column names are produced automatically from the argument name.\n",
    "\n",
    "For example, if we want to compute the lower bound of an error range as the estimated flux minus twice the estimated error, we would use:"
   ]
  },
  {
   "cell_type": "code",
   "execution_count": 16,
   "metadata": {
    "ExecuteTime": {
     "end_time": "2023-08-30T14:58:37.097571Z",
     "start_time": "2023-08-30T14:58:36.958927Z"
    }
   },
   "outputs": [
    {
     "data": {
      "text/plain": "    time        flux      error band   lower_bnd\nid                                              \n0   12.0  134.260975  10.685679    g  112.889618\n0   21.0  140.037228  10.099401    g  119.838427\n0   22.0  148.413079  10.131055    g  128.150969\n0   24.0  134.616131  11.231055    g  112.154020\n0   30.0  143.907125  11.395918    g  121.115288\n..   ...         ...        ...  ...         ...\n9   81.0  149.016644  10.755373    r  127.505899\n9   85.0  130.071670  11.960329    r  106.151012\n9   86.0  136.297942  11.419338    r  113.459267\n9   88.0  134.215481  11.202422    r  111.810638\n9   89.0  147.302751  11.271162    r  124.760428\n\n[169 rows x 5 columns]",
      "text/html": "<div>\n<style scoped>\n    .dataframe tbody tr th:only-of-type {\n        vertical-align: middle;\n    }\n\n    .dataframe tbody tr th {\n        vertical-align: top;\n    }\n\n    .dataframe thead th {\n        text-align: right;\n    }\n</style>\n<table border=\"1\" class=\"dataframe\">\n  <thead>\n    <tr style=\"text-align: right;\">\n      <th></th>\n      <th>time</th>\n      <th>flux</th>\n      <th>error</th>\n      <th>band</th>\n      <th>lower_bnd</th>\n    </tr>\n    <tr>\n      <th>id</th>\n      <th></th>\n      <th></th>\n      <th></th>\n      <th></th>\n      <th></th>\n    </tr>\n  </thead>\n  <tbody>\n    <tr>\n      <th>0</th>\n      <td>12.0</td>\n      <td>134.260975</td>\n      <td>10.685679</td>\n      <td>g</td>\n      <td>112.889618</td>\n    </tr>\n    <tr>\n      <th>0</th>\n      <td>21.0</td>\n      <td>140.037228</td>\n      <td>10.099401</td>\n      <td>g</td>\n      <td>119.838427</td>\n    </tr>\n    <tr>\n      <th>0</th>\n      <td>22.0</td>\n      <td>148.413079</td>\n      <td>10.131055</td>\n      <td>g</td>\n      <td>128.150969</td>\n    </tr>\n    <tr>\n      <th>0</th>\n      <td>24.0</td>\n      <td>134.616131</td>\n      <td>11.231055</td>\n      <td>g</td>\n      <td>112.154020</td>\n    </tr>\n    <tr>\n      <th>0</th>\n      <td>30.0</td>\n      <td>143.907125</td>\n      <td>11.395918</td>\n      <td>g</td>\n      <td>121.115288</td>\n    </tr>\n    <tr>\n      <th>...</th>\n      <td>...</td>\n      <td>...</td>\n      <td>...</td>\n      <td>...</td>\n      <td>...</td>\n    </tr>\n    <tr>\n      <th>9</th>\n      <td>81.0</td>\n      <td>149.016644</td>\n      <td>10.755373</td>\n      <td>r</td>\n      <td>127.505899</td>\n    </tr>\n    <tr>\n      <th>9</th>\n      <td>85.0</td>\n      <td>130.071670</td>\n      <td>11.960329</td>\n      <td>r</td>\n      <td>106.151012</td>\n    </tr>\n    <tr>\n      <th>9</th>\n      <td>86.0</td>\n      <td>136.297942</td>\n      <td>11.419338</td>\n      <td>r</td>\n      <td>113.459267</td>\n    </tr>\n    <tr>\n      <th>9</th>\n      <td>88.0</td>\n      <td>134.215481</td>\n      <td>11.202422</td>\n      <td>r</td>\n      <td>111.810638</td>\n    </tr>\n    <tr>\n      <th>9</th>\n      <td>89.0</td>\n      <td>147.302751</td>\n      <td>11.271162</td>\n      <td>r</td>\n      <td>124.760428</td>\n    </tr>\n  </tbody>\n</table>\n<p>169 rows × 5 columns</p>\n</div>"
     },
     "execution_count": 16,
     "metadata": {},
     "output_type": "execute_result"
    }
   ],
   "source": [
    "ens.assign(table=\"source\", lower_bnd=lambda x: x[\"flux\"] - 2.0 * x[\"error\"])\n",
    "ens.compute(table=\"source\")"
   ]
  },
  {
   "attachments": {},
   "cell_type": "markdown",
   "metadata": {},
   "source": [
    "## Batch Analysis\n",
    "\n",
    "The `Ensemble` provides a powerful batching interface, `Ensemble.batch`, with in-built parallelization (provided the input data is in multiple partitions). In addition, TAPE has a suite of analysis functions on-hand for your use. Below, we show the application of `tape.analysis.calc_stetson_J` on our dataset."
   ]
  },
  {
   "cell_type": "code",
   "execution_count": 17,
   "metadata": {
    "ExecuteTime": {
     "end_time": "2023-08-30T14:58:37.492980Z",
     "start_time": "2023-08-30T14:58:36.981314Z"
    }
   },
   "outputs": [
    {
     "data": {
      "text/plain": "id\n0    {'g': -0.8833723170736909, 'r': -0.81291313232...\n1    {'g': -0.7866661902102343, 'r': -0.79927945599...\n2    {'g': -0.8650811883274131, 'r': -0.87939085289...\n3    {'g': -0.9140015912865537, 'r': -0.90284371456...\n4    {'g': -0.8232578922439672, 'r': -0.81922455220...\n5    {'g': -0.668795976899231, 'r': -0.784477243304...\n6    {'g': -0.8115552290707235, 'r': -0.90666227394...\n7    {'g': -0.6217573153267577, 'r': -0.60999974938...\n8    {'g': -0.7001359525394822, 'r': -0.73620435205...\n9    {'g': -0.7266040976469818, 'r': -0.68878460237...\nName: stetsonJ, dtype: object"
     },
     "execution_count": 17,
     "metadata": {},
     "output_type": "execute_result"
    }
   ],
   "source": [
    "# using tape analysis functions\n",
    "from tape.analysis import calc_stetson_J\n",
    "\n",
    "res = ens.batch(calc_stetson_J, compute=True)  # compute is set to true to execute immediately (non-lazily)\n",
    "res"
   ]
  },
  {
   "cell_type": "markdown",
   "source": [
    "## Using light-curve package features\n",
    "\n",
    "`Ensemble.batch` also supports the use of [light-curve](https://pypi.org/project/light-curve/) package feature extractor:"
   ],
   "metadata": {
    "collapsed": false
   }
  },
  {
   "cell_type": "code",
   "execution_count": 18,
   "outputs": [
    {
     "data": {
      "text/plain": "    amplitude  anderson_darling_normal  stetson_K\nid                                               \n0    7.076052                 0.177751   0.834036\n1    8.591493                 0.513749   0.769344\n2    8.141189                 0.392628   0.856307\n3    5.751674                 0.295631   0.809191\n4    7.871321                 0.555775   0.849305\n5    8.666473                 0.342937   0.823194\n6    8.649326                 0.241117   0.832815\n7    8.856443                 1.141906   0.772267\n8    9.297713                 0.984247   0.968132\n9    8.774109                 0.335798   0.754355",
      "text/html": "<div>\n<style scoped>\n    .dataframe tbody tr th:only-of-type {\n        vertical-align: middle;\n    }\n\n    .dataframe tbody tr th {\n        vertical-align: top;\n    }\n\n    .dataframe thead th {\n        text-align: right;\n    }\n</style>\n<table border=\"1\" class=\"dataframe\">\n  <thead>\n    <tr style=\"text-align: right;\">\n      <th></th>\n      <th>amplitude</th>\n      <th>anderson_darling_normal</th>\n      <th>stetson_K</th>\n    </tr>\n    <tr>\n      <th>id</th>\n      <th></th>\n      <th></th>\n      <th></th>\n    </tr>\n  </thead>\n  <tbody>\n    <tr>\n      <th>0</th>\n      <td>7.076052</td>\n      <td>0.177751</td>\n      <td>0.834036</td>\n    </tr>\n    <tr>\n      <th>1</th>\n      <td>8.591493</td>\n      <td>0.513749</td>\n      <td>0.769344</td>\n    </tr>\n    <tr>\n      <th>2</th>\n      <td>8.141189</td>\n      <td>0.392628</td>\n      <td>0.856307</td>\n    </tr>\n    <tr>\n      <th>3</th>\n      <td>5.751674</td>\n      <td>0.295631</td>\n      <td>0.809191</td>\n    </tr>\n    <tr>\n      <th>4</th>\n      <td>7.871321</td>\n      <td>0.555775</td>\n      <td>0.849305</td>\n    </tr>\n    <tr>\n      <th>5</th>\n      <td>8.666473</td>\n      <td>0.342937</td>\n      <td>0.823194</td>\n    </tr>\n    <tr>\n      <th>6</th>\n      <td>8.649326</td>\n      <td>0.241117</td>\n      <td>0.832815</td>\n    </tr>\n    <tr>\n      <th>7</th>\n      <td>8.856443</td>\n      <td>1.141906</td>\n      <td>0.772267</td>\n    </tr>\n    <tr>\n      <th>8</th>\n      <td>9.297713</td>\n      <td>0.984247</td>\n      <td>0.968132</td>\n    </tr>\n    <tr>\n      <th>9</th>\n      <td>8.774109</td>\n      <td>0.335798</td>\n      <td>0.754355</td>\n    </tr>\n  </tbody>\n</table>\n</div>"
     },
     "execution_count": 18,
     "metadata": {},
     "output_type": "execute_result"
    }
   ],
   "source": [
    "import light_curve as licu\n",
    "\n",
    "extractor = licu.Extractor(licu.Amplitude(), licu.AndersonDarlingNormal(), licu.StetsonK())\n",
    "res = ens.batch(extractor, compute=True, band_to_calc=\"g\")\n",
    "res"
   ],
   "metadata": {
    "collapsed": false,
    "ExecuteTime": {
     "end_time": "2023-08-30T14:58:37.514514Z",
     "start_time": "2023-08-30T14:58:37.494001Z"
    }
   }
  },
  {
   "attachments": {},
   "cell_type": "markdown",
   "metadata": {},
   "source": [
    "## Using a Custom Analysis Function\n",
    "The analysis functions contained in TAPE are meant to provide a collection of performant, on-hand routines for common timeseries use cases. However, TAPE is also equipped to handle externally defined functions. Let's walk through a short example of defining a simple custom function and applying it through `Ensemble.batch`.\n",
    "\n",
    "Here we define a simple function, that returns an average flux for each photometric band. It requires an array of fluxes, an array of band labels per measurement, and has a keyword argument for determining which averaging strategy to use (mean or median)."
   ]
  },
  {
   "cell_type": "code",
   "execution_count": 19,
   "metadata": {
    "ExecuteTime": {
     "end_time": "2023-08-30T14:58:37.519972Z",
     "start_time": "2023-08-30T14:58:37.515404Z"
    }
   },
   "outputs": [],
   "source": [
    "import numpy as np\n",
    "\n",
    "\n",
    "# Defining a simple function\n",
    "def my_flux_average(flux_array, band_array, method=\"mean\"):\n",
    "    \"\"\"Read in an array of fluxes, and return the average of the fluxes by band\"\"\"\n",
    "    res = {}\n",
    "    for band in np.unique(band_array):\n",
    "        mask = [band_array == band]  # Create a band by band mask\n",
    "        band_fluxes = flux_array[tuple(mask)]  # Mask the flux array\n",
    "        if method == \"mean\":\n",
    "            res[band] = np.mean(band_fluxes)\n",
    "        elif method == \"median\":\n",
    "            res[band] = np.median(band_fluxes)\n",
    "    return res"
   ]
  },
  {
   "attachments": {},
   "cell_type": "markdown",
   "metadata": {},
   "source": [
    "With the function defined, we next supply it to `Ensemble.batch`. The column labels of the `Ensemble` columns we want to use as arguments must be provided, as well as any keyword arguments. In this case, we pass along `\"flux\"` and `\"band\"`, so that the `Ensemble` will map those columns to `flux_array` and `band_array` respectively. We also pass `method='mean'`, which will pass that kwarg along to `my_flux_average`."
   ]
  },
  {
   "cell_type": "code",
   "execution_count": 20,
   "metadata": {
    "ExecuteTime": {
     "end_time": "2023-08-30T14:58:37.583850Z",
     "start_time": "2023-08-30T14:58:37.519056Z"
    }
   },
   "outputs": [
    {
     "data": {
      "text/plain": "id\n0     {'g': 140.03722843377682, 'r': 138.955084796142}\n1    {'g': 140.91515408243285, 'r': 141.44229039903...\n2    {'g': 139.42093950235392, 'r': 142.21649742828...\n3    {'g': 137.01337116218363, 'r': 139.05032340951...\n4    {'g': 134.61800608117045, 'r': 139.76505837028...\n5    {'g': 135.55144382138587, 'r': 139.41361800167...\n6    {'g': 142.93611137557423, 'r': 137.20679606847...\n7       {'g': 144.52647796976, 'r': 132.2470836256106}\n8     {'g': 144.7469760076462, 'r': 137.5226773361662}\n9    {'g': 136.89977482019205, 'r': 136.29794229244...\nName: id, dtype: object"
     },
     "execution_count": 20,
     "metadata": {},
     "output_type": "execute_result"
    }
   ],
   "source": [
    "# Applying the function to the ensemble\n",
    "res = ens.batch(my_flux_average, \"flux\", \"band\", compute=True, meta=None, method=\"median\")\n",
    "res"
   ]
  },
  {
   "cell_type": "markdown",
   "metadata": {},
   "source": [
    "We see that we now have a `Pandas.series` of `my_average_flux` result by object_id (lightcurve). In many cases, this may not be the ideal output for your function. This output is controlled by the `Dask` `meta` parameter. For more information on this parameter, you can read the `Dask` [documentation](https://blog.dask.org/2022/08/09/understanding-meta-keyword-argument). You may pass the `meta` parameter through `Ensemble.batch`, as shown above."
   ]
  },
  {
   "cell_type": "code",
   "execution_count": 21,
   "metadata": {
    "ExecuteTime": {
     "end_time": "2023-08-30T14:58:37.764841Z",
     "start_time": "2023-08-30T14:58:37.539014Z"
    }
   },
   "outputs": [],
   "source": [
    "ens.client.close()  # Tear down the ensemble client"
   ]
  }
 ],
 "metadata": {
  "kernelspec": {
   "display_name": "py310",
   "language": "python",
   "name": "python3"
  },
  "language_info": {
   "codemirror_mode": {
    "name": "ipython",
    "version": 3
   },
   "file_extension": ".py",
   "mimetype": "text/x-python",
   "name": "python",
   "nbconvert_exporter": "python",
   "pygments_lexer": "ipython3",
   "version": "3.10.12"
  },
  "vscode": {
   "interpreter": {
    "hash": "08968836a6367873274ed1d5e98a07391f42fc3a62bd5aba54afbd7b11ba8673"
   }
  }
 },
 "nbformat": 4,
 "nbformat_minor": 2
}
