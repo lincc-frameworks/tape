{
 "cells": [
  {
   "cell_type": "markdown",
   "id": "5ee0a705-b529-45cc-afb9-382350e63fb6",
   "metadata": {},
   "source": [
    "# PLAsTiCC data exploration with TAPE\n",
    "\n",
    "Let's explore [PLAsTiCC](http://plasticc.org) data!\n",
    "\n",
    "It is publically avilable through [this Zenodo repository](https://zenodo.org/record/2539456)."
   ]
  },
  {
   "cell_type": "code",
   "execution_count": 1,
   "outputs": [],
   "source": [
    "## Uncomment to install packages\n",
    "\n",
    "# !pip install tape joblib requests pyarrow.csv pyarrow"
   ],
   "metadata": {
    "collapsed": false,
    "ExecuteTime": {
     "end_time": "2023-10-19T21:44:32.306550Z",
     "start_time": "2023-10-19T21:44:32.296297Z"
    }
   },
   "id": "a92caa3a0873700f"
  },
  {
   "cell_type": "markdown",
   "id": "8a8570b9-2a7b-4d79-be91-49a1d74d3f84",
   "metadata": {},
   "source": [
    "### Download the data\n",
    "\n",
    "Please get the data from [Zenodo](https://zenodo.org/record/2539456) and put them to the `./plasticc` folder (you may change the location bellow with `DATA_DIR`)."
   ]
  },
  {
   "cell_type": "code",
   "execution_count": 2,
   "outputs": [],
   "source": [
    "from pathlib import Path\n",
    "\n",
    "DATA_DIR = Path(\"./plasticc\")\n",
    "\n",
    "META_FILENAME = \"plasticc_test_metadata.csv\"\n",
    "LC_FILENAMES = [f\"plasticc_test_lightcurves_{i:02d}.csv\" for i in range(1, 12)]\n",
    "# META_FILENAME = \"plasticc_train_metadata.csv.gz\"\n",
    "# LC_FILENAMES = ['plasticc_train_lightcurves.csv.gz']\n",
    "\n",
    "N_PARTITIONS = len(LC_FILENAMES)\n",
    "\n",
    "N_PROCESSORS = 4"
   ],
   "metadata": {
    "collapsed": false,
    "ExecuteTime": {
     "end_time": "2023-10-19T21:44:32.343707Z",
     "start_time": "2023-10-19T21:44:32.301972Z"
    }
   },
   "id": "4866d31cc059f9d7"
  },
  {
   "cell_type": "markdown",
   "source": [
    "You may skip the next cell if you already have the data downloaded in the `DATA_DIR`."
   ],
   "metadata": {
    "collapsed": false
   },
   "id": "f5cea8a584d359ad"
  },
  {
   "cell_type": "markdown",
   "source": [
    "# Read and analyse the data with TAPE"
   ],
   "metadata": {
    "collapsed": false
   },
   "id": "61f1f943627a85da"
  },
  {
   "cell_type": "code",
   "execution_count": 3,
   "outputs": [
    {
     "name": "stdout",
     "output_type": "stream",
     "text": [
      "Loading object table...\n",
      "Loading source tables...\n",
      "Building Ensemble...\n",
      "Starting analysis...\n",
      "First, filter by photoz\n",
      "Extract durations\n",
      "Assign a column\n",
      "Filter by duration\n",
      "Extract Otsu features\n",
      "Assign columns\n",
      "Filter by Otsu features\n",
      "Compute object table\n",
      "CPU times: user 8.47 s, sys: 4.79 s, total: 13.3 s\n",
      "Wall time: 1min 33s\n"
     ]
    }
   ],
   "source": [
    "%%time\n",
    "\n",
    "import light_curve as licu\n",
    "import dask.dataframe as dd\n",
    "from tape import Ensemble, ColumnMapper\n",
    "\n",
    "# In TAPE's (and LSST's) terminology, sources are individual detections,\n",
    "# and objects are the underlying astrophysical objects.\n",
    "\n",
    "# We load object table first, from the metadata file.\n",
    "print(\"Loading object table...\")\n",
    "object_table = dd.read_csv(\n",
    "    DATA_DIR / META_FILENAME,\n",
    "    # Read data chunk by chunk, to avoid loading the whole file into memory.\n",
    "    blocksize=100e6,\n",
    ")\n",
    "\n",
    "# Then we load the sources:\n",
    "print(\"Loading source tables...\")\n",
    "source_table = dd.read_csv(\n",
    "    [DATA_DIR / filename for filename in LC_FILENAMES],\n",
    "    blocksize=100e6,\n",
    ")\n",
    "\n",
    "# Now we can make an Ensemble.\n",
    "# To make parallel processing work we need to partition the data.\n",
    "# After that, when we run analysis, TAPE will distribute the work:\n",
    "# one partition per worker.\n",
    "print(\"Building Ensemble...\")\n",
    "ens = Ensemble(\n",
    "    n_workers=N_PROCESSORS,\n",
    ")\n",
    "ens.from_dask_dataframe(\n",
    "    source_frame=source_table,\n",
    "    object_frame=object_table,\n",
    "    npartitions=None,\n",
    "    column_mapper=ColumnMapper(\n",
    "        id_col='object_id',\n",
    "        time_col='mjd',\n",
    "        flux_col='flux',\n",
    "        err_col='flux_err',\n",
    "        band_col='passband',\n",
    "    ),\n",
    "    # TODO: Doug, please put a comment here about the following line.\n",
    "    sync_tables=False,\n",
    ")\n",
    "\n",
    "# Let's run some analysis!\n",
    "\n",
    "print(\"Starting analysis...\")\n",
    "# First, let's select only Galactic objects, by cutting on hostgal_photoz.\n",
    "print(\"First, filter by photoz\")\n",
    "ens = ens.query(\"hostgal_photoz < 1e-3\", table=\"object\")\n",
    "\n",
    "# Second, let's select persistent sources, by cutting on the duration of the light curve.\n",
    "print(\"Extract durations\")\n",
    "duration = ens.batch(\n",
    "    lambda time, detected: np.ptp(time[np.asarray(detected, dtype=bool)]),\n",
    "    ens._time_col, 'detected_bool',\n",
    "    meta=('duration', 'float64'),\n",
    "    use_map=False,\n",
    "    compute=False,\n",
    ")\n",
    "print(\"Assign a column\")\n",
    "ens.assign(table=\"object\", duration=duration)\n",
    "print(\"Filter by duration\")\n",
    "ens = ens.query(\"duration > 366\", table=\"object\")\n",
    "\n",
    "# Next, we use Otsu's method to split light curves into two groups:\n",
    "# one with high flux, and one with low flux. Eclipsing binaries should have\n",
    "# lower flux group smaller than the higher flux group, but having larger \n",
    "# variability. We use light-curve package to extract these features.\n",
    "# (https://github.com/light-curve/light-curve-python)\n",
    "# For simplicity, we only calculate these features for the i (3) band.\n",
    "print(\"Extract Otsu features\")\n",
    "otsu_features = ens.batch(licu.OtsuSplit(), band_to_calc=3, use_map=False, compute=False)\n",
    "print(\"Assign columns\")\n",
    "ens = ens.assign(\n",
    "    table=\"object\",\n",
    "    otsu_lower_to_all_ratio=otsu_features['otsu_lower_to_all_ratio'],\n",
    "    otsu_std_lower=otsu_features['otsu_std_lower'],\n",
    "    otsu_std_upper=otsu_features['otsu_std_upper'],\n",
    ")\n",
    "print('Filter by Otsu features')\n",
    "ens = ens.query(\n",
    "    \"otsu_lower_to_all_ratio < 0.1 and otsu_std_lower > otsu_std_upper\",\n",
    "    table=\"object\",\n",
    ")\n",
    "print(\"Compute object table\")\n",
    "ens = ens.compute(\"object\")"
   ],
   "metadata": {
    "collapsed": false,
    "ExecuteTime": {
     "end_time": "2023-10-19T21:46:05.654305Z",
     "start_time": "2023-10-19T21:44:32.305950Z"
    }
   },
   "id": "e023704e2d93eb13"
  },
  {
   "cell_type": "code",
   "execution_count": 4,
   "outputs": [
    {
     "data": {
      "text/plain": "                 ra     decl  ddf_bool  hostgal_specz  hostgal_photoz  \\\nobject_id                                                               \n1040934    192.1674 -46.3751         0           -9.0             0.0   \n1145188    104.4141 -12.1773         0           -9.0             0.0   \n1184639    326.9531 -22.8314         0           -9.0             0.0   \n1226593     48.5156 -32.2662         0           -9.0             0.0   \n1227515    183.3398 -16.9578         0           -9.0             0.0   \n...             ...      ...       ...            ...             ...   \n130633244  152.9297 -12.4828         0           -9.0             0.0   \n130634660   36.8182 -46.7685         0           -9.0             0.0   \n130708654   95.0977 -36.0536         0           -9.0             0.0   \n130711141  133.0349 -47.1613         0           -9.0             0.0   \n130760691   41.0377 -60.6234         0           -9.0             0.0   \n\n           hostgal_photoz_err  distmod  mwebv  target  true_target  ...  \\\nobject_id                                                           ...   \n1040934                   0.0     -9.0  0.083       0           65  ...   \n1145188                   0.0     -9.0  0.625       0           16  ...   \n1184639                   0.0     -9.0  0.032       0           16  ...   \n1226593                   0.0     -9.0  0.014       0           65  ...   \n1227515                   0.0     -9.0  0.049       0           16  ...   \n...                       ...      ...    ...     ...          ...  ...   \n130633244                 0.0     -9.0  0.058       0           16  ...   \n130634660                 0.0     -9.0  0.014       0           16  ...   \n130708654                 0.0     -9.0  0.052       0           16  ...   \n130711141                 0.0     -9.0  1.271       0           16  ...   \n130760691                 0.0     -9.0  0.019       0           16  ...   \n\n           tflux_u  tflux_g  tflux_r  tflux_i  tflux_z  tflux_y   duration  \\\nobject_id                                                                    \n1040934        5.7     33.7    110.5    539.1   1183.9   1991.1   410.0927   \n1145188      341.5   3106.7   3207.9   2379.2   1631.3    717.8  1073.9476   \n1184639     2114.8  19954.1  20819.5  15006.2   9573.4   3997.2   728.8966   \n1226593       15.0     25.1     43.4    140.4    285.6    467.0   830.8233   \n1227515      733.2  11232.6  16446.4  14553.2  10543.4   4789.5  1056.0646   \n...            ...      ...      ...      ...      ...      ...        ...   \n130633244    232.1   1957.9   1864.3   1267.8    781.9    319.2  1086.8704   \n130634660     51.2    379.4    331.9    214.8    128.2     51.3   839.7401   \n130708654   2059.7  20970.8  23290.0  17505.6  11486.4   4893.3  1008.0936   \n130711141    489.5   6468.5   7909.4   6421.0   4922.0   2323.3  1025.3035   \n130760691   2253.9  20228.1  20220.5  14140.9   8841.9   3641.2   618.1205   \n\n           otsu_lower_to_all_ratio  otsu_std_lower  otsu_std_upper  \nobject_id                                                           \n1040934                   0.090909       10.038970        7.000799  \n1145188                   0.090909      111.621817       67.960107  \n1184639                   0.086957      563.869493       25.370866  \n1226593                   0.080000       12.008922        4.690816  \n1227515                   0.095238      765.642029      122.818703  \n...                            ...             ...             ...  \n130633244                 0.080000       57.311277       12.255049  \n130634660                 0.080000        8.145193        7.080347  \n130708654                 0.095238     1425.256064      480.315334  \n130711141                 0.095238      139.958460      136.504984  \n130760691                 0.095238      324.107728       39.129642  \n\n[4354 rows x 29 columns]",
      "text/html": "<div>\n<style scoped>\n    .dataframe tbody tr th:only-of-type {\n        vertical-align: middle;\n    }\n\n    .dataframe tbody tr th {\n        vertical-align: top;\n    }\n\n    .dataframe thead th {\n        text-align: right;\n    }\n</style>\n<table border=\"1\" class=\"dataframe\">\n  <thead>\n    <tr style=\"text-align: right;\">\n      <th></th>\n      <th>ra</th>\n      <th>decl</th>\n      <th>ddf_bool</th>\n      <th>hostgal_specz</th>\n      <th>hostgal_photoz</th>\n      <th>hostgal_photoz_err</th>\n      <th>distmod</th>\n      <th>mwebv</th>\n      <th>target</th>\n      <th>true_target</th>\n      <th>...</th>\n      <th>tflux_u</th>\n      <th>tflux_g</th>\n      <th>tflux_r</th>\n      <th>tflux_i</th>\n      <th>tflux_z</th>\n      <th>tflux_y</th>\n      <th>duration</th>\n      <th>otsu_lower_to_all_ratio</th>\n      <th>otsu_std_lower</th>\n      <th>otsu_std_upper</th>\n    </tr>\n    <tr>\n      <th>object_id</th>\n      <th></th>\n      <th></th>\n      <th></th>\n      <th></th>\n      <th></th>\n      <th></th>\n      <th></th>\n      <th></th>\n      <th></th>\n      <th></th>\n      <th></th>\n      <th></th>\n      <th></th>\n      <th></th>\n      <th></th>\n      <th></th>\n      <th></th>\n      <th></th>\n      <th></th>\n      <th></th>\n      <th></th>\n    </tr>\n  </thead>\n  <tbody>\n    <tr>\n      <th>1040934</th>\n      <td>192.1674</td>\n      <td>-46.3751</td>\n      <td>0</td>\n      <td>-9.0</td>\n      <td>0.0</td>\n      <td>0.0</td>\n      <td>-9.0</td>\n      <td>0.083</td>\n      <td>0</td>\n      <td>65</td>\n      <td>...</td>\n      <td>5.7</td>\n      <td>33.7</td>\n      <td>110.5</td>\n      <td>539.1</td>\n      <td>1183.9</td>\n      <td>1991.1</td>\n      <td>410.0927</td>\n      <td>0.090909</td>\n      <td>10.038970</td>\n      <td>7.000799</td>\n    </tr>\n    <tr>\n      <th>1145188</th>\n      <td>104.4141</td>\n      <td>-12.1773</td>\n      <td>0</td>\n      <td>-9.0</td>\n      <td>0.0</td>\n      <td>0.0</td>\n      <td>-9.0</td>\n      <td>0.625</td>\n      <td>0</td>\n      <td>16</td>\n      <td>...</td>\n      <td>341.5</td>\n      <td>3106.7</td>\n      <td>3207.9</td>\n      <td>2379.2</td>\n      <td>1631.3</td>\n      <td>717.8</td>\n      <td>1073.9476</td>\n      <td>0.090909</td>\n      <td>111.621817</td>\n      <td>67.960107</td>\n    </tr>\n    <tr>\n      <th>1184639</th>\n      <td>326.9531</td>\n      <td>-22.8314</td>\n      <td>0</td>\n      <td>-9.0</td>\n      <td>0.0</td>\n      <td>0.0</td>\n      <td>-9.0</td>\n      <td>0.032</td>\n      <td>0</td>\n      <td>16</td>\n      <td>...</td>\n      <td>2114.8</td>\n      <td>19954.1</td>\n      <td>20819.5</td>\n      <td>15006.2</td>\n      <td>9573.4</td>\n      <td>3997.2</td>\n      <td>728.8966</td>\n      <td>0.086957</td>\n      <td>563.869493</td>\n      <td>25.370866</td>\n    </tr>\n    <tr>\n      <th>1226593</th>\n      <td>48.5156</td>\n      <td>-32.2662</td>\n      <td>0</td>\n      <td>-9.0</td>\n      <td>0.0</td>\n      <td>0.0</td>\n      <td>-9.0</td>\n      <td>0.014</td>\n      <td>0</td>\n      <td>65</td>\n      <td>...</td>\n      <td>15.0</td>\n      <td>25.1</td>\n      <td>43.4</td>\n      <td>140.4</td>\n      <td>285.6</td>\n      <td>467.0</td>\n      <td>830.8233</td>\n      <td>0.080000</td>\n      <td>12.008922</td>\n      <td>4.690816</td>\n    </tr>\n    <tr>\n      <th>1227515</th>\n      <td>183.3398</td>\n      <td>-16.9578</td>\n      <td>0</td>\n      <td>-9.0</td>\n      <td>0.0</td>\n      <td>0.0</td>\n      <td>-9.0</td>\n      <td>0.049</td>\n      <td>0</td>\n      <td>16</td>\n      <td>...</td>\n      <td>733.2</td>\n      <td>11232.6</td>\n      <td>16446.4</td>\n      <td>14553.2</td>\n      <td>10543.4</td>\n      <td>4789.5</td>\n      <td>1056.0646</td>\n      <td>0.095238</td>\n      <td>765.642029</td>\n      <td>122.818703</td>\n    </tr>\n    <tr>\n      <th>...</th>\n      <td>...</td>\n      <td>...</td>\n      <td>...</td>\n      <td>...</td>\n      <td>...</td>\n      <td>...</td>\n      <td>...</td>\n      <td>...</td>\n      <td>...</td>\n      <td>...</td>\n      <td>...</td>\n      <td>...</td>\n      <td>...</td>\n      <td>...</td>\n      <td>...</td>\n      <td>...</td>\n      <td>...</td>\n      <td>...</td>\n      <td>...</td>\n      <td>...</td>\n      <td>...</td>\n    </tr>\n    <tr>\n      <th>130633244</th>\n      <td>152.9297</td>\n      <td>-12.4828</td>\n      <td>0</td>\n      <td>-9.0</td>\n      <td>0.0</td>\n      <td>0.0</td>\n      <td>-9.0</td>\n      <td>0.058</td>\n      <td>0</td>\n      <td>16</td>\n      <td>...</td>\n      <td>232.1</td>\n      <td>1957.9</td>\n      <td>1864.3</td>\n      <td>1267.8</td>\n      <td>781.9</td>\n      <td>319.2</td>\n      <td>1086.8704</td>\n      <td>0.080000</td>\n      <td>57.311277</td>\n      <td>12.255049</td>\n    </tr>\n    <tr>\n      <th>130634660</th>\n      <td>36.8182</td>\n      <td>-46.7685</td>\n      <td>0</td>\n      <td>-9.0</td>\n      <td>0.0</td>\n      <td>0.0</td>\n      <td>-9.0</td>\n      <td>0.014</td>\n      <td>0</td>\n      <td>16</td>\n      <td>...</td>\n      <td>51.2</td>\n      <td>379.4</td>\n      <td>331.9</td>\n      <td>214.8</td>\n      <td>128.2</td>\n      <td>51.3</td>\n      <td>839.7401</td>\n      <td>0.080000</td>\n      <td>8.145193</td>\n      <td>7.080347</td>\n    </tr>\n    <tr>\n      <th>130708654</th>\n      <td>95.0977</td>\n      <td>-36.0536</td>\n      <td>0</td>\n      <td>-9.0</td>\n      <td>0.0</td>\n      <td>0.0</td>\n      <td>-9.0</td>\n      <td>0.052</td>\n      <td>0</td>\n      <td>16</td>\n      <td>...</td>\n      <td>2059.7</td>\n      <td>20970.8</td>\n      <td>23290.0</td>\n      <td>17505.6</td>\n      <td>11486.4</td>\n      <td>4893.3</td>\n      <td>1008.0936</td>\n      <td>0.095238</td>\n      <td>1425.256064</td>\n      <td>480.315334</td>\n    </tr>\n    <tr>\n      <th>130711141</th>\n      <td>133.0349</td>\n      <td>-47.1613</td>\n      <td>0</td>\n      <td>-9.0</td>\n      <td>0.0</td>\n      <td>0.0</td>\n      <td>-9.0</td>\n      <td>1.271</td>\n      <td>0</td>\n      <td>16</td>\n      <td>...</td>\n      <td>489.5</td>\n      <td>6468.5</td>\n      <td>7909.4</td>\n      <td>6421.0</td>\n      <td>4922.0</td>\n      <td>2323.3</td>\n      <td>1025.3035</td>\n      <td>0.095238</td>\n      <td>139.958460</td>\n      <td>136.504984</td>\n    </tr>\n    <tr>\n      <th>130760691</th>\n      <td>41.0377</td>\n      <td>-60.6234</td>\n      <td>0</td>\n      <td>-9.0</td>\n      <td>0.0</td>\n      <td>0.0</td>\n      <td>-9.0</td>\n      <td>0.019</td>\n      <td>0</td>\n      <td>16</td>\n      <td>...</td>\n      <td>2253.9</td>\n      <td>20228.1</td>\n      <td>20220.5</td>\n      <td>14140.9</td>\n      <td>8841.9</td>\n      <td>3641.2</td>\n      <td>618.1205</td>\n      <td>0.095238</td>\n      <td>324.107728</td>\n      <td>39.129642</td>\n    </tr>\n  </tbody>\n</table>\n<p>4354 rows × 29 columns</p>\n</div>"
     },
     "execution_count": 4,
     "metadata": {},
     "output_type": "execute_result"
    }
   ],
   "source": [
    "ens"
   ],
   "metadata": {
    "collapsed": false,
    "ExecuteTime": {
     "end_time": "2023-10-19T21:46:05.664734Z",
     "start_time": "2023-10-19T21:46:05.652244Z"
    }
   },
   "id": "5cb78595592d56f6"
  },
  {
   "cell_type": "markdown",
   "source": [
    "### Do the same, but with Pandas + joblib\n",
    "\n",
    "The workflow is challenger here: we don't like to load all the light curves into memory (~20 GBi), so we have to manually jump between object table processing and source table processing.\n",
    "\n",
    "NB: We also need `pyarrow.csv`, but only to read CSVs faster into pandas data-frames."
   ],
   "metadata": {
    "collapsed": false
   },
   "id": "30ba7cd6864f0885"
  },
  {
   "cell_type": "markdown",
   "source": [
    "### Do the same but with Pandas + joblib"
   ],
   "metadata": {
    "collapsed": false
   },
   "id": "9f5b3af283416f73"
  },
  {
   "cell_type": "code",
   "execution_count": 5,
   "outputs": [
    {
     "name": "stdout",
     "output_type": "stream",
     "text": [
      "Loading object table...\n",
      "Pre-filter object table\n",
      "Run analysis in parallel...\n"
     ]
    },
    {
     "name": "stderr",
     "output_type": "stream",
     "text": [
      "/Users/hombit/.virtualenvs/tape/lib/python3.11/site-packages/joblib/externals/loky/process_executor.py:752: UserWarning: A worker stopped while some jobs were given to the executor. This can be caused by a too short worker timeout or by a memory leak.\n",
      "  warnings.warn(\n"
     ]
    },
    {
     "name": "stdout",
     "output_type": "stream",
     "text": [
      "CPU times: user 2.44 s, sys: 624 ms, total: 3.06 s\n",
      "Wall time: 1min 2s\n"
     ]
    },
    {
     "data": {
      "text/plain": "                 ra     decl  ddf_bool  hostgal_specz  hostgal_photoz  \\\nobject_id                                                               \n1040934    192.1674 -46.3751         0           -9.0             0.0   \n1145188    104.4141 -12.1773         0           -9.0             0.0   \n1184639    326.9531 -22.8314         0           -9.0             0.0   \n1226593     48.5156 -32.2662         0           -9.0             0.0   \n1227515    183.3398 -16.9578         0           -9.0             0.0   \n...             ...      ...       ...            ...             ...   \n130633244  152.9297 -12.4828         0           -9.0             0.0   \n130634660   36.8182 -46.7685         0           -9.0             0.0   \n130708654   95.0977 -36.0536         0           -9.0             0.0   \n130711141  133.0349 -47.1613         0           -9.0             0.0   \n130760691   41.0377 -60.6234         0           -9.0             0.0   \n\n           hostgal_photoz_err  distmod  mwebv  target  true_target  ...  \\\nobject_id                                                           ...   \n1040934                   0.0     -9.0  0.083       0           65  ...   \n1145188                   0.0     -9.0  0.625       0           16  ...   \n1184639                   0.0     -9.0  0.032       0           16  ...   \n1226593                   0.0     -9.0  0.014       0           65  ...   \n1227515                   0.0     -9.0  0.049       0           16  ...   \n...                       ...      ...    ...     ...          ...  ...   \n130633244                 0.0     -9.0  0.058       0           16  ...   \n130634660                 0.0     -9.0  0.014       0           16  ...   \n130708654                 0.0     -9.0  0.052       0           16  ...   \n130711141                 0.0     -9.0  1.271       0           16  ...   \n130760691                 0.0     -9.0  0.019       0           16  ...   \n\n           true_rv  true_av  true_peakmjd  libid_cadence  tflux_u  tflux_g  \\\nobject_id                                                                    \n1040934        0.0      0.0       59570.0           9868      5.7     33.7   \n1145188        0.0      0.0       59570.0          48177    341.5   3106.7   \n1184639        0.0      0.0       59570.0          23011   2114.8  19954.1   \n1226593        0.0      0.0       59570.0          27347     15.0     25.1   \n1227515        0.0      0.0       59570.0          29428    733.2  11232.6   \n...            ...      ...           ...            ...      ...      ...   \n130633244      0.0      0.0       59570.0          38515    232.1   1957.9   \n130634660      0.0      0.0       59570.0          39616     51.2    379.4   \n130708654      0.0      0.0       59570.0          17929   2059.7  20970.8   \n130711141      0.0      0.0       59570.0          32180    489.5   6468.5   \n130760691      0.0      0.0       59570.0          38790   2253.9  20228.1   \n\n           tflux_r  tflux_i  tflux_z  tflux_y  \nobject_id                                      \n1040934      110.5    539.1   1183.9   1991.1  \n1145188     3207.9   2379.2   1631.3    717.8  \n1184639    20819.5  15006.2   9573.4   3997.2  \n1226593       43.4    140.4    285.6    467.0  \n1227515    16446.4  14553.2  10543.4   4789.5  \n...            ...      ...      ...      ...  \n130633244   1864.3   1267.8    781.9    319.2  \n130634660    331.9    214.8    128.2     51.3  \n130708654  23290.0  17505.6  11486.4   4893.3  \n130711141   7909.4   6421.0   4922.0   2323.3  \n130760691  20220.5  14140.9   8841.9   3641.2  \n\n[4354 rows x 25 columns]",
      "text/html": "<div>\n<style scoped>\n    .dataframe tbody tr th:only-of-type {\n        vertical-align: middle;\n    }\n\n    .dataframe tbody tr th {\n        vertical-align: top;\n    }\n\n    .dataframe thead th {\n        text-align: right;\n    }\n</style>\n<table border=\"1\" class=\"dataframe\">\n  <thead>\n    <tr style=\"text-align: right;\">\n      <th></th>\n      <th>ra</th>\n      <th>decl</th>\n      <th>ddf_bool</th>\n      <th>hostgal_specz</th>\n      <th>hostgal_photoz</th>\n      <th>hostgal_photoz_err</th>\n      <th>distmod</th>\n      <th>mwebv</th>\n      <th>target</th>\n      <th>true_target</th>\n      <th>...</th>\n      <th>true_rv</th>\n      <th>true_av</th>\n      <th>true_peakmjd</th>\n      <th>libid_cadence</th>\n      <th>tflux_u</th>\n      <th>tflux_g</th>\n      <th>tflux_r</th>\n      <th>tflux_i</th>\n      <th>tflux_z</th>\n      <th>tflux_y</th>\n    </tr>\n    <tr>\n      <th>object_id</th>\n      <th></th>\n      <th></th>\n      <th></th>\n      <th></th>\n      <th></th>\n      <th></th>\n      <th></th>\n      <th></th>\n      <th></th>\n      <th></th>\n      <th></th>\n      <th></th>\n      <th></th>\n      <th></th>\n      <th></th>\n      <th></th>\n      <th></th>\n      <th></th>\n      <th></th>\n      <th></th>\n      <th></th>\n    </tr>\n  </thead>\n  <tbody>\n    <tr>\n      <th>1040934</th>\n      <td>192.1674</td>\n      <td>-46.3751</td>\n      <td>0</td>\n      <td>-9.0</td>\n      <td>0.0</td>\n      <td>0.0</td>\n      <td>-9.0</td>\n      <td>0.083</td>\n      <td>0</td>\n      <td>65</td>\n      <td>...</td>\n      <td>0.0</td>\n      <td>0.0</td>\n      <td>59570.0</td>\n      <td>9868</td>\n      <td>5.7</td>\n      <td>33.7</td>\n      <td>110.5</td>\n      <td>539.1</td>\n      <td>1183.9</td>\n      <td>1991.1</td>\n    </tr>\n    <tr>\n      <th>1145188</th>\n      <td>104.4141</td>\n      <td>-12.1773</td>\n      <td>0</td>\n      <td>-9.0</td>\n      <td>0.0</td>\n      <td>0.0</td>\n      <td>-9.0</td>\n      <td>0.625</td>\n      <td>0</td>\n      <td>16</td>\n      <td>...</td>\n      <td>0.0</td>\n      <td>0.0</td>\n      <td>59570.0</td>\n      <td>48177</td>\n      <td>341.5</td>\n      <td>3106.7</td>\n      <td>3207.9</td>\n      <td>2379.2</td>\n      <td>1631.3</td>\n      <td>717.8</td>\n    </tr>\n    <tr>\n      <th>1184639</th>\n      <td>326.9531</td>\n      <td>-22.8314</td>\n      <td>0</td>\n      <td>-9.0</td>\n      <td>0.0</td>\n      <td>0.0</td>\n      <td>-9.0</td>\n      <td>0.032</td>\n      <td>0</td>\n      <td>16</td>\n      <td>...</td>\n      <td>0.0</td>\n      <td>0.0</td>\n      <td>59570.0</td>\n      <td>23011</td>\n      <td>2114.8</td>\n      <td>19954.1</td>\n      <td>20819.5</td>\n      <td>15006.2</td>\n      <td>9573.4</td>\n      <td>3997.2</td>\n    </tr>\n    <tr>\n      <th>1226593</th>\n      <td>48.5156</td>\n      <td>-32.2662</td>\n      <td>0</td>\n      <td>-9.0</td>\n      <td>0.0</td>\n      <td>0.0</td>\n      <td>-9.0</td>\n      <td>0.014</td>\n      <td>0</td>\n      <td>65</td>\n      <td>...</td>\n      <td>0.0</td>\n      <td>0.0</td>\n      <td>59570.0</td>\n      <td>27347</td>\n      <td>15.0</td>\n      <td>25.1</td>\n      <td>43.4</td>\n      <td>140.4</td>\n      <td>285.6</td>\n      <td>467.0</td>\n    </tr>\n    <tr>\n      <th>1227515</th>\n      <td>183.3398</td>\n      <td>-16.9578</td>\n      <td>0</td>\n      <td>-9.0</td>\n      <td>0.0</td>\n      <td>0.0</td>\n      <td>-9.0</td>\n      <td>0.049</td>\n      <td>0</td>\n      <td>16</td>\n      <td>...</td>\n      <td>0.0</td>\n      <td>0.0</td>\n      <td>59570.0</td>\n      <td>29428</td>\n      <td>733.2</td>\n      <td>11232.6</td>\n      <td>16446.4</td>\n      <td>14553.2</td>\n      <td>10543.4</td>\n      <td>4789.5</td>\n    </tr>\n    <tr>\n      <th>...</th>\n      <td>...</td>\n      <td>...</td>\n      <td>...</td>\n      <td>...</td>\n      <td>...</td>\n      <td>...</td>\n      <td>...</td>\n      <td>...</td>\n      <td>...</td>\n      <td>...</td>\n      <td>...</td>\n      <td>...</td>\n      <td>...</td>\n      <td>...</td>\n      <td>...</td>\n      <td>...</td>\n      <td>...</td>\n      <td>...</td>\n      <td>...</td>\n      <td>...</td>\n      <td>...</td>\n    </tr>\n    <tr>\n      <th>130633244</th>\n      <td>152.9297</td>\n      <td>-12.4828</td>\n      <td>0</td>\n      <td>-9.0</td>\n      <td>0.0</td>\n      <td>0.0</td>\n      <td>-9.0</td>\n      <td>0.058</td>\n      <td>0</td>\n      <td>16</td>\n      <td>...</td>\n      <td>0.0</td>\n      <td>0.0</td>\n      <td>59570.0</td>\n      <td>38515</td>\n      <td>232.1</td>\n      <td>1957.9</td>\n      <td>1864.3</td>\n      <td>1267.8</td>\n      <td>781.9</td>\n      <td>319.2</td>\n    </tr>\n    <tr>\n      <th>130634660</th>\n      <td>36.8182</td>\n      <td>-46.7685</td>\n      <td>0</td>\n      <td>-9.0</td>\n      <td>0.0</td>\n      <td>0.0</td>\n      <td>-9.0</td>\n      <td>0.014</td>\n      <td>0</td>\n      <td>16</td>\n      <td>...</td>\n      <td>0.0</td>\n      <td>0.0</td>\n      <td>59570.0</td>\n      <td>39616</td>\n      <td>51.2</td>\n      <td>379.4</td>\n      <td>331.9</td>\n      <td>214.8</td>\n      <td>128.2</td>\n      <td>51.3</td>\n    </tr>\n    <tr>\n      <th>130708654</th>\n      <td>95.0977</td>\n      <td>-36.0536</td>\n      <td>0</td>\n      <td>-9.0</td>\n      <td>0.0</td>\n      <td>0.0</td>\n      <td>-9.0</td>\n      <td>0.052</td>\n      <td>0</td>\n      <td>16</td>\n      <td>...</td>\n      <td>0.0</td>\n      <td>0.0</td>\n      <td>59570.0</td>\n      <td>17929</td>\n      <td>2059.7</td>\n      <td>20970.8</td>\n      <td>23290.0</td>\n      <td>17505.6</td>\n      <td>11486.4</td>\n      <td>4893.3</td>\n    </tr>\n    <tr>\n      <th>130711141</th>\n      <td>133.0349</td>\n      <td>-47.1613</td>\n      <td>0</td>\n      <td>-9.0</td>\n      <td>0.0</td>\n      <td>0.0</td>\n      <td>-9.0</td>\n      <td>1.271</td>\n      <td>0</td>\n      <td>16</td>\n      <td>...</td>\n      <td>0.0</td>\n      <td>0.0</td>\n      <td>59570.0</td>\n      <td>32180</td>\n      <td>489.5</td>\n      <td>6468.5</td>\n      <td>7909.4</td>\n      <td>6421.0</td>\n      <td>4922.0</td>\n      <td>2323.3</td>\n    </tr>\n    <tr>\n      <th>130760691</th>\n      <td>41.0377</td>\n      <td>-60.6234</td>\n      <td>0</td>\n      <td>-9.0</td>\n      <td>0.0</td>\n      <td>0.0</td>\n      <td>-9.0</td>\n      <td>0.019</td>\n      <td>0</td>\n      <td>16</td>\n      <td>...</td>\n      <td>0.0</td>\n      <td>0.0</td>\n      <td>59570.0</td>\n      <td>38790</td>\n      <td>2253.9</td>\n      <td>20228.1</td>\n      <td>20220.5</td>\n      <td>14140.9</td>\n      <td>8841.9</td>\n      <td>3641.2</td>\n    </tr>\n  </tbody>\n</table>\n<p>4354 rows × 25 columns</p>\n</div>"
     },
     "execution_count": 5,
     "metadata": {},
     "output_type": "execute_result"
    }
   ],
   "source": [
    "%%time\n",
    "\n",
    "import light_curve as licu\n",
    "import numpy as np\n",
    "import pandas as pd\n",
    "import pyarrow as pa\n",
    "from joblib import Parallel, delayed\n",
    "\n",
    "\n",
    "def read_object_table(filename):\n",
    "    # Set number of threads to use when reading CSVs\n",
    "    pa.set_cpu_count(N_PROCESSORS)\n",
    "    pa.set_io_thread_count(N_PROCESSORS)\n",
    "    return pd.read_csv(filename, engine='pyarrow', index_col='object_id')\n",
    "\n",
    "# First we load object table, from the metadata file.\n",
    "print(\"Loading object table...\")\n",
    "object_table = read_object_table(DATA_DIR / META_FILENAME)\n",
    "\n",
    "print(\"Pre-filter object table\")\n",
    "# Before doing light-curve analysis we select only Galactic objects, by cutting on hostgal_photoz.\n",
    "object_table = object_table[object_table['hostgal_photoz'] < 1e-3]\n",
    "\n",
    "\n",
    "def read_source_table(filename):\n",
    "    # We are going to read in parallel, so we set single thread \n",
    "    pa.set_cpu_count(1)\n",
    "    pa.set_io_thread_count(1)\n",
    "    return pd.read_csv(filename, engine='pyarrow', index_col='object_id')\n",
    "\n",
    "\n",
    "def process_source_table(filename):\n",
    "    source_table = read_source_table(filename)\n",
    "    \n",
    "    # Select sources for objects left\n",
    "    source_table = source_table[source_table.index.isin(object_table.index)]\n",
    "    \n",
    "    # Select persistent sources, by cutting on the duration of the light curve.\n",
    "    detections = source_table[source_table['detected_bool'].astype(bool)]\n",
    "    # We need to group detections by object_id, to get light curves:\n",
    "    durations = detections['mjd'].groupby(level=0).apply(np.ptp)\n",
    "    \n",
    "    # Then we filter the source table to keep only persistent sources:\n",
    "    source_table = source_table.loc[durations[durations > 366].index]\n",
    "    \n",
    "    \n",
    "    # Next, we use Otsu's method to split light curves into two groups:\n",
    "    # one with high flux, and one with low flux. Eclipsing binaries should have\n",
    "    # lower flux group significantly smaller than the higher flux group,\n",
    "    # but having larger variability.\n",
    "    # We use light-curve package to extract these features.\n",
    "    # (https://github.com/light-curve/light-curve-python)\n",
    "    # For simplicity, we only calculate these features for the i (3) band.\n",
    "    \n",
    "    otsu_split = licu.OtsuSplit()\n",
    "    i_band_sources = source_table[source_table['passband'] == 3]\n",
    "    otsu_features = i_band_sources[['mjd', 'flux', 'flux_err']].groupby(level=0).apply(lambda row: pd.Series(\n",
    "        otsu_split(\n",
    "            np.asarray(row['mjd']),\n",
    "            np.asarray(row['flux']),\n",
    "            np.asarray(row['flux_err']),\n",
    "            sorted=True,\n",
    "            check=False,\n",
    "        ),\n",
    "        index=otsu_split.names,\n",
    "    ))\n",
    "    \n",
    "    # And filter by Otsu features\n",
    "    otsu_idx = (otsu_features['otsu_lower_to_all_ratio'] < 0.1) & (otsu_features['otsu_std_lower'] > otsu_features['otsu_std_upper'])\n",
    "    \n",
    "    return source_table.loc[otsu_idx.index[otsu_idx]]\n",
    "\n",
    "\n",
    "# Running the main part of the analysis in parallel\n",
    "print(\"Run analysis in parallel...\")\n",
    "source_tables = Parallel(n_jobs=N_PROCESSORS)(\n",
    "    delayed(process_source_table)(DATA_DIR / filename) for filename in LC_FILENAMES\n",
    ")\n",
    "source_table = pd.concat(source_tables, ignore_index=False, sort=True)\n",
    "object_table = object_table.loc[np.unique(source_table.index)]\n",
    "object_table"
   ],
   "metadata": {
    "collapsed": false,
    "ExecuteTime": {
     "end_time": "2023-10-19T21:47:08.585939Z",
     "start_time": "2023-10-19T21:46:05.667702Z"
    }
   },
   "id": "50cd141e7891a5fe"
  },
  {
   "cell_type": "markdown",
   "source": [
    "### Do the same, but with Pandas+PyArrow w/ nested arrays for dataframes, and joblib for parallelism"
   ],
   "metadata": {
    "collapsed": false
   },
   "id": "c92b01b629070426"
  },
  {
   "cell_type": "code",
   "execution_count": 6,
   "outputs": [
    {
     "name": "stdout",
     "output_type": "stream",
     "text": [
      "Loading object table...\n",
      "Run analysis in parallel...\n"
     ]
    },
    {
     "name": "stderr",
     "output_type": "stream",
     "text": [
      "/Users/hombit/.virtualenvs/tape/lib/python3.11/site-packages/joblib/externals/loky/process_executor.py:752: UserWarning: A worker stopped while some jobs were given to the executor. This can be caused by a too short worker timeout or by a memory leak.\n",
      "  warnings.warn(\n"
     ]
    },
    {
     "name": "stdout",
     "output_type": "stream",
     "text": [
      "CPU times: user 2.35 s, sys: 954 ms, total: 3.3 s\n",
      "Wall time: 39.1 s\n"
     ]
    },
    {
     "data": {
      "text/plain": "           ddf_bool     decl  \\\n1040934           0 -46.3751   \n1145188           0 -12.1773   \n1184639           0 -22.8314   \n1226593           0 -32.2662   \n1227515           0 -16.9578   \n...             ...      ...   \n130633244         0 -12.4828   \n130634660         0 -46.7685   \n130708654         0 -36.0536   \n130711141         0 -47.1613   \n130760691         0 -60.6234   \n\n                                               detected_bool  distmod  \\\n1040934    [0 0 0 0 0 0 0 0 0 0 0 0 0 1 0 0 0 0 0 0 0 0 0...     -9.0   \n1145188    [0 0 1 0 0 0 0 0 0 0 0 0 0 0 0 0 0 0 0 0 0 1 0...     -9.0   \n1184639    [0 0 1 0 0 0 0 0 0 0 0 0 0 0 0 0 0 0 0 0 0 1 0...     -9.0   \n1226593    [1 1 0 0 0 0 1 1 1 0 0 0 0 0 0 0 0 0 1 0 0 0 0...     -9.0   \n1227515    [1 1 1 1 1 1 1 1 0 0 0 1 0 1 1 0 1 0 1 1 1 0 1...     -9.0   \n...                                                      ...      ...   \n130633244  [0 0 1 0 0 1 0 0 0 0 0 0 0 0 0 0 0 0 0 1 0 0 0...     -9.0   \n130634660  [0 0 0 0 0 0 0 0 1 0 0 0 1 1 1 0 0 0 0 0 1 0 1...     -9.0   \n130708654  [0 0 0 0 0 0 0 0 0 0 1 0 0 0 0 0 0 0 0 0 0 0 0...     -9.0   \n130711141  [0 0 0 0 0 0 0 0 0 1 0 0 0 0 0 0 0 0 1 0 0 0 1...     -9.0   \n130760691  [0 0 0 0 0 0 0 0 0 0 0 0 0 0 0 0 0 0 0 0 0 0 0...     -9.0   \n\n                                                        flux  \\\n1040934    [-7.13183500e+00 -1.67555400e+00 -1.46274040e+...   \n1145188    [ 2.01896759e+02 -5.43462720e+01  9.20216140e+...   \n1184639    [-2.22401620e+01 -5.80760500e+00 -5.58351074e+...   \n1226593    [ -18.450275  -18.901358  -15.503196  -17.5606...   \n1227515    [  256.808472   580.386169 -2067.059082   384....   \n...                                                      ...   \n130633244  [  15.281292   23.143011   30.033777   46.8806...   \n130634660  [  5.489279  13.043737 -10.158617   6.849087  ...   \n130708654  [ 2.51816560e+01  1.28216450e+01 -1.20907370e+...   \n130711141  [-9.37930847e+02  2.62816498e+02  1.42802277e+...   \n130760691  [-4.13541700e+00  1.14191320e+01 -2.29709000e+...   \n\n                                                    flux_err  hostgal_photoz  \\\n1040934    [24.910471  8.225894 29.578571 30.817764 18.80...             0.0   \n1145188    [132.012451  89.273819  13.01166   21.845282  ...             0.0   \n1184639    [16.597025 11.437782 27.755817 29.08077  12.45...             0.0   \n1226593    [ 2.760279  1.630008  8.030293  5.243636 16.38...             0.0   \n1227515    [ 9.375149 12.195236 17.249441 24.435997 24.77...             0.0   \n...                                                      ...             ...   \n130633244  [12.860787  9.366933  9.572536 30.774542 46.54...             0.0   \n130634660  [11.924296  8.830238 13.986683 22.594     7.65...             0.0   \n130708654  [42.871826 28.221752 31.46002  26.589155 18.64...             0.0   \n130711141  [1199.095215  118.098534   49.441616   48.4889...             0.0   \n130760691  [24.223265  7.976797 11.325027  6.510877 22.26...             0.0   \n\n           hostgal_photoz_err  hostgal_specz  libid_cadence  ...  tflux_z  \\\n1040934                   0.0           -9.0           9868  ...   1183.9   \n1145188                   0.0           -9.0          48177  ...   1631.3   \n1184639                   0.0           -9.0          23011  ...   9573.4   \n1226593                   0.0           -9.0          27347  ...    285.6   \n1227515                   0.0           -9.0          29428  ...  10543.4   \n...                       ...            ...            ...  ...      ...   \n130633244                 0.0           -9.0          38515  ...    781.9   \n130634660                 0.0           -9.0          39616  ...    128.2   \n130708654                 0.0           -9.0          17929  ...  11486.4   \n130711141                 0.0           -9.0          32180  ...   4922.0   \n130760691                 0.0           -9.0          38790  ...   8841.9   \n\n           true_av true_distmod  true_lensdmu  true_peakmjd  true_rv  \\\n1040934        0.0          0.0           0.0       59570.0      0.0   \n1145188        0.0          0.0           0.0       59570.0      0.0   \n1184639        0.0          0.0           0.0       59570.0      0.0   \n1226593        0.0          0.0           0.0       59570.0      0.0   \n1227515        0.0          0.0           0.0       59570.0      0.0   \n...            ...          ...           ...           ...      ...   \n130633244      0.0          0.0           0.0       59570.0      0.0   \n130634660      0.0          0.0           0.0       59570.0      0.0   \n130708654      0.0          0.0           0.0       59570.0      0.0   \n130711141      0.0          0.0           0.0       59570.0      0.0   \n130760691      0.0          0.0           0.0       59570.0      0.0   \n\n           true_submodel  true_target  true_vpec  true_z  \n1040934                1           65        0.0     0.0  \n1145188                1           16        0.0     0.0  \n1184639                1           16        0.0     0.0  \n1226593                1           65        0.0     0.0  \n1227515                1           16        0.0     0.0  \n...                  ...          ...        ...     ...  \n130633244              1           16        0.0     0.0  \n130634660              1           16        0.0     0.0  \n130708654              1           16        0.0     0.0  \n130711141              1           16        0.0     0.0  \n130760691              1           16        0.0     0.0  \n\n[4354 rows x 30 columns]",
      "text/html": "<div>\n<style scoped>\n    .dataframe tbody tr th:only-of-type {\n        vertical-align: middle;\n    }\n\n    .dataframe tbody tr th {\n        vertical-align: top;\n    }\n\n    .dataframe thead th {\n        text-align: right;\n    }\n</style>\n<table border=\"1\" class=\"dataframe\">\n  <thead>\n    <tr style=\"text-align: right;\">\n      <th></th>\n      <th>ddf_bool</th>\n      <th>decl</th>\n      <th>detected_bool</th>\n      <th>distmod</th>\n      <th>flux</th>\n      <th>flux_err</th>\n      <th>hostgal_photoz</th>\n      <th>hostgal_photoz_err</th>\n      <th>hostgal_specz</th>\n      <th>libid_cadence</th>\n      <th>...</th>\n      <th>tflux_z</th>\n      <th>true_av</th>\n      <th>true_distmod</th>\n      <th>true_lensdmu</th>\n      <th>true_peakmjd</th>\n      <th>true_rv</th>\n      <th>true_submodel</th>\n      <th>true_target</th>\n      <th>true_vpec</th>\n      <th>true_z</th>\n    </tr>\n  </thead>\n  <tbody>\n    <tr>\n      <th>1040934</th>\n      <td>0</td>\n      <td>-46.3751</td>\n      <td>[0 0 0 0 0 0 0 0 0 0 0 0 0 1 0 0 0 0 0 0 0 0 0...</td>\n      <td>-9.0</td>\n      <td>[-7.13183500e+00 -1.67555400e+00 -1.46274040e+...</td>\n      <td>[24.910471  8.225894 29.578571 30.817764 18.80...</td>\n      <td>0.0</td>\n      <td>0.0</td>\n      <td>-9.0</td>\n      <td>9868</td>\n      <td>...</td>\n      <td>1183.9</td>\n      <td>0.0</td>\n      <td>0.0</td>\n      <td>0.0</td>\n      <td>59570.0</td>\n      <td>0.0</td>\n      <td>1</td>\n      <td>65</td>\n      <td>0.0</td>\n      <td>0.0</td>\n    </tr>\n    <tr>\n      <th>1145188</th>\n      <td>0</td>\n      <td>-12.1773</td>\n      <td>[0 0 1 0 0 0 0 0 0 0 0 0 0 0 0 0 0 0 0 0 0 1 0...</td>\n      <td>-9.0</td>\n      <td>[ 2.01896759e+02 -5.43462720e+01  9.20216140e+...</td>\n      <td>[132.012451  89.273819  13.01166   21.845282  ...</td>\n      <td>0.0</td>\n      <td>0.0</td>\n      <td>-9.0</td>\n      <td>48177</td>\n      <td>...</td>\n      <td>1631.3</td>\n      <td>0.0</td>\n      <td>0.0</td>\n      <td>0.0</td>\n      <td>59570.0</td>\n      <td>0.0</td>\n      <td>1</td>\n      <td>16</td>\n      <td>0.0</td>\n      <td>0.0</td>\n    </tr>\n    <tr>\n      <th>1184639</th>\n      <td>0</td>\n      <td>-22.8314</td>\n      <td>[0 0 1 0 0 0 0 0 0 0 0 0 0 0 0 0 0 0 0 0 0 1 0...</td>\n      <td>-9.0</td>\n      <td>[-2.22401620e+01 -5.80760500e+00 -5.58351074e+...</td>\n      <td>[16.597025 11.437782 27.755817 29.08077  12.45...</td>\n      <td>0.0</td>\n      <td>0.0</td>\n      <td>-9.0</td>\n      <td>23011</td>\n      <td>...</td>\n      <td>9573.4</td>\n      <td>0.0</td>\n      <td>0.0</td>\n      <td>0.0</td>\n      <td>59570.0</td>\n      <td>0.0</td>\n      <td>1</td>\n      <td>16</td>\n      <td>0.0</td>\n      <td>0.0</td>\n    </tr>\n    <tr>\n      <th>1226593</th>\n      <td>0</td>\n      <td>-32.2662</td>\n      <td>[1 1 0 0 0 0 1 1 1 0 0 0 0 0 0 0 0 0 1 0 0 0 0...</td>\n      <td>-9.0</td>\n      <td>[ -18.450275  -18.901358  -15.503196  -17.5606...</td>\n      <td>[ 2.760279  1.630008  8.030293  5.243636 16.38...</td>\n      <td>0.0</td>\n      <td>0.0</td>\n      <td>-9.0</td>\n      <td>27347</td>\n      <td>...</td>\n      <td>285.6</td>\n      <td>0.0</td>\n      <td>0.0</td>\n      <td>0.0</td>\n      <td>59570.0</td>\n      <td>0.0</td>\n      <td>1</td>\n      <td>65</td>\n      <td>0.0</td>\n      <td>0.0</td>\n    </tr>\n    <tr>\n      <th>1227515</th>\n      <td>0</td>\n      <td>-16.9578</td>\n      <td>[1 1 1 1 1 1 1 1 0 0 0 1 0 1 1 0 1 0 1 1 1 0 1...</td>\n      <td>-9.0</td>\n      <td>[  256.808472   580.386169 -2067.059082   384....</td>\n      <td>[ 9.375149 12.195236 17.249441 24.435997 24.77...</td>\n      <td>0.0</td>\n      <td>0.0</td>\n      <td>-9.0</td>\n      <td>29428</td>\n      <td>...</td>\n      <td>10543.4</td>\n      <td>0.0</td>\n      <td>0.0</td>\n      <td>0.0</td>\n      <td>59570.0</td>\n      <td>0.0</td>\n      <td>1</td>\n      <td>16</td>\n      <td>0.0</td>\n      <td>0.0</td>\n    </tr>\n    <tr>\n      <th>...</th>\n      <td>...</td>\n      <td>...</td>\n      <td>...</td>\n      <td>...</td>\n      <td>...</td>\n      <td>...</td>\n      <td>...</td>\n      <td>...</td>\n      <td>...</td>\n      <td>...</td>\n      <td>...</td>\n      <td>...</td>\n      <td>...</td>\n      <td>...</td>\n      <td>...</td>\n      <td>...</td>\n      <td>...</td>\n      <td>...</td>\n      <td>...</td>\n      <td>...</td>\n      <td>...</td>\n    </tr>\n    <tr>\n      <th>130633244</th>\n      <td>0</td>\n      <td>-12.4828</td>\n      <td>[0 0 1 0 0 1 0 0 0 0 0 0 0 0 0 0 0 0 0 1 0 0 0...</td>\n      <td>-9.0</td>\n      <td>[  15.281292   23.143011   30.033777   46.8806...</td>\n      <td>[12.860787  9.366933  9.572536 30.774542 46.54...</td>\n      <td>0.0</td>\n      <td>0.0</td>\n      <td>-9.0</td>\n      <td>38515</td>\n      <td>...</td>\n      <td>781.9</td>\n      <td>0.0</td>\n      <td>0.0</td>\n      <td>0.0</td>\n      <td>59570.0</td>\n      <td>0.0</td>\n      <td>1</td>\n      <td>16</td>\n      <td>0.0</td>\n      <td>0.0</td>\n    </tr>\n    <tr>\n      <th>130634660</th>\n      <td>0</td>\n      <td>-46.7685</td>\n      <td>[0 0 0 0 0 0 0 0 1 0 0 0 1 1 1 0 0 0 0 0 1 0 1...</td>\n      <td>-9.0</td>\n      <td>[  5.489279  13.043737 -10.158617   6.849087  ...</td>\n      <td>[11.924296  8.830238 13.986683 22.594     7.65...</td>\n      <td>0.0</td>\n      <td>0.0</td>\n      <td>-9.0</td>\n      <td>39616</td>\n      <td>...</td>\n      <td>128.2</td>\n      <td>0.0</td>\n      <td>0.0</td>\n      <td>0.0</td>\n      <td>59570.0</td>\n      <td>0.0</td>\n      <td>1</td>\n      <td>16</td>\n      <td>0.0</td>\n      <td>0.0</td>\n    </tr>\n    <tr>\n      <th>130708654</th>\n      <td>0</td>\n      <td>-36.0536</td>\n      <td>[0 0 0 0 0 0 0 0 0 0 1 0 0 0 0 0 0 0 0 0 0 0 0...</td>\n      <td>-9.0</td>\n      <td>[ 2.51816560e+01  1.28216450e+01 -1.20907370e+...</td>\n      <td>[42.871826 28.221752 31.46002  26.589155 18.64...</td>\n      <td>0.0</td>\n      <td>0.0</td>\n      <td>-9.0</td>\n      <td>17929</td>\n      <td>...</td>\n      <td>11486.4</td>\n      <td>0.0</td>\n      <td>0.0</td>\n      <td>0.0</td>\n      <td>59570.0</td>\n      <td>0.0</td>\n      <td>1</td>\n      <td>16</td>\n      <td>0.0</td>\n      <td>0.0</td>\n    </tr>\n    <tr>\n      <th>130711141</th>\n      <td>0</td>\n      <td>-47.1613</td>\n      <td>[0 0 0 0 0 0 0 0 0 1 0 0 0 0 0 0 0 0 1 0 0 0 1...</td>\n      <td>-9.0</td>\n      <td>[-9.37930847e+02  2.62816498e+02  1.42802277e+...</td>\n      <td>[1199.095215  118.098534   49.441616   48.4889...</td>\n      <td>0.0</td>\n      <td>0.0</td>\n      <td>-9.0</td>\n      <td>32180</td>\n      <td>...</td>\n      <td>4922.0</td>\n      <td>0.0</td>\n      <td>0.0</td>\n      <td>0.0</td>\n      <td>59570.0</td>\n      <td>0.0</td>\n      <td>1</td>\n      <td>16</td>\n      <td>0.0</td>\n      <td>0.0</td>\n    </tr>\n    <tr>\n      <th>130760691</th>\n      <td>0</td>\n      <td>-60.6234</td>\n      <td>[0 0 0 0 0 0 0 0 0 0 0 0 0 0 0 0 0 0 0 0 0 0 0...</td>\n      <td>-9.0</td>\n      <td>[-4.13541700e+00  1.14191320e+01 -2.29709000e+...</td>\n      <td>[24.223265  7.976797 11.325027  6.510877 22.26...</td>\n      <td>0.0</td>\n      <td>0.0</td>\n      <td>-9.0</td>\n      <td>38790</td>\n      <td>...</td>\n      <td>8841.9</td>\n      <td>0.0</td>\n      <td>0.0</td>\n      <td>0.0</td>\n      <td>59570.0</td>\n      <td>0.0</td>\n      <td>1</td>\n      <td>16</td>\n      <td>0.0</td>\n      <td>0.0</td>\n    </tr>\n  </tbody>\n</table>\n<p>4354 rows × 30 columns</p>\n</div>"
     },
     "execution_count": 6,
     "metadata": {},
     "output_type": "execute_result"
    }
   ],
   "source": [
    "%%time\n",
    "\n",
    "import light_curve as licu\n",
    "import numpy as np\n",
    "import pandas as pd\n",
    "import pyarrow as pa\n",
    "import pyarrow.csv as pacsv\n",
    "from joblib import Parallel, delayed\n",
    "\n",
    "# Read the data\n",
    "# -------------\n",
    "\n",
    "def read_object_table(filename):\n",
    "    pa.set_cpu_count(N_PROCESSORS)\n",
    "    pa.set_io_thread_count(N_PROCESSORS)\n",
    "    object_table = pacsv.read_csv(\n",
    "        filename,\n",
    "        # We'd like to load the whole file into a single partition\n",
    "        read_options=pacsv.ReadOptions(block_size=np.iinfo(np.int32).max),\n",
    "    )\n",
    "    df = pd.DataFrame(\n",
    "        {\n",
    "            col: pd.Series(\n",
    "                object_table[col],\n",
    "                dtype=pd.ArrowDtype(object_table[col].type),\n",
    "                index=object_table['object_id'],\n",
    "                copy=False,\n",
    "            )\n",
    "            for col in object_table.column_names if col != 'object_id'\n",
    "        },\n",
    "    )\n",
    "    diff_index = np.diff(df.index.values)\n",
    "    assert np.all(diff_index > 0), \"Object table index must be strictly sorted.\"\n",
    "    return df\n",
    "\n",
    "# First we load object table, from the metadata file.\n",
    "print(\"Loading object table...\")\n",
    "object_table = read_object_table(DATA_DIR / META_FILENAME)\n",
    "object_table = object_table[object_table['hostgal_photoz'] < 1e-3]\n",
    "\n",
    "\n",
    "def read_source_table(filename):\n",
    "    table = pacsv.read_csv(\n",
    "        filename,\n",
    "        # We'd like to have a partition per an original file\n",
    "        read_options=pacsv.ReadOptions(block_size=np.iinfo(np.int32).max),\n",
    "    )\n",
    "    df = pd.DataFrame(\n",
    "        {\n",
    "            col: pd.Series(\n",
    "                table[col],\n",
    "                dtype=pd.ArrowDtype(table[col].type),\n",
    "                index=table['object_id'],\n",
    "                copy=False,\n",
    "            )\n",
    "            for col in table.column_names if col != 'object_id'\n",
    "        },\n",
    "    )\n",
    "    return df\n",
    "\n",
    "def nested_array_view(df):\n",
    "    # Strict sorting is actually not required,\n",
    "    # what is required is that index is batched by object_id, so single source objects are not split.\n",
    "    # Here for simplicity we assume that the index is strictly sorted.\n",
    "    \n",
    "    index_diff = np.diff(df.index.values, prepend=df.index.values[0]-1, append=df.index.values[-1]+1)\n",
    "    if np.any(index_diff < 0):\n",
    "        raise ValueError(\"Table index must be strictly sorted.\")\n",
    "    offset = np.nonzero(index_diff)[0]\n",
    "    object_index = df.index.values[offset[:-1]]\n",
    "    \n",
    "    series_ = {}\n",
    "    for column in df.columns:\n",
    "        list_array = pa.ListArray.from_arrays(\n",
    "            offset,\n",
    "            pa.array(df[column]),\n",
    "        )\n",
    "        series_[column] = pd.Series(\n",
    "            list_array,\n",
    "            dtype=pd.ArrowDtype(list_array.type),\n",
    "            index=object_index,\n",
    "            copy=False,\n",
    "        )\n",
    "    return pd.DataFrame(series_)\n",
    "\n",
    "\n",
    "def flat_view(df):\n",
    "    series_ = {}\n",
    "    index = None\n",
    "    \n",
    "    for column in df.columns:\n",
    "        if not is_list_dtype(df[column]):\n",
    "            continue\n",
    "        list_array = pa.array(df[column])\n",
    "        if index is None:\n",
    "            index = np.repeat(df.index.values, np.diff(list_array.offsets))\n",
    "        series_[column] = pd.Series(\n",
    "            list_array.flatten(),\n",
    "            dtype=pd.ArrowDtype(list_array.type.value_type),\n",
    "            index=index,\n",
    "            copy=False,\n",
    "        )\n",
    "    \n",
    "    if index is None:\n",
    "        raise ValueError(\"No nested arrays in the dataframe.\")\n",
    "    \n",
    "    return pd.DataFrame(series_)\n",
    "    \n",
    "\n",
    "def is_list_dtype(series):\n",
    "    dtype = series.dtype\n",
    "    try:\n",
    "        pyarrow_dtype = dtype.pyarrow_dtype\n",
    "    except AttributeError:\n",
    "        return False\n",
    "    return pa.types.is_list(pyarrow_dtype)\n",
    "\n",
    "\n",
    "def apply_validity_mask_df(df, validity_mask):\n",
    "    validity_bitmask = np.packbits(validity_mask, bitorder='little')\n",
    "    validity_mask_buffer = pa.py_buffer(validity_bitmask)\n",
    "    \n",
    "    series_ = {}\n",
    "    for column in df.columns:\n",
    "        if not is_list_dtype(df[column]):\n",
    "            series_[column] = df[column]\n",
    "            continue\n",
    "        list_array = pa.array(df[column])\n",
    "        value_array = pa.Array.from_buffers(\n",
    "            list_array.values.type,\n",
    "            len(list_array.values),\n",
    "            [validity_mask_buffer, list_array.buffers()[3]]\n",
    "        )\n",
    "        masked_list_array = pa.Array.from_buffers(\n",
    "            list_array.type,\n",
    "            len(list_array),\n",
    "            list_array.buffers()[:2],\n",
    "            children=[value_array],\n",
    "        )\n",
    "        series_[column] = pd.Series(\n",
    "            masked_list_array,\n",
    "            dtype=pd.ArrowDtype(masked_list_array.type),\n",
    "            index=df.index,\n",
    "            copy=False,\n",
    "        )\n",
    "    return pd.DataFrame(series_)\n",
    "\n",
    "def process_source_table(filename):\n",
    "    # Disable parallelism in pyarrow, because we are going to use joblib\n",
    "    pa.set_cpu_count(1)\n",
    "    pa.set_io_thread_count(1)\n",
    "    \n",
    "    # Read the source table\n",
    "    source_table = read_source_table(filename)\n",
    "    # Convert it to nested arrays\n",
    "    source_table_view = nested_array_view(source_table)\n",
    "    # Join with object table by index\n",
    "    df = source_table_view.join(object_table, how='inner')\n",
    "    \n",
    "    # Next, we have two ways to filter sources:\n",
    "    # 1. Create a mask in the original data\n",
    "    # 2. Create a new copy of the date like we do in pandas\n",
    "    # Attempt to do the first approach:\n",
    "    # detections = apply_validity_mask_df(df, source_table['detected_bool']) \n",
    "    # The first one is actually not supported by pandas currently, so we do the second one.\n",
    "    detections = flat_view(df)\n",
    "    detections = detections[detections['detected_bool'].astype(bool)]\n",
    "    detections = nested_array_view(detections)\n",
    "    \n",
    "    durations = detections['mjd'].apply(np.ptp)\n",
    "    \n",
    "    # Then we filter the source table to keep only persistent sources:\n",
    "    df = df.loc[durations > 366]\n",
    "    \n",
    "    # Now we do the second way to filter sources and select i-band (3) sources:\n",
    "    source_table = flat_view(df)\n",
    "    i_band_sources = source_table[source_table['passband'] == 3]\n",
    "    i_band_sources_view = nested_array_view(i_band_sources)\n",
    "    \n",
    "    # So now we can apply Otsu features to this view\n",
    "    otsu_split = licu.OtsuSplit()\n",
    "    # For some reason I cannot apply for the table with few columns only,\n",
    "    # so I apply for the whole table\n",
    "    otsu_features = i_band_sources_view.apply(\n",
    "        lambda row: pd.Series(\n",
    "            otsu_split(\n",
    "                row['mjd'],\n",
    "                row['flux'],\n",
    "                row['flux_err'],\n",
    "                sorted=True,\n",
    "                check=False,\n",
    "            ),\n",
    "            index=otsu_split.names,\n",
    "        ),\n",
    "        axis=1\n",
    "    )\n",
    "    \n",
    "    # And filter by Otsu features\n",
    "    otsu_idx = (otsu_features['otsu_lower_to_all_ratio'] < 0.1) & (otsu_features['otsu_std_lower'] > otsu_features['otsu_std_upper'])\n",
    "    df = df.loc[otsu_idx.index[otsu_idx]]\n",
    "    \n",
    "    return df\n",
    "\n",
    "# Running the main part of the analysis in parallel\n",
    "print(\"Run analysis in parallel...\")\n",
    "dfs = Parallel(n_jobs=N_PROCESSORS)(\n",
    "    delayed(process_source_table)(DATA_DIR / filename) for filename in LC_FILENAMES\n",
    ")\n",
    "# dfs = [process_source_table(DATA_DIR / filename) for filename in LC_FILENAMES[1:2]]\n",
    "df = pd.concat(dfs, ignore_index=False, sort=True)\n",
    "df"
   ],
   "metadata": {
    "collapsed": false,
    "ExecuteTime": {
     "end_time": "2023-10-19T21:47:47.704622Z",
     "start_time": "2023-10-19T21:47:08.592110Z"
    }
   },
   "id": "9e215607e9fd17fd"
  },
  {
   "cell_type": "code",
   "execution_count": 7,
   "outputs": [
    {
     "ename": "NameError",
     "evalue": "name 'extract_band' is not defined",
     "output_type": "error",
     "traceback": [
      "\u001B[0;31m---------------------------------------------------------------------------\u001B[0m",
      "\u001B[0;31mNameError\u001B[0m                                 Traceback (most recent call last)",
      "Cell \u001B[0;32mIn[7], line 25\u001B[0m\n\u001B[1;32m     23\u001B[0m \u001B[38;5;66;03m# Random objects from the selected sample\u001B[39;00m\n\u001B[1;32m     24\u001B[0m \u001B[38;5;28;01mfor\u001B[39;00m row \u001B[38;5;129;01min\u001B[39;00m object_table[object_table[\u001B[38;5;124m'\u001B[39m\u001B[38;5;124mtrue_target\u001B[39m\u001B[38;5;124m'\u001B[39m] \u001B[38;5;241m==\u001B[39m \u001B[38;5;241m16\u001B[39m]\u001B[38;5;241m.\u001B[39msample(\u001B[38;5;241m5\u001B[39m, random_state\u001B[38;5;241m=\u001B[39m\u001B[38;5;241m0\u001B[39m)\u001B[38;5;241m.\u001B[39mitertuples():\n\u001B[0;32m---> 25\u001B[0m     \u001B[43mplot\u001B[49m\u001B[43m(\u001B[49m\u001B[43mrow\u001B[49m\u001B[43m)\u001B[49m\n\u001B[1;32m     27\u001B[0m \u001B[38;5;66;03m# Random objects from the selected sample\u001B[39;00m\n\u001B[1;32m     28\u001B[0m \u001B[38;5;28;01mfor\u001B[39;00m row \u001B[38;5;129;01min\u001B[39;00m df\u001B[38;5;241m.\u001B[39msample(\u001B[38;5;241m5\u001B[39m, random_state\u001B[38;5;241m=\u001B[39m\u001B[38;5;241m0\u001B[39m)\u001B[38;5;241m.\u001B[39mitertuples():\n",
      "Cell \u001B[0;32mIn[7], line 11\u001B[0m, in \u001B[0;36mplot\u001B[0;34m(row)\u001B[0m\n\u001B[1;32m      9\u001B[0m plt\u001B[38;5;241m.\u001B[39mylabel(\u001B[38;5;124m'\u001B[39m\u001B[38;5;124mFlux, zp=27.5\u001B[39m\u001B[38;5;124m'\u001B[39m)\n\u001B[1;32m     10\u001B[0m \u001B[38;5;28;01mfor\u001B[39;00m band_idx, band_name \u001B[38;5;129;01min\u001B[39;00m \u001B[38;5;28menumerate\u001B[39m(LSST_BANDS):\n\u001B[0;32m---> 11\u001B[0m     mjd, flux, flux_err \u001B[38;5;241m=\u001B[39m \u001B[43mextract_band\u001B[49m(\n\u001B[1;32m     12\u001B[0m         row\u001B[38;5;241m.\u001B[39mmjd,\n\u001B[1;32m     13\u001B[0m         row\u001B[38;5;241m.\u001B[39mflux,\n\u001B[1;32m     14\u001B[0m         row\u001B[38;5;241m.\u001B[39mflux_err,\n\u001B[1;32m     15\u001B[0m         bands\u001B[38;5;241m=\u001B[39mrow\u001B[38;5;241m.\u001B[39mpassband,\n\u001B[1;32m     16\u001B[0m         band_to_calc\u001B[38;5;241m=\u001B[39mband_idx,\n\u001B[1;32m     17\u001B[0m     )\n\u001B[1;32m     18\u001B[0m     color \u001B[38;5;241m=\u001B[39m \u001B[38;5;124mf\u001B[39m\u001B[38;5;124m'\u001B[39m\u001B[38;5;124mC\u001B[39m\u001B[38;5;132;01m{\u001B[39;00mband_idx\u001B[38;5;132;01m}\u001B[39;00m\u001B[38;5;124m'\u001B[39m\n\u001B[1;32m     19\u001B[0m     plt\u001B[38;5;241m.\u001B[39mscatter(mjd, flux, c\u001B[38;5;241m=\u001B[39mcolor, label\u001B[38;5;241m=\u001B[39mband_name)\n",
      "\u001B[0;31mNameError\u001B[0m: name 'extract_band' is not defined"
     ]
    },
    {
     "data": {
      "text/plain": "<Figure size 640x480 with 1 Axes>",
      "image/png": "[encoded data removed]"
     },
     "metadata": {},
     "output_type": "display_data"
    }
   ],
   "source": [
    "import matplotlib.pyplot as plt\n",
    "\n",
    "LSST_BANDS = 'ugrizy'\n",
    "\n",
    "def plot(row):\n",
    "    plt.figure()\n",
    "    plt.title(f\"Object {row.Index}, true class {row.true_target}\")\n",
    "    plt.xlabel('MJD')\n",
    "    plt.ylabel('Flux, zp=27.5')\n",
    "    for band_idx, band_name in enumerate(LSST_BANDS):\n",
    "        mjd, flux, flux_err = extract_band(\n",
    "            row.mjd,\n",
    "            row.flux,\n",
    "            row.flux_err,\n",
    "            bands=row.passband,\n",
    "            band_to_calc=band_idx,\n",
    "        )\n",
    "        color = f'C{band_idx}'\n",
    "        plt.scatter(mjd, flux, c=color, label=band_name)\n",
    "        plt.errorbar(mjd, flux, yerr=flux_err, ls='none', c=color)\n",
    "        plt.legend()\n",
    "\n",
    "# Random objects from the selected sample\n",
    "for row in object_table[object_table['true_target'] == 16].sample(5, random_state=0).itertuples():\n",
    "    plot(row)\n",
    "    \n",
    "# Random objects from the selected sample\n",
    "for row in df.sample(5, random_state=0).itertuples():\n",
    "    plot(row)"
   ],
   "metadata": {
    "collapsed": false,
    "ExecuteTime": {
     "end_time": "2023-10-19T21:47:48.256407Z",
     "start_time": "2023-10-19T21:47:47.707885Z"
    }
   },
   "id": "1b336d01b8f74587"
  }
 ],
 "metadata": {
  "kernelspec": {
   "display_name": "Python 3 (ipykernel)",
   "language": "python",
   "name": "python3"
  },
  "language_info": {
   "codemirror_mode": {
    "name": "ipython",
    "version": 3
   },
   "file_extension": ".py",
   "mimetype": "text/x-python",
   "name": "python",
   "nbconvert_exporter": "python",
   "pygments_lexer": "ipython3",
   "version": "3.11.5"
  }
 },
 "nbformat": 4,
 "nbformat_minor": 5
}
