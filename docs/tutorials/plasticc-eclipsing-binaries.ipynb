{
 "cells": [
  {
   "cell_type": "markdown",
   "id": "5ee0a705-b529-45cc-afb9-382350e63fb6",
   "metadata": {},
   "source": [
    "# PLAsTiCC data exploration with TAPE\n",
    "\n",
    "Let's explore [PLAsTiCC](http://plasticc.org) data!\n",
    "\n",
    "It is publically avilable through [this Zenodo repository](https://zenodo.org/record/2539456)."
   ]
  },
  {
   "cell_type": "code",
   "execution_count": 1,
   "outputs": [],
   "source": [
    "## Uncomment to install packages\n",
    "\n",
    "# !pip install tape joblib requests"
   ],
   "metadata": {
    "collapsed": false,
    "ExecuteTime": {
     "end_time": "2023-09-28T14:14:56.359292Z",
     "start_time": "2023-09-28T14:14:56.357393Z"
    }
   },
   "id": "a92caa3a0873700f"
  },
  {
   "cell_type": "code",
   "execution_count": 3,
   "outputs": [
    {
     "name": "stdout",
     "output_type": "stream",
     "text": [
      "The memory_profiler extension is already loaded. To reload it, use:\n",
      "  %reload_ext memory_profiler\n"
     ]
    }
   ],
   "source": [
    "%load_ext memory_profiler\n",
    "\n",
    "from pathlib import Path"
   ],
   "metadata": {
    "collapsed": false,
    "ExecuteTime": {
     "end_time": "2023-09-28T16:10:25.266539Z",
     "start_time": "2023-09-28T16:10:25.258732Z"
    }
   },
   "id": "27d99d303e88f1e7"
  },
  {
   "cell_type": "markdown",
   "id": "8a8570b9-2a7b-4d79-be91-49a1d74d3f84",
   "metadata": {},
   "source": [
    "### Download the data\n",
    "\n",
    "Please get the data from [Zenodo](https://zenodo.org/record/2539456) and put them to the `./plasticc` folder (you may change the location bellow with `DATA_DIR`)."
   ]
  },
  {
   "cell_type": "code",
   "execution_count": 1,
   "outputs": [],
   "source": [
    "DATA_DIR = Path(\"./plasticc\")\n",
    "\n",
    "META_FILENAME = \"plasticc_test_metadata.csv\"\n",
    "LC_FILENAMES = [f\"plasticc_test_lightcurves_{i:02d}.csv\" for i in range(1, 12)]\n",
    "# META_FILENAME = \"plasticc_train_metadata.csv.gz\"\n",
    "# LC_FILENAMES = ['plasticc_train_lightcurves.csv.gz']\n",
    "\n",
    "N_PARTITIONS = len(LC_FILENAMES)"
   ],
   "metadata": {
    "collapsed": false,
    "ExecuteTime": {
     "end_time": "2023-09-28T16:10:20.304162Z",
     "start_time": "2023-09-28T16:10:20.297481Z"
    }
   },
   "id": "4866d31cc059f9d7"
  },
  {
   "cell_type": "markdown",
   "source": [
    "You may skip the next cell if you already have the data downloaded in the `DATA_DIR`."
   ],
   "metadata": {
    "collapsed": false
   },
   "id": "f5cea8a584d359ad"
  },
  {
   "cell_type": "markdown",
   "source": [
    "# Read and analyse the data with TAPE"
   ],
   "metadata": {
    "collapsed": false
   },
   "id": "61f1f943627a85da"
  },
  {
   "cell_type": "code",
   "execution_count": 4,
   "outputs": [
    {
     "name": "stdout",
     "output_type": "stream",
     "text": [
      "Loading object table...\n",
      "Loading source tables...\n",
      "Building Ensemble...\n"
     ]
    },
    {
     "name": "stderr",
     "output_type": "stream",
     "text": [
      "/Users/hombit/projects/lincc-frameworks/tape/src/tape/ensemble.py:45: UserWarning: Sync Mode is off, this may introduce unexpected behavior.\n",
      "  warnings.warn(\"Sync Mode is off, this may introduce unexpected behavior.\")\n"
     ]
    },
    {
     "name": "stdout",
     "output_type": "stream",
     "text": [
      "Starting analysis...\n",
      "First, filter by photoz\n",
      "Extract durations\n",
      "Assign a column\n",
      "Filter by duration\n",
      "Extract Otsu features\n",
      "Assign columns\n",
      "Filter by Otsu features\n"
     ]
    },
    {
     "name": "stderr",
     "output_type": "stream",
     "text": [
      "2023-09-28 12:14:12,088 - distributed.utils_perf - WARNING - full garbage collections took 17% CPU time recently (threshold: 10%)\n",
      "2023-09-28 12:14:15,302 - distributed.utils_perf - WARNING - full garbage collections took 17% CPU time recently (threshold: 10%)\n",
      "2023-09-28 12:14:18,453 - distributed.utils_perf - WARNING - full garbage collections took 18% CPU time recently (threshold: 10%)\n",
      "2023-09-28 12:14:21,959 - distributed.utils_perf - WARNING - full garbage collections took 21% CPU time recently (threshold: 10%)\n",
      "2023-09-28 12:14:25,099 - distributed.utils_perf - WARNING - full garbage collections took 21% CPU time recently (threshold: 10%)\n",
      "2023-09-28 12:14:27,916 - distributed.utils_perf - WARNING - full garbage collections took 21% CPU time recently (threshold: 10%)\n",
      "2023-09-28 12:14:30,653 - distributed.utils_perf - WARNING - full garbage collections took 21% CPU time recently (threshold: 10%)\n",
      "2023-09-28 12:14:33,721 - distributed.utils_perf - WARNING - full garbage collections took 23% CPU time recently (threshold: 10%)\n",
      "2023-09-28 12:14:36,597 - distributed.utils_perf - WARNING - full garbage collections took 23% CPU time recently (threshold: 10%)\n",
      "2023-09-28 12:14:39,475 - distributed.utils_perf - WARNING - full garbage collections took 23% CPU time recently (threshold: 10%)\n",
      "2023-09-28 12:14:41,106 - distributed.utils_perf - WARNING - full garbage collections took 14% CPU time recently (threshold: 10%)\n",
      "2023-09-28 12:14:42,342 - distributed.utils_perf - WARNING - full garbage collections took 23% CPU time recently (threshold: 10%)\n",
      "2023-09-28 12:14:43,557 - distributed.utils_perf - WARNING - full garbage collections took 14% CPU time recently (threshold: 10%)\n",
      "2023-09-28 12:14:45,317 - distributed.utils_perf - WARNING - full garbage collections took 25% CPU time recently (threshold: 10%)\n",
      "2023-09-28 12:14:46,450 - distributed.utils_perf - WARNING - full garbage collections took 14% CPU time recently (threshold: 10%)\n",
      "2023-09-28 12:14:48,542 - distributed.utils_perf - WARNING - full garbage collections took 25% CPU time recently (threshold: 10%)\n",
      "2023-09-28 12:14:49,057 - distributed.utils_perf - WARNING - full garbage collections took 14% CPU time recently (threshold: 10%)\n",
      "2023-09-28 12:14:51,450 - distributed.utils_perf - WARNING - full garbage collections took 25% CPU time recently (threshold: 10%)\n",
      "2023-09-28 12:14:51,980 - distributed.utils_perf - WARNING - full garbage collections took 14% CPU time recently (threshold: 10%)\n",
      "2023-09-28 12:14:54,668 - distributed.utils_perf - WARNING - full garbage collections took 25% CPU time recently (threshold: 10%)\n",
      "2023-09-28 12:14:55,470 - distributed.utils_perf - WARNING - full garbage collections took 14% CPU time recently (threshold: 10%)\n",
      "2023-09-28 12:14:57,696 - distributed.utils_perf - WARNING - full garbage collections took 25% CPU time recently (threshold: 10%)\n",
      "2023-09-28 12:14:58,835 - distributed.utils_perf - WARNING - full garbage collections took 14% CPU time recently (threshold: 10%)\n",
      "2023-09-28 12:15:00,881 - distributed.utils_perf - WARNING - full garbage collections took 25% CPU time recently (threshold: 10%)\n",
      "2023-09-28 12:15:01,630 - distributed.utils_perf - WARNING - full garbage collections took 14% CPU time recently (threshold: 10%)\n",
      "2023-09-28 12:15:03,440 - distributed.utils_perf - WARNING - full garbage collections took 25% CPU time recently (threshold: 10%)\n",
      "2023-09-28 12:15:04,131 - distributed.utils_perf - WARNING - full garbage collections took 14% CPU time recently (threshold: 10%)\n",
      "2023-09-28 12:15:06,425 - distributed.utils_perf - WARNING - full garbage collections took 25% CPU time recently (threshold: 10%)\n",
      "2023-09-28 12:15:07,070 - distributed.utils_perf - WARNING - full garbage collections took 14% CPU time recently (threshold: 10%)\n",
      "2023-09-28 12:15:09,328 - distributed.utils_perf - WARNING - full garbage collections took 25% CPU time recently (threshold: 10%)\n",
      "2023-09-28 12:15:09,779 - distributed.utils_perf - WARNING - full garbage collections took 14% CPU time recently (threshold: 10%)\n",
      "2023-09-28 12:15:12,241 - distributed.utils_perf - WARNING - full garbage collections took 15% CPU time recently (threshold: 10%)\n",
      "2023-09-28 12:15:12,449 - distributed.utils_perf - WARNING - full garbage collections took 25% CPU time recently (threshold: 10%)\n",
      "2023-09-28 12:15:15,100 - distributed.utils_perf - WARNING - full garbage collections took 15% CPU time recently (threshold: 10%)\n",
      "2023-09-28 12:15:15,348 - distributed.utils_perf - WARNING - full garbage collections took 25% CPU time recently (threshold: 10%)\n",
      "2023-09-28 12:15:18,434 - distributed.utils_perf - WARNING - full garbage collections took 25% CPU time recently (threshold: 10%)\n",
      "2023-09-28 12:15:18,470 - distributed.utils_perf - WARNING - full garbage collections took 15% CPU time recently (threshold: 10%)\n",
      "2023-09-28 12:15:21,471 - distributed.utils_perf - WARNING - full garbage collections took 25% CPU time recently (threshold: 10%)\n",
      "2023-09-28 12:15:21,795 - distributed.utils_perf - WARNING - full garbage collections took 18% CPU time recently (threshold: 10%)\n",
      "2023-09-28 12:15:24,420 - distributed.utils_perf - WARNING - full garbage collections took 18% CPU time recently (threshold: 10%)\n",
      "2023-09-28 12:15:24,502 - distributed.utils_perf - WARNING - full garbage collections took 25% CPU time recently (threshold: 10%)\n",
      "2023-09-28 12:15:26,118 - distributed.utils_perf - WARNING - full garbage collections took 25% CPU time recently (threshold: 10%)\n",
      "2023-09-28 12:15:26,639 - distributed.utils_perf - WARNING - full garbage collections took 18% CPU time recently (threshold: 10%)\n",
      "2023-09-28 12:15:27,726 - distributed.utils_perf - WARNING - full garbage collections took 25% CPU time recently (threshold: 10%)\n",
      "2023-09-28 12:15:28,863 - distributed.utils_perf - WARNING - full garbage collections took 18% CPU time recently (threshold: 10%)\n",
      "2023-09-28 12:15:29,657 - distributed.utils_perf - WARNING - full garbage collections took 24% CPU time recently (threshold: 10%)\n",
      "2023-09-28 12:15:31,540 - distributed.utils_perf - WARNING - full garbage collections took 19% CPU time recently (threshold: 10%)\n",
      "2023-09-28 12:15:31,803 - distributed.utils_perf - WARNING - full garbage collections took 24% CPU time recently (threshold: 10%)\n",
      "2023-09-28 12:15:33,866 - distributed.utils_perf - WARNING - full garbage collections took 24% CPU time recently (threshold: 10%)\n",
      "2023-09-28 12:15:34,512 - distributed.utils_perf - WARNING - full garbage collections took 20% CPU time recently (threshold: 10%)\n",
      "2023-09-28 12:15:36,167 - distributed.utils_perf - WARNING - full garbage collections took 24% CPU time recently (threshold: 10%)\n",
      "2023-09-28 12:15:37,009 - distributed.utils_perf - WARNING - full garbage collections took 20% CPU time recently (threshold: 10%)\n",
      "2023-09-28 12:15:39,174 - distributed.utils_perf - WARNING - full garbage collections took 24% CPU time recently (threshold: 10%)\n",
      "2023-09-28 12:15:40,043 - distributed.utils_perf - WARNING - full garbage collections took 20% CPU time recently (threshold: 10%)\n",
      "2023-09-28 12:15:42,309 - distributed.utils_perf - WARNING - full garbage collections took 24% CPU time recently (threshold: 10%)\n",
      "2023-09-28 12:15:43,887 - distributed.utils_perf - WARNING - full garbage collections took 20% CPU time recently (threshold: 10%)\n",
      "2023-09-28 12:15:45,711 - distributed.utils_perf - WARNING - full garbage collections took 20% CPU time recently (threshold: 10%)\n",
      "2023-09-28 12:15:46,018 - distributed.utils_perf - WARNING - full garbage collections took 24% CPU time recently (threshold: 10%)\n",
      "2023-09-28 12:15:47,870 - distributed.utils_perf - WARNING - full garbage collections took 20% CPU time recently (threshold: 10%)\n",
      "2023-09-28 12:15:48,766 - distributed.utils_perf - WARNING - full garbage collections took 23% CPU time recently (threshold: 10%)\n",
      "2023-09-28 12:15:49,950 - distributed.utils_perf - WARNING - full garbage collections took 20% CPU time recently (threshold: 10%)\n",
      "2023-09-28 12:15:50,380 - distributed.utils_perf - WARNING - full garbage collections took 23% CPU time recently (threshold: 10%)\n",
      "2023-09-28 12:15:52,290 - distributed.utils_perf - WARNING - full garbage collections took 24% CPU time recently (threshold: 10%)\n",
      "2023-09-28 12:15:52,407 - distributed.utils_perf - WARNING - full garbage collections took 20% CPU time recently (threshold: 10%)\n",
      "2023-09-28 12:15:54,656 - distributed.utils_perf - WARNING - full garbage collections took 24% CPU time recently (threshold: 10%)\n",
      "2023-09-28 12:15:54,921 - distributed.utils_perf - WARNING - full garbage collections took 21% CPU time recently (threshold: 10%)\n",
      "2023-09-28 12:15:57,238 - distributed.utils_perf - WARNING - full garbage collections took 24% CPU time recently (threshold: 10%)\n",
      "2023-09-28 12:15:58,132 - distributed.utils_perf - WARNING - full garbage collections took 21% CPU time recently (threshold: 10%)\n",
      "2023-09-28 12:16:00,396 - distributed.utils_perf - WARNING - full garbage collections took 24% CPU time recently (threshold: 10%)\n",
      "2023-09-28 12:16:01,420 - distributed.utils_perf - WARNING - full garbage collections took 21% CPU time recently (threshold: 10%)\n",
      "2023-09-28 12:16:03,476 - distributed.utils_perf - WARNING - full garbage collections took 24% CPU time recently (threshold: 10%)\n",
      "2023-09-28 12:16:04,953 - distributed.utils_perf - WARNING - full garbage collections took 21% CPU time recently (threshold: 10%)\n",
      "2023-09-28 12:16:06,914 - distributed.utils_perf - WARNING - full garbage collections took 24% CPU time recently (threshold: 10%)\n",
      "2023-09-28 12:16:06,981 - distributed.utils_perf - WARNING - full garbage collections took 21% CPU time recently (threshold: 10%)\n",
      "2023-09-28 12:16:09,212 - distributed.utils_perf - WARNING - full garbage collections took 21% CPU time recently (threshold: 10%)\n",
      "2023-09-28 12:16:10,152 - distributed.utils_perf - WARNING - full garbage collections took 24% CPU time recently (threshold: 10%)\n",
      "2023-09-28 12:16:11,693 - distributed.utils_perf - WARNING - full garbage collections took 21% CPU time recently (threshold: 10%)\n",
      "2023-09-28 12:16:12,272 - distributed.utils_perf - WARNING - full garbage collections took 23% CPU time recently (threshold: 10%)\n",
      "2023-09-28 12:16:13,903 - distributed.utils_perf - WARNING - full garbage collections took 21% CPU time recently (threshold: 10%)\n",
      "2023-09-28 12:16:14,803 - distributed.utils_perf - WARNING - full garbage collections took 23% CPU time recently (threshold: 10%)\n",
      "2023-09-28 12:16:16,756 - distributed.utils_perf - WARNING - full garbage collections took 21% CPU time recently (threshold: 10%)\n",
      "2023-09-28 12:16:17,197 - distributed.utils_perf - WARNING - full garbage collections took 23% CPU time recently (threshold: 10%)\n",
      "2023-09-28 12:16:19,498 - distributed.utils_perf - WARNING - full garbage collections took 21% CPU time recently (threshold: 10%)\n",
      "2023-09-28 12:16:19,862 - distributed.utils_perf - WARNING - full garbage collections took 23% CPU time recently (threshold: 10%)\n",
      "2023-09-28 12:16:22,882 - distributed.utils_perf - WARNING - full garbage collections took 21% CPU time recently (threshold: 10%)\n",
      "2023-09-28 12:16:22,923 - distributed.utils_perf - WARNING - full garbage collections took 23% CPU time recently (threshold: 10%)\n",
      "2023-09-28 12:16:26,233 - distributed.utils_perf - WARNING - full garbage collections took 23% CPU time recently (threshold: 10%)\n",
      "2023-09-28 12:16:26,854 - distributed.utils_perf - WARNING - full garbage collections took 21% CPU time recently (threshold: 10%)\n",
      "2023-09-28 12:16:28,127 - distributed.utils_perf - WARNING - full garbage collections took 21% CPU time recently (threshold: 10%)\n",
      "2023-09-28 12:16:29,468 - distributed.utils_perf - WARNING - full garbage collections took 21% CPU time recently (threshold: 10%)\n",
      "2023-09-28 12:16:29,679 - distributed.utils_perf - WARNING - full garbage collections took 23% CPU time recently (threshold: 10%)\n",
      "2023-09-28 12:16:31,091 - distributed.utils_perf - WARNING - full garbage collections took 21% CPU time recently (threshold: 10%)\n",
      "2023-09-28 12:16:32,733 - distributed.utils_perf - WARNING - full garbage collections took 23% CPU time recently (threshold: 10%)\n",
      "2023-09-28 12:16:32,911 - distributed.utils_perf - WARNING - full garbage collections took 21% CPU time recently (threshold: 10%)\n",
      "2023-09-28 12:16:34,956 - distributed.utils_perf - WARNING - full garbage collections took 21% CPU time recently (threshold: 10%)\n",
      "2023-09-28 12:16:35,753 - distributed.utils_perf - WARNING - full garbage collections took 23% CPU time recently (threshold: 10%)\n",
      "2023-09-28 12:16:37,109 - distributed.utils_perf - WARNING - full garbage collections took 23% CPU time recently (threshold: 10%)\n",
      "2023-09-28 12:16:37,425 - distributed.utils_perf - WARNING - full garbage collections took 21% CPU time recently (threshold: 10%)\n",
      "2023-09-28 12:16:38,759 - distributed.utils_perf - WARNING - full garbage collections took 23% CPU time recently (threshold: 10%)\n",
      "2023-09-28 12:16:40,348 - distributed.utils_perf - WARNING - full garbage collections took 21% CPU time recently (threshold: 10%)\n",
      "2023-09-28 12:16:40,679 - distributed.utils_perf - WARNING - full garbage collections took 23% CPU time recently (threshold: 10%)\n",
      "2023-09-28 12:16:42,958 - distributed.utils_perf - WARNING - full garbage collections took 23% CPU time recently (threshold: 10%)\n",
      "2023-09-28 12:16:43,789 - distributed.utils_perf - WARNING - full garbage collections took 21% CPU time recently (threshold: 10%)\n",
      "2023-09-28 12:16:44,910 - distributed.utils_perf - WARNING - full garbage collections took 23% CPU time recently (threshold: 10%)\n",
      "2023-09-28 12:16:47,251 - distributed.utils_perf - WARNING - full garbage collections took 22% CPU time recently (threshold: 10%)\n",
      "2023-09-28 12:16:47,399 - distributed.utils_perf - WARNING - full garbage collections took 21% CPU time recently (threshold: 10%)\n",
      "2023-09-28 12:16:49,302 - distributed.utils_perf - WARNING - full garbage collections took 22% CPU time recently (threshold: 10%)\n",
      "2023-09-28 12:16:50,241 - distributed.utils_perf - WARNING - full garbage collections took 22% CPU time recently (threshold: 10%)\n",
      "2023-09-28 12:16:51,482 - distributed.utils_perf - WARNING - full garbage collections took 22% CPU time recently (threshold: 10%)\n",
      "2023-09-28 12:16:53,248 - distributed.utils_perf - WARNING - full garbage collections took 22% CPU time recently (threshold: 10%)\n",
      "2023-09-28 12:16:53,929 - distributed.utils_perf - WARNING - full garbage collections took 22% CPU time recently (threshold: 10%)\n",
      "2023-09-28 12:16:56,220 - distributed.utils_perf - WARNING - full garbage collections took 21% CPU time recently (threshold: 10%)\n",
      "2023-09-28 12:16:56,761 - distributed.utils_perf - WARNING - full garbage collections took 22% CPU time recently (threshold: 10%)\n",
      "2023-09-28 12:16:58,921 - distributed.utils_perf - WARNING - full garbage collections took 22% CPU time recently (threshold: 10%)\n",
      "2023-09-28 12:17:00,162 - distributed.utils_perf - WARNING - full garbage collections took 23% CPU time recently (threshold: 10%)\n",
      "2023-09-28 12:17:02,007 - distributed.utils_perf - WARNING - full garbage collections took 22% CPU time recently (threshold: 10%)\n",
      "2023-09-28 12:17:02,830 - distributed.utils_perf - WARNING - full garbage collections took 23% CPU time recently (threshold: 10%)\n",
      "2023-09-28 12:17:04,905 - distributed.utils_perf - WARNING - full garbage collections took 23% CPU time recently (threshold: 10%)\n",
      "2023-09-28 12:17:04,999 - distributed.utils_perf - WARNING - full garbage collections took 22% CPU time recently (threshold: 10%)\n",
      "2023-09-28 12:17:07,225 - distributed.utils_perf - WARNING - full garbage collections took 23% CPU time recently (threshold: 10%)\n",
      "2023-09-28 12:17:08,158 - distributed.utils_perf - WARNING - full garbage collections took 22% CPU time recently (threshold: 10%)\n",
      "2023-09-28 12:17:09,984 - distributed.utils_perf - WARNING - full garbage collections took 24% CPU time recently (threshold: 10%)\n",
      "2023-09-28 12:17:10,716 - distributed.utils_perf - WARNING - full garbage collections took 22% CPU time recently (threshold: 10%)\n",
      "2023-09-28 12:17:12,900 - distributed.utils_perf - WARNING - full garbage collections took 22% CPU time recently (threshold: 10%)\n",
      "2023-09-28 12:17:13,038 - distributed.utils_perf - WARNING - full garbage collections took 24% CPU time recently (threshold: 10%)\n",
      "2023-09-28 12:17:15,591 - distributed.utils_perf - WARNING - full garbage collections took 22% CPU time recently (threshold: 10%)\n",
      "2023-09-28 12:17:16,472 - distributed.utils_perf - WARNING - full garbage collections took 23% CPU time recently (threshold: 10%)\n",
      "2023-09-28 12:17:18,130 - distributed.utils_perf - WARNING - full garbage collections took 22% CPU time recently (threshold: 10%)\n",
      "2023-09-28 12:17:19,783 - distributed.utils_perf - WARNING - full garbage collections took 23% CPU time recently (threshold: 10%)\n",
      "2023-09-28 12:17:21,051 - distributed.utils_perf - WARNING - full garbage collections took 22% CPU time recently (threshold: 10%)\n",
      "2023-09-28 12:17:22,981 - distributed.utils_perf - WARNING - full garbage collections took 23% CPU time recently (threshold: 10%)\n",
      "2023-09-28 12:17:23,902 - distributed.utils_perf - WARNING - full garbage collections took 22% CPU time recently (threshold: 10%)\n",
      "2023-09-28 12:17:25,237 - distributed.utils_perf - WARNING - full garbage collections took 23% CPU time recently (threshold: 10%)\n",
      "2023-09-28 12:17:27,189 - distributed.utils_perf - WARNING - full garbage collections took 22% CPU time recently (threshold: 10%)\n",
      "2023-09-28 12:17:27,897 - distributed.utils_perf - WARNING - full garbage collections took 23% CPU time recently (threshold: 10%)\n",
      "2023-09-28 12:17:30,526 - distributed.utils_perf - WARNING - full garbage collections took 22% CPU time recently (threshold: 10%)\n",
      "2023-09-28 12:17:30,998 - distributed.utils_perf - WARNING - full garbage collections took 23% CPU time recently (threshold: 10%)\n",
      "2023-09-28 12:17:33,817 - distributed.utils_perf - WARNING - full garbage collections took 22% CPU time recently (threshold: 10%)\n",
      "2023-09-28 12:17:33,882 - distributed.utils_perf - WARNING - full garbage collections took 23% CPU time recently (threshold: 10%)\n",
      "2023-09-28 12:17:36,083 - distributed.utils_perf - WARNING - full garbage collections took 22% CPU time recently (threshold: 10%)\n",
      "2023-09-28 12:17:36,688 - distributed.utils_perf - WARNING - full garbage collections took 23% CPU time recently (threshold: 10%)\n",
      "2023-09-28 12:17:38,792 - distributed.utils_perf - WARNING - full garbage collections took 22% CPU time recently (threshold: 10%)\n",
      "2023-09-28 12:17:39,358 - distributed.utils_perf - WARNING - full garbage collections took 23% CPU time recently (threshold: 10%)\n",
      "2023-09-28 12:17:41,827 - distributed.utils_perf - WARNING - full garbage collections took 22% CPU time recently (threshold: 10%)\n",
      "2023-09-28 12:17:42,568 - distributed.utils_perf - WARNING - full garbage collections took 23% CPU time recently (threshold: 10%)\n",
      "2023-09-28 12:17:44,735 - distributed.utils_perf - WARNING - full garbage collections took 23% CPU time recently (threshold: 10%)\n",
      "2023-09-28 12:17:46,282 - distributed.utils_perf - WARNING - full garbage collections took 23% CPU time recently (threshold: 10%)\n",
      "2023-09-28 12:17:47,721 - distributed.utils_perf - WARNING - full garbage collections took 23% CPU time recently (threshold: 10%)\n",
      "2023-09-28 12:18:38,264 - distributed.utils_perf - WARNING - full garbage collections took 23% CPU time recently (threshold: 10%)\n",
      "2023-09-28 12:19:22,088 - distributed.worker - ERROR - failed during get data with tcp://127.0.0.1:53035 -> None\n",
      "Traceback (most recent call last):\n",
      "  File \"/Users/hombit/.virtualenvs/tape/lib/python3.11/site-packages/tornado/iostream.py\", line 861, in _read_to_buffer\n",
      "    bytes_read = self.read_from_fd(buf)\n",
      "                 ^^^^^^^^^^^^^^^^^^^^^^\n",
      "  File \"/Users/hombit/.virtualenvs/tape/lib/python3.11/site-packages/tornado/iostream.py\", line 1116, in read_from_fd\n",
      "    return self.socket.recv_into(buf, len(buf))\n",
      "           ^^^^^^^^^^^^^^^^^^^^^^^^^^^^^^^^^^^^\n",
      "ConnectionResetError: [Errno 54] Connection reset by peer\n",
      "\n",
      "The above exception was the direct cause of the following exception:\n",
      "\n",
      "Traceback (most recent call last):\n",
      "  File \"/Users/hombit/.virtualenvs/tape/lib/python3.11/site-packages/distributed/worker.py\", line 1800, in get_data\n",
      "    response = await comm.read(deserializers=serializers)\n",
      "               ^^^^^^^^^^^^^^^^^^^^^^^^^^^^^^^^^^^^^^^^^^\n",
      "  File \"/Users/hombit/.virtualenvs/tape/lib/python3.11/site-packages/distributed/comm/tcp.py\", line 240, in read\n",
      "    convert_stream_closed_error(self, e)\n",
      "  File \"/Users/hombit/.virtualenvs/tape/lib/python3.11/site-packages/distributed/comm/tcp.py\", line 141, in convert_stream_closed_error\n",
      "    raise CommClosedError(f\"in {obj}: {exc.__class__.__name__}: {exc}\") from exc\n",
      "distributed.comm.core.CommClosedError: in <TCP (closed)  local=tcp://127.0.0.1:53035 remote=tcp://127.0.0.1:53338>: ConnectionResetError: [Errno 54] Connection reset by peer\n",
      "2023-09-28 12:19:22,498 - distributed.scheduler - ERROR - Couldn't gather keys: {\"('sort_index-e2fdc5095f597a42cd43eb4b81fd6328', 139)\": 'memory', \"('sort_index-e2fdc5095f597a42cd43eb4b81fd6328', 140)\": 'memory', \"('sort_index-e2fdc5095f597a42cd43eb4b81fd6328', 60)\": 'memory', \"('sort_index-e2fdc5095f597a42cd43eb4b81fd6328', 161)\": 'memory', \"('sort_index-e2fdc5095f597a42cd43eb4b81fd6328', 78)\": 'memory', \"('sort_index-e2fdc5095f597a42cd43eb4b81fd6328', 136)\": 'memory', \"('sort_index-e2fdc5095f597a42cd43eb4b81fd6328', 77)\": 'memory', \"('sort_index-e2fdc5095f597a42cd43eb4b81fd6328', 180)\": 'memory', \"('sort_index-e2fdc5095f597a42cd43eb4b81fd6328', 61)\": 'memory', \"('sort_index-e2fdc5095f597a42cd43eb4b81fd6328', 53)\": 'memory', \"('sort_index-e2fdc5095f597a42cd43eb4b81fd6328', 106)\": 'memory', \"('sort_index-e2fdc5095f597a42cd43eb4b81fd6328', 133)\": 'memory', \"('sort_index-e2fdc5095f597a42cd43eb4b81fd6328', 49)\": 'memory', \"('sort_index-e2fdc5095f597a42cd43eb4b81fd6328', 162)\": 'memory', \"('sort_index-e2fdc5095f597a42cd43eb4b81fd6328', 12)\": 'memory', \"('sort_index-e2fdc5095f597a42cd43eb4b81fd6328', 36)\": 'memory', \"('sort_index-e2fdc5095f597a42cd43eb4b81fd6328', 121)\": 'memory', \"('sort_index-e2fdc5095f597a42cd43eb4b81fd6328', 90)\": 'memory', \"('sort_index-e2fdc5095f597a42cd43eb4b81fd6328', 51)\": 'memory', \"('sort_index-e2fdc5095f597a42cd43eb4b81fd6328', 155)\": 'memory', \"('sort_index-e2fdc5095f597a42cd43eb4b81fd6328', 131)\": 'memory', \"('sort_index-e2fdc5095f597a42cd43eb4b81fd6328', 74)\": 'memory', \"('sort_index-e2fdc5095f597a42cd43eb4b81fd6328', 85)\": 'memory', \"('sort_index-e2fdc5095f597a42cd43eb4b81fd6328', 163)\": 'memory', \"('sort_index-e2fdc5095f597a42cd43eb4b81fd6328', 2)\": 'memory', \"('sort_index-e2fdc5095f597a42cd43eb4b81fd6328', 26)\": 'memory', \"('sort_index-e2fdc5095f597a42cd43eb4b81fd6328', 101)\": 'memory', \"('sort_index-e2fdc5095f597a42cd43eb4b81fd6328', 120)\": 'memory', \"('sort_index-e2fdc5095f597a42cd43eb4b81fd6328', 76)\": 'memory', \"('sort_index-e2fdc5095f597a42cd43eb4b81fd6328', 123)\": 'memory', \"('sort_index-e2fdc5095f597a42cd43eb4b81fd6328', 97)\": 'memory', \"('sort_index-e2fdc5095f597a42cd43eb4b81fd6328', 35)\": 'memory', \"('sort_index-e2fdc5095f597a42cd43eb4b81fd6328', 187)\": 'memory', \"('sort_index-e2fdc5095f597a42cd43eb4b81fd6328', 104)\": 'memory', \"('sort_index-e2fdc5095f597a42cd43eb4b81fd6328', 92)\": 'memory', \"('sort_index-e2fdc5095f597a42cd43eb4b81fd6328', 107)\": 'memory', \"('sort_index-e2fdc5095f597a42cd43eb4b81fd6328', 160)\": 'memory', \"('sort_index-e2fdc5095f597a42cd43eb4b81fd6328', 189)\": 'memory', \"('sort_index-e2fdc5095f597a42cd43eb4b81fd6328', 159)\": 'memory', \"('sort_index-e2fdc5095f597a42cd43eb4b81fd6328', 88)\": 'memory', \"('sort_index-e2fdc5095f597a42cd43eb4b81fd6328', 117)\": 'memory', \"('sort_index-e2fdc5095f597a42cd43eb4b81fd6328', 182)\": 'memory', \"('sort_index-e2fdc5095f597a42cd43eb4b81fd6328', 124)\": 'memory', \"('sort_index-e2fdc5095f597a42cd43eb4b81fd6328', 103)\": 'memory', \"('sort_index-e2fdc5095f597a42cd43eb4b81fd6328', 82)\": 'memory', \"('sort_index-e2fdc5095f597a42cd43eb4b81fd6328', 158)\": 'memory', \"('sort_index-e2fdc5095f597a42cd43eb4b81fd6328', 122)\": 'memory', \"('sort_index-e2fdc5095f597a42cd43eb4b81fd6328', 171)\": 'memory', \"('sort_index-e2fdc5095f597a42cd43eb4b81fd6328', 29)\": 'memory', \"('sort_index-e2fdc5095f597a42cd43eb4b81fd6328', 16)\": 'memory', \"('sort_index-e2fdc5095f597a42cd43eb4b81fd6328', 75)\": 'memory', \"('sort_index-e2fdc5095f597a42cd43eb4b81fd6328', 67)\": 'memory', \"('sort_index-e2fdc5095f597a42cd43eb4b81fd6328', 191)\": 'memory', \"('sort_index-e2fdc5095f597a42cd43eb4b81fd6328', 109)\": 'memory', \"('sort_index-e2fdc5095f597a42cd43eb4b81fd6328', 113)\": 'memory', \"('sort_index-e2fdc5095f597a42cd43eb4b81fd6328', 108)\": 'memory', \"('sort_index-e2fdc5095f597a42cd43eb4b81fd6328', 58)\": 'memory', \"('sort_index-e2fdc5095f597a42cd43eb4b81fd6328', 89)\": 'memory', \"('sort_index-e2fdc5095f597a42cd43eb4b81fd6328', 70)\": 'memory', \"('sort_index-e2fdc5095f597a42cd43eb4b81fd6328', 79)\": 'memory', \"('sort_index-e2fdc5095f597a42cd43eb4b81fd6328', 40)\": 'memory', \"('sort_index-e2fdc5095f597a42cd43eb4b81fd6328', 142)\": 'memory', \"('sort_index-e2fdc5095f597a42cd43eb4b81fd6328', 181)\": 'memory', \"('sort_index-e2fdc5095f597a42cd43eb4b81fd6328', 176)\": 'memory', \"('sort_index-e2fdc5095f597a42cd43eb4b81fd6328', 111)\": 'memory', \"('sort_index-e2fdc5095f597a42cd43eb4b81fd6328', 25)\": 'memory', \"('sort_index-e2fdc5095f597a42cd43eb4b81fd6328', 17)\": 'memory', \"('sort_index-e2fdc5095f597a42cd43eb4b81fd6328', 105)\": 'memory', \"('sort_index-e2fdc5095f597a42cd43eb4b81fd6328', 130)\": 'memory', \"('sort_index-e2fdc5095f597a42cd43eb4b81fd6328', 6)\": 'memory', \"('sort_index-e2fdc5095f597a42cd43eb4b81fd6328', 116)\": 'memory', \"('sort_index-e2fdc5095f597a42cd43eb4b81fd6328', 32)\": 'memory', \"('sort_index-e2fdc5095f597a42cd43eb4b81fd6328', 178)\": 'memory', \"('sort_index-e2fdc5095f597a42cd43eb4b81fd6328', 57)\": 'memory', \"('sort_index-e2fdc5095f597a42cd43eb4b81fd6328', 66)\": 'memory', \"('sort_index-e2fdc5095f597a42cd43eb4b81fd6328', 152)\": 'memory', \"('sort_index-e2fdc5095f597a42cd43eb4b81fd6328', 42)\": 'memory', \"('sort_index-e2fdc5095f597a42cd43eb4b81fd6328', 21)\": 'memory', \"('sort_index-e2fdc5095f597a42cd43eb4b81fd6328', 166)\": 'memory', \"('sort_index-e2fdc5095f597a42cd43eb4b81fd6328', 84)\": 'memory', \"('sort_index-e2fdc5095f597a42cd43eb4b81fd6328', 135)\": 'memory', \"('sort_index-e2fdc5095f597a42cd43eb4b81fd6328', 72)\": 'memory', \"('sort_index-e2fdc5095f597a42cd43eb4b81fd6328', 45)\": 'memory', \"('sort_index-e2fdc5095f597a42cd43eb4b81fd6328', 118)\": 'memory', \"('sort_index-e2fdc5095f597a42cd43eb4b81fd6328', 39)\": 'memory', \"('sort_index-e2fdc5095f597a42cd43eb4b81fd6328', 134)\": 'memory', \"('sort_index-e2fdc5095f597a42cd43eb4b81fd6328', 173)\": 'memory', \"('sort_index-e2fdc5095f597a42cd43eb4b81fd6328', 65)\": 'memory', \"('sort_index-e2fdc5095f597a42cd43eb4b81fd6328', 15)\": 'memory', \"('sort_index-e2fdc5095f597a42cd43eb4b81fd6328', 168)\": 'memory', \"('sort_index-e2fdc5095f597a42cd43eb4b81fd6328', 48)\": 'memory', \"('sort_index-e2fdc5095f597a42cd43eb4b81fd6328', 151)\": 'memory', \"('sort_index-e2fdc5095f597a42cd43eb4b81fd6328', 41)\": 'memory', \"('sort_index-e2fdc5095f597a42cd43eb4b81fd6328', 52)\": 'memory', \"('sort_index-e2fdc5095f597a42cd43eb4b81fd6328', 145)\": 'memory', \"('sort_index-e2fdc5095f597a42cd43eb4b81fd6328', 129)\": 'memory', \"('sort_index-e2fdc5095f597a42cd43eb4b81fd6328', 127)\": 'memory', \"('sort_index-e2fdc5095f597a42cd43eb4b81fd6328', 128)\": 'memory', \"('sort_index-e2fdc5095f597a42cd43eb4b81fd6328', 91)\": 'memory', \"('sort_index-e2fdc5095f597a42cd43eb4b81fd6328', 46)\": 'memory', \"('sort_index-e2fdc5095f597a42cd43eb4b81fd6328', 69)\": 'memory', \"('sort_index-e2fdc5095f597a42cd43eb4b81fd6328', 9)\": 'memory', \"('sort_index-e2fdc5095f597a42cd43eb4b81fd6328', 179)\": 'memory', \"('sort_index-e2fdc5095f597a42cd43eb4b81fd6328', 126)\": 'memory', \"('sort_index-e2fdc5095f597a42cd43eb4b81fd6328', 190)\": 'memory', \"('sort_index-e2fdc5095f597a42cd43eb4b81fd6328', 184)\": 'memory', \"('sort_index-e2fdc5095f597a42cd43eb4b81fd6328', 154)\": 'memory', \"('sort_index-e2fdc5095f597a42cd43eb4b81fd6328', 11)\": 'memory', \"('sort_index-e2fdc5095f597a42cd43eb4b81fd6328', 80)\": 'memory', \"('sort_index-e2fdc5095f597a42cd43eb4b81fd6328', 24)\": 'memory', \"('sort_index-e2fdc5095f597a42cd43eb4b81fd6328', 153)\": 'memory', \"('sort_index-e2fdc5095f597a42cd43eb4b81fd6328', 86)\": 'memory', \"('sort_index-e2fdc5095f597a42cd43eb4b81fd6328', 4)\": 'memory', \"('sort_index-e2fdc5095f597a42cd43eb4b81fd6328', 185)\": 'memory', \"('sort_index-e2fdc5095f597a42cd43eb4b81fd6328', 10)\": 'memory', \"('sort_index-e2fdc5095f597a42cd43eb4b81fd6328', 87)\": 'memory', \"('sort_index-e2fdc5095f597a42cd43eb4b81fd6328', 71)\": 'memory', \"('sort_index-e2fdc5095f597a42cd43eb4b81fd6328', 68)\": 'memory', \"('sort_index-e2fdc5095f597a42cd43eb4b81fd6328', 7)\": 'memory', \"('sort_index-e2fdc5095f597a42cd43eb4b81fd6328', 44)\": 'memory', \"('sort_index-e2fdc5095f597a42cd43eb4b81fd6328', 5)\": 'memory', \"('sort_index-e2fdc5095f597a42cd43eb4b81fd6328', 23)\": 'memory', \"('sort_index-e2fdc5095f597a42cd43eb4b81fd6328', 22)\": 'memory', \"('sort_index-e2fdc5095f597a42cd43eb4b81fd6328', 47)\": 'memory', \"('sort_index-e2fdc5095f597a42cd43eb4b81fd6328', 102)\": 'memory', \"('sort_index-e2fdc5095f597a42cd43eb4b81fd6328', 95)\": 'memory', \"('sort_index-e2fdc5095f597a42cd43eb4b81fd6328', 62)\": 'memory', \"('sort_index-e2fdc5095f597a42cd43eb4b81fd6328', 37)\": 'memory', \"('sort_index-e2fdc5095f597a42cd43eb4b81fd6328', 96)\": 'memory', \"('sort_index-e2fdc5095f597a42cd43eb4b81fd6328', 169)\": 'memory', \"('sort_index-e2fdc5095f597a42cd43eb4b81fd6328', 114)\": 'memory', \"('sort_index-e2fdc5095f597a42cd43eb4b81fd6328', 43)\": 'memory', \"('sort_index-e2fdc5095f597a42cd43eb4b81fd6328', 149)\": 'memory', \"('sort_index-e2fdc5095f597a42cd43eb4b81fd6328', 56)\": 'memory', \"('sort_index-e2fdc5095f597a42cd43eb4b81fd6328', 34)\": 'memory', \"('sort_index-e2fdc5095f597a42cd43eb4b81fd6328', 148)\": 'memory', \"('sort_index-e2fdc5095f597a42cd43eb4b81fd6328', 174)\": 'memory', \"('sort_index-e2fdc5095f597a42cd43eb4b81fd6328', 157)\": 'memory', \"('sort_index-e2fdc5095f597a42cd43eb4b81fd6328', 100)\": 'memory', \"('sort_index-e2fdc5095f597a42cd43eb4b81fd6328', 143)\": 'memory', \"('sort_index-e2fdc5095f597a42cd43eb4b81fd6328', 177)\": 'memory', \"('sort_index-e2fdc5095f597a42cd43eb4b81fd6328', 55)\": 'memory', \"('sort_index-e2fdc5095f597a42cd43eb4b81fd6328', 138)\": 'memory', \"('sort_index-e2fdc5095f597a42cd43eb4b81fd6328', 110)\": 'memory', \"('sort_index-e2fdc5095f597a42cd43eb4b81fd6328', 3)\": 'memory', \"('sort_index-e2fdc5095f597a42cd43eb4b81fd6328', 172)\": 'memory', \"('sort_index-e2fdc5095f597a42cd43eb4b81fd6328', 188)\": 'memory', \"('sort_index-e2fdc5095f597a42cd43eb4b81fd6328', 50)\": 'memory', \"('sort_index-e2fdc5095f597a42cd43eb4b81fd6328', 13)\": 'memory', \"('sort_index-e2fdc5095f597a42cd43eb4b81fd6328', 150)\": 'memory', \"('sort_index-e2fdc5095f597a42cd43eb4b81fd6328', 27)\": 'memory', \"('sort_index-e2fdc5095f597a42cd43eb4b81fd6328', 170)\": 'memory', \"('sort_index-e2fdc5095f597a42cd43eb4b81fd6328', 183)\": 'memory', \"('sort_index-e2fdc5095f597a42cd43eb4b81fd6328', 33)\": 'memory', \"('sort_index-e2fdc5095f597a42cd43eb4b81fd6328', 146)\": 'memory', \"('sort_index-e2fdc5095f597a42cd43eb4b81fd6328', 141)\": 'memory', \"('sort_index-e2fdc5095f597a42cd43eb4b81fd6328', 64)\": 'memory', \"('sort_index-e2fdc5095f597a42cd43eb4b81fd6328', 28)\": 'memory', \"('sort_index-e2fdc5095f597a42cd43eb4b81fd6328', 125)\": 'memory', \"('sort_index-e2fdc5095f597a42cd43eb4b81fd6328', 18)\": 'memory', \"('sort_index-e2fdc5095f597a42cd43eb4b81fd6328', 63)\": 'memory', \"('sort_index-e2fdc5095f597a42cd43eb4b81fd6328', 93)\": 'memory', \"('sort_index-e2fdc5095f597a42cd43eb4b81fd6328', 98)\": 'memory', \"('sort_index-e2fdc5095f597a42cd43eb4b81fd6328', 73)\": 'memory', \"('sort_index-e2fdc5095f597a42cd43eb4b81fd6328', 94)\": 'memory', \"('sort_index-e2fdc5095f597a42cd43eb4b81fd6328', 137)\": 'memory', \"('sort_index-e2fdc5095f597a42cd43eb4b81fd6328', 0)\": 'memory', \"('sort_index-e2fdc5095f597a42cd43eb4b81fd6328', 1)\": 'memory', \"('sort_index-e2fdc5095f597a42cd43eb4b81fd6328', 144)\": 'memory', \"('sort_index-e2fdc5095f597a42cd43eb4b81fd6328', 132)\": 'memory', \"('sort_index-e2fdc5095f597a42cd43eb4b81fd6328', 186)\": 'memory', \"('sort_index-e2fdc5095f597a42cd43eb4b81fd6328', 31)\": 'memory', \"('sort_index-e2fdc5095f597a42cd43eb4b81fd6328', 30)\": 'memory', \"('sort_index-e2fdc5095f597a42cd43eb4b81fd6328', 8)\": 'memory', \"('sort_index-e2fdc5095f597a42cd43eb4b81fd6328', 192)\": 'memory', \"('sort_index-e2fdc5095f597a42cd43eb4b81fd6328', 175)\": 'memory', \"('sort_index-e2fdc5095f597a42cd43eb4b81fd6328', 99)\": 'memory', \"('sort_index-e2fdc5095f597a42cd43eb4b81fd6328', 147)\": 'memory', \"('sort_index-e2fdc5095f597a42cd43eb4b81fd6328', 19)\": 'memory', \"('sort_index-e2fdc5095f597a42cd43eb4b81fd6328', 164)\": 'memory', \"('sort_index-e2fdc5095f597a42cd43eb4b81fd6328', 156)\": 'memory', \"('sort_index-e2fdc5095f597a42cd43eb4b81fd6328', 38)\": 'memory', \"('sort_index-e2fdc5095f597a42cd43eb4b81fd6328', 167)\": 'memory', \"('sort_index-e2fdc5095f597a42cd43eb4b81fd6328', 59)\": 'memory', \"('sort_index-e2fdc5095f597a42cd43eb4b81fd6328', 14)\": 'memory', \"('sort_index-e2fdc5095f597a42cd43eb4b81fd6328', 165)\": 'memory', \"('sort_index-e2fdc5095f597a42cd43eb4b81fd6328', 115)\": 'memory', \"('sort_index-e2fdc5095f597a42cd43eb4b81fd6328', 20)\": 'memory', \"('sort_index-e2fdc5095f597a42cd43eb4b81fd6328', 83)\": 'memory', \"('sort_index-e2fdc5095f597a42cd43eb4b81fd6328', 81)\": 'memory', \"('sort_index-e2fdc5095f597a42cd43eb4b81fd6328', 54)\": 'memory', \"('sort_index-e2fdc5095f597a42cd43eb4b81fd6328', 119)\": 'memory', \"('sort_index-e2fdc5095f597a42cd43eb4b81fd6328', 112)\": 'memory'}\n",
      "2023-09-28 12:19:22,508 - distributed.client - WARNING - Couldn't gather 193 keys, rescheduling (\"('sort_index-e2fdc5095f597a42cd43eb4b81fd6328', 139)\", \"('sort_index-e2fdc5095f597a42cd43eb4b81fd6328', 140)\", \"('sort_index-e2fdc5095f597a42cd43eb4b81fd6328', 60)\", \"('sort_index-e2fdc5095f597a42cd43eb4b81fd6328', 161)\", \"('sort_index-e2fdc5095f597a42cd43eb4b81fd6328', 78)\", \"('sort_index-e2fdc5095f597a42cd43eb4b81fd6328', 136)\", \"('sort_index-e2fdc5095f597a42cd43eb4b81fd6328', 77)\", \"('sort_index-e2fdc5095f597a42cd43eb4b81fd6328', 180)\", \"('sort_index-e2fdc5095f597a42cd43eb4b81fd6328', 61)\", \"('sort_index-e2fdc5095f597a42cd43eb4b81fd6328', 53)\", \"('sort_index-e2fdc5095f597a42cd43eb4b81fd6328', 106)\", \"('sort_index-e2fdc5095f597a42cd43eb4b81fd6328', 133)\", \"('sort_index-e2fdc5095f597a42cd43eb4b81fd6328', 49)\", \"('sort_index-e2fdc5095f597a42cd43eb4b81fd6328', 162)\", \"('sort_index-e2fdc5095f597a42cd43eb4b81fd6328', 12)\", \"('sort_index-e2fdc5095f597a42cd43eb4b81fd6328', 36)\", \"('sort_index-e2fdc5095f597a42cd43eb4b81fd6328', 121)\", \"('sort_index-e2fdc5095f597a42cd43eb4b81fd6328', 90)\", \"('sort_index-e2fdc5095f597a42cd43eb4b81fd6328', 51)\", \"('sort_index-e2fdc5095f597a42cd43eb4b81fd6328', 155)\", \"('sort_index-e2fdc5095f597a42cd43eb4b81fd6328', 131)\", \"('sort_index-e2fdc5095f597a42cd43eb4b81fd6328', 74)\", \"('sort_index-e2fdc5095f597a42cd43eb4b81fd6328', 85)\", \"('sort_index-e2fdc5095f597a42cd43eb4b81fd6328', 163)\", \"('sort_index-e2fdc5095f597a42cd43eb4b81fd6328', 2)\", \"('sort_index-e2fdc5095f597a42cd43eb4b81fd6328', 26)\", \"('sort_index-e2fdc5095f597a42cd43eb4b81fd6328', 101)\", \"('sort_index-e2fdc5095f597a42cd43eb4b81fd6328', 120)\", \"('sort_index-e2fdc5095f597a42cd43eb4b81fd6328', 76)\", \"('sort_index-e2fdc5095f597a42cd43eb4b81fd6328', 123)\", \"('sort_index-e2fdc5095f597a42cd43eb4b81fd6328', 97)\", \"('sort_index-e2fdc5095f597a42cd43eb4b81fd6328', 35)\", \"('sort_index-e2fdc5095f597a42cd43eb4b81fd6328', 187)\", \"('sort_index-e2fdc5095f597a42cd43eb4b81fd6328', 104)\", \"('sort_index-e2fdc5095f597a42cd43eb4b81fd6328', 92)\", \"('sort_index-e2fdc5095f597a42cd43eb4b81fd6328', 107)\", \"('sort_index-e2fdc5095f597a42cd43eb4b81fd6328', 160)\", \"('sort_index-e2fdc5095f597a42cd43eb4b81fd6328', 189)\", \"('sort_index-e2fdc5095f597a42cd43eb4b81fd6328', 159)\", \"('sort_index-e2fdc5095f597a42cd43eb4b81fd6328', 88)\", \"('sort_index-e2fdc5095f597a42cd43eb4b81fd6328', 117)\", \"('sort_index-e2fdc5095f597a42cd43eb4b81fd6328', 182)\", \"('sort_index-e2fdc5095f597a42cd43eb4b81fd6328', 124)\", \"('sort_index-e2fdc5095f597a42cd43eb4b81fd6328', 103)\", \"('sort_index-e2fdc5095f597a42cd43eb4b81fd6328', 82)\", \"('sort_index-e2fdc5095f597a42cd43eb4b81fd6328', 158)\", \"('sort_index-e2fdc5095f597a42cd43eb4b81fd6328', 122)\", \"('sort_index-e2fdc5095f597a42cd43eb4b81fd6328', 171)\", \"('sort_index-e2fdc5095f597a42cd43eb4b81fd6328', 29)\", \"('sort_index-e2fdc5095f597a42cd43eb4b81fd6328', 16)\", \"('sort_index-e2fdc5095f597a42cd43eb4b81fd6328', 75)\", \"('sort_index-e2fdc5095f597a42cd43eb4b81fd6328', 67)\", \"('sort_index-e2fdc5095f597a42cd43eb4b81fd6328', 191)\", \"('sort_index-e2fdc5095f597a42cd43eb4b81fd6328', 109)\", \"('sort_index-e2fdc5095f597a42cd43eb4b81fd6328', 113)\", \"('sort_index-e2fdc5095f597a42cd43eb4b81fd6328', 108)\", \"('sort_index-e2fdc5095f597a42cd43eb4b81fd6328', 58)\", \"('sort_index-e2fdc5095f597a42cd43eb4b81fd6328', 89)\", \"('sort_index-e2fdc5095f597a42cd43eb4b81fd6328', 70)\", \"('sort_index-e2fdc5095f597a42cd43eb4b81fd6328', 79)\", \"('sort_index-e2fdc5095f597a42cd43eb4b81fd6328', 40)\", \"('sort_index-e2fdc5095f597a42cd43eb4b81fd6328', 142)\", \"('sort_index-e2fdc5095f597a42cd43eb4b81fd6328', 181)\", \"('sort_index-e2fdc5095f597a42cd43eb4b81fd6328', 176)\", \"('sort_index-e2fdc5095f597a42cd43eb4b81fd6328', 111)\", \"('sort_index-e2fdc5095f597a42cd43eb4b81fd6328', 25)\", \"('sort_index-e2fdc5095f597a42cd43eb4b81fd6328', 17)\", \"('sort_index-e2fdc5095f597a42cd43eb4b81fd6328', 105)\", \"('sort_index-e2fdc5095f597a42cd43eb4b81fd6328', 130)\", \"('sort_index-e2fdc5095f597a42cd43eb4b81fd6328', 6)\", \"('sort_index-e2fdc5095f597a42cd43eb4b81fd6328', 116)\", \"('sort_index-e2fdc5095f597a42cd43eb4b81fd6328', 32)\", \"('sort_index-e2fdc5095f597a42cd43eb4b81fd6328', 178)\", \"('sort_index-e2fdc5095f597a42cd43eb4b81fd6328', 57)\", \"('sort_index-e2fdc5095f597a42cd43eb4b81fd6328', 66)\", \"('sort_index-e2fdc5095f597a42cd43eb4b81fd6328', 152)\", \"('sort_index-e2fdc5095f597a42cd43eb4b81fd6328', 42)\", \"('sort_index-e2fdc5095f597a42cd43eb4b81fd6328', 21)\", \"('sort_index-e2fdc5095f597a42cd43eb4b81fd6328', 166)\", \"('sort_index-e2fdc5095f597a42cd43eb4b81fd6328', 84)\", \"('sort_index-e2fdc5095f597a42cd43eb4b81fd6328', 135)\", \"('sort_index-e2fdc5095f597a42cd43eb4b81fd6328', 72)\", \"('sort_index-e2fdc5095f597a42cd43eb4b81fd6328', 45)\", \"('sort_index-e2fdc5095f597a42cd43eb4b81fd6328', 118)\", \"('sort_index-e2fdc5095f597a42cd43eb4b81fd6328', 39)\", \"('sort_index-e2fdc5095f597a42cd43eb4b81fd6328', 134)\", \"('sort_index-e2fdc5095f597a42cd43eb4b81fd6328', 173)\", \"('sort_index-e2fdc5095f597a42cd43eb4b81fd6328', 65)\", \"('sort_index-e2fdc5095f597a42cd43eb4b81fd6328', 15)\", \"('sort_index-e2fdc5095f597a42cd43eb4b81fd6328', 168)\", \"('sort_index-e2fdc5095f597a42cd43eb4b81fd6328', 48)\", \"('sort_index-e2fdc5095f597a42cd43eb4b81fd6328', 151)\", \"('sort_index-e2fdc5095f597a42cd43eb4b81fd6328', 41)\", \"('sort_index-e2fdc5095f597a42cd43eb4b81fd6328', 52)\", \"('sort_index-e2fdc5095f597a42cd43eb4b81fd6328', 145)\", \"('sort_index-e2fdc5095f597a42cd43eb4b81fd6328', 129)\", \"('sort_index-e2fdc5095f597a42cd43eb4b81fd6328', 127)\", \"('sort_index-e2fdc5095f597a42cd43eb4b81fd6328', 128)\", \"('sort_index-e2fdc5095f597a42cd43eb4b81fd6328', 91)\", \"('sort_index-e2fdc5095f597a42cd43eb4b81fd6328', 46)\", \"('sort_index-e2fdc5095f597a42cd43eb4b81fd6328', 69)\", \"('sort_index-e2fdc5095f597a42cd43eb4b81fd6328', 9)\", \"('sort_index-e2fdc5095f597a42cd43eb4b81fd6328', 179)\", \"('sort_index-e2fdc5095f597a42cd43eb4b81fd6328', 126)\", \"('sort_index-e2fdc5095f597a42cd43eb4b81fd6328', 190)\", \"('sort_index-e2fdc5095f597a42cd43eb4b81fd6328', 184)\", \"('sort_index-e2fdc5095f597a42cd43eb4b81fd6328', 154)\", \"('sort_index-e2fdc5095f597a42cd43eb4b81fd6328', 11)\", \"('sort_index-e2fdc5095f597a42cd43eb4b81fd6328', 80)\", \"('sort_index-e2fdc5095f597a42cd43eb4b81fd6328', 24)\", \"('sort_index-e2fdc5095f597a42cd43eb4b81fd6328', 153)\", \"('sort_index-e2fdc5095f597a42cd43eb4b81fd6328', 86)\", \"('sort_index-e2fdc5095f597a42cd43eb4b81fd6328', 4)\", \"('sort_index-e2fdc5095f597a42cd43eb4b81fd6328', 185)\", \"('sort_index-e2fdc5095f597a42cd43eb4b81fd6328', 10)\", \"('sort_index-e2fdc5095f597a42cd43eb4b81fd6328', 87)\", \"('sort_index-e2fdc5095f597a42cd43eb4b81fd6328', 71)\", \"('sort_index-e2fdc5095f597a42cd43eb4b81fd6328', 68)\", \"('sort_index-e2fdc5095f597a42cd43eb4b81fd6328', 7)\", \"('sort_index-e2fdc5095f597a42cd43eb4b81fd6328', 44)\", \"('sort_index-e2fdc5095f597a42cd43eb4b81fd6328', 5)\", \"('sort_index-e2fdc5095f597a42cd43eb4b81fd6328', 23)\", \"('sort_index-e2fdc5095f597a42cd43eb4b81fd6328', 22)\", \"('sort_index-e2fdc5095f597a42cd43eb4b81fd6328', 47)\", \"('sort_index-e2fdc5095f597a42cd43eb4b81fd6328', 102)\", \"('sort_index-e2fdc5095f597a42cd43eb4b81fd6328', 95)\", \"('sort_index-e2fdc5095f597a42cd43eb4b81fd6328', 62)\", \"('sort_index-e2fdc5095f597a42cd43eb4b81fd6328', 37)\", \"('sort_index-e2fdc5095f597a42cd43eb4b81fd6328', 96)\", \"('sort_index-e2fdc5095f597a42cd43eb4b81fd6328', 169)\", \"('sort_index-e2fdc5095f597a42cd43eb4b81fd6328', 114)\", \"('sort_index-e2fdc5095f597a42cd43eb4b81fd6328', 43)\", \"('sort_index-e2fdc5095f597a42cd43eb4b81fd6328', 149)\", \"('sort_index-e2fdc5095f597a42cd43eb4b81fd6328', 56)\", \"('sort_index-e2fdc5095f597a42cd43eb4b81fd6328', 34)\", \"('sort_index-e2fdc5095f597a42cd43eb4b81fd6328', 148)\", \"('sort_index-e2fdc5095f597a42cd43eb4b81fd6328', 174)\", \"('sort_index-e2fdc5095f597a42cd43eb4b81fd6328', 157)\", \"('sort_index-e2fdc5095f597a42cd43eb4b81fd6328', 100)\", \"('sort_index-e2fdc5095f597a42cd43eb4b81fd6328', 143)\", \"('sort_index-e2fdc5095f597a42cd43eb4b81fd6328', 177)\", \"('sort_index-e2fdc5095f597a42cd43eb4b81fd6328', 55)\", \"('sort_index-e2fdc5095f597a42cd43eb4b81fd6328', 138)\", \"('sort_index-e2fdc5095f597a42cd43eb4b81fd6328', 110)\", \"('sort_index-e2fdc5095f597a42cd43eb4b81fd6328', 3)\", \"('sort_index-e2fdc5095f597a42cd43eb4b81fd6328', 172)\", \"('sort_index-e2fdc5095f597a42cd43eb4b81fd6328', 188)\", \"('sort_index-e2fdc5095f597a42cd43eb4b81fd6328', 50)\", \"('sort_index-e2fdc5095f597a42cd43eb4b81fd6328', 13)\", \"('sort_index-e2fdc5095f597a42cd43eb4b81fd6328', 150)\", \"('sort_index-e2fdc5095f597a42cd43eb4b81fd6328', 27)\", \"('sort_index-e2fdc5095f597a42cd43eb4b81fd6328', 170)\", \"('sort_index-e2fdc5095f597a42cd43eb4b81fd6328', 183)\", \"('sort_index-e2fdc5095f597a42cd43eb4b81fd6328', 33)\", \"('sort_index-e2fdc5095f597a42cd43eb4b81fd6328', 146)\", \"('sort_index-e2fdc5095f597a42cd43eb4b81fd6328', 141)\", \"('sort_index-e2fdc5095f597a42cd43eb4b81fd6328', 64)\", \"('sort_index-e2fdc5095f597a42cd43eb4b81fd6328', 28)\", \"('sort_index-e2fdc5095f597a42cd43eb4b81fd6328', 125)\", \"('sort_index-e2fdc5095f597a42cd43eb4b81fd6328', 18)\", \"('sort_index-e2fdc5095f597a42cd43eb4b81fd6328', 63)\", \"('sort_index-e2fdc5095f597a42cd43eb4b81fd6328', 93)\", \"('sort_index-e2fdc5095f597a42cd43eb4b81fd6328', 98)\", \"('sort_index-e2fdc5095f597a42cd43eb4b81fd6328', 73)\", \"('sort_index-e2fdc5095f597a42cd43eb4b81fd6328', 94)\", \"('sort_index-e2fdc5095f597a42cd43eb4b81fd6328', 137)\", \"('sort_index-e2fdc5095f597a42cd43eb4b81fd6328', 0)\", \"('sort_index-e2fdc5095f597a42cd43eb4b81fd6328', 1)\", \"('sort_index-e2fdc5095f597a42cd43eb4b81fd6328', 144)\", \"('sort_index-e2fdc5095f597a42cd43eb4b81fd6328', 132)\", \"('sort_index-e2fdc5095f597a42cd43eb4b81fd6328', 186)\", \"('sort_index-e2fdc5095f597a42cd43eb4b81fd6328', 31)\", \"('sort_index-e2fdc5095f597a42cd43eb4b81fd6328', 30)\", \"('sort_index-e2fdc5095f597a42cd43eb4b81fd6328', 8)\", \"('sort_index-e2fdc5095f597a42cd43eb4b81fd6328', 192)\", \"('sort_index-e2fdc5095f597a42cd43eb4b81fd6328', 175)\", \"('sort_index-e2fdc5095f597a42cd43eb4b81fd6328', 99)\", \"('sort_index-e2fdc5095f597a42cd43eb4b81fd6328', 147)\", \"('sort_index-e2fdc5095f597a42cd43eb4b81fd6328', 19)\", \"('sort_index-e2fdc5095f597a42cd43eb4b81fd6328', 164)\", \"('sort_index-e2fdc5095f597a42cd43eb4b81fd6328', 156)\", \"('sort_index-e2fdc5095f597a42cd43eb4b81fd6328', 38)\", \"('sort_index-e2fdc5095f597a42cd43eb4b81fd6328', 167)\", \"('sort_index-e2fdc5095f597a42cd43eb4b81fd6328', 59)\", \"('sort_index-e2fdc5095f597a42cd43eb4b81fd6328', 14)\", \"('sort_index-e2fdc5095f597a42cd43eb4b81fd6328', 165)\", \"('sort_index-e2fdc5095f597a42cd43eb4b81fd6328', 115)\", \"('sort_index-e2fdc5095f597a42cd43eb4b81fd6328', 20)\", \"('sort_index-e2fdc5095f597a42cd43eb4b81fd6328', 83)\", \"('sort_index-e2fdc5095f597a42cd43eb4b81fd6328', 81)\", \"('sort_index-e2fdc5095f597a42cd43eb4b81fd6328', 54)\", \"('sort_index-e2fdc5095f597a42cd43eb4b81fd6328', 119)\", \"('sort_index-e2fdc5095f597a42cd43eb4b81fd6328', 112)\")\n",
      "2023-09-28 12:19:22,497 - distributed.worker - ERROR - failed during get data with tcp://127.0.0.1:53034 -> None\n",
      "Traceback (most recent call last):\n",
      "  File \"/Users/hombit/.virtualenvs/tape/lib/python3.11/site-packages/tornado/iostream.py\", line 962, in _handle_write\n",
      "    num_bytes = self.write_to_fd(self._write_buffer.peek(size))\n",
      "                ^^^^^^^^^^^^^^^^^^^^^^^^^^^^^^^^^^^^^^^^^^^^^^^\n",
      "  File \"/Users/hombit/.virtualenvs/tape/lib/python3.11/site-packages/tornado/iostream.py\", line 1124, in write_to_fd\n",
      "    return self.socket.send(data)  # type: ignore\n",
      "           ^^^^^^^^^^^^^^^^^^^^^^\n",
      "ConnectionResetError: [Errno 54] Connection reset by peer\n",
      "\n",
      "The above exception was the direct cause of the following exception:\n",
      "\n",
      "Traceback (most recent call last):\n",
      "  File \"/Users/hombit/.virtualenvs/tape/lib/python3.11/site-packages/distributed/worker.py\", line 1800, in get_data\n",
      "    response = await comm.read(deserializers=serializers)\n",
      "               ^^^^^^^^^^^^^^^^^^^^^^^^^^^^^^^^^^^^^^^^^^\n",
      "  File \"/Users/hombit/.virtualenvs/tape/lib/python3.11/site-packages/distributed/comm/tcp.py\", line 240, in read\n",
      "    convert_stream_closed_error(self, e)\n",
      "  File \"/Users/hombit/.virtualenvs/tape/lib/python3.11/site-packages/distributed/comm/tcp.py\", line 141, in convert_stream_closed_error\n",
      "    raise CommClosedError(f\"in {obj}: {exc.__class__.__name__}: {exc}\") from exc\n",
      "distributed.comm.core.CommClosedError: in <TCP (closed)  local=tcp://127.0.0.1:53034 remote=tcp://127.0.0.1:53339>: ConnectionResetError: [Errno 54] Connection reset by peer\n",
      "2023-09-28 12:19:51,365 - distributed.worker - ERROR - failed during get data with tcp://127.0.0.1:53034 -> None\n",
      "Traceback (most recent call last):\n",
      "  File \"/Users/hombit/.virtualenvs/tape/lib/python3.11/site-packages/tornado/iostream.py\", line 962, in _handle_write\n",
      "    num_bytes = self.write_to_fd(self._write_buffer.peek(size))\n",
      "                ^^^^^^^^^^^^^^^^^^^^^^^^^^^^^^^^^^^^^^^^^^^^^^^\n",
      "  File \"/Users/hombit/.virtualenvs/tape/lib/python3.11/site-packages/tornado/iostream.py\", line 1124, in write_to_fd\n",
      "    return self.socket.send(data)  # type: ignore\n",
      "           ^^^^^^^^^^^^^^^^^^^^^^\n",
      "BrokenPipeError: [Errno 32] Broken pipe\n",
      "\n",
      "The above exception was the direct cause of the following exception:\n",
      "\n",
      "Traceback (most recent call last):\n",
      "  File \"/Users/hombit/.virtualenvs/tape/lib/python3.11/site-packages/distributed/worker.py\", line 1800, in get_data\n",
      "    response = await comm.read(deserializers=serializers)\n",
      "               ^^^^^^^^^^^^^^^^^^^^^^^^^^^^^^^^^^^^^^^^^^\n",
      "  File \"/Users/hombit/.virtualenvs/tape/lib/python3.11/site-packages/distributed/comm/tcp.py\", line 240, in read\n",
      "    convert_stream_closed_error(self, e)\n",
      "  File \"/Users/hombit/.virtualenvs/tape/lib/python3.11/site-packages/distributed/comm/tcp.py\", line 141, in convert_stream_closed_error\n",
      "    raise CommClosedError(f\"in {obj}: {exc.__class__.__name__}: {exc}\") from exc\n",
      "distributed.comm.core.CommClosedError: in <TCP (closed)  local=tcp://127.0.0.1:53034 remote=tcp://127.0.0.1:53386>: BrokenPipeError: [Errno 32] Broken pipe\n",
      "2023-09-28 12:19:54,738 - distributed.scheduler - ERROR - Couldn't gather keys: {\"('sort_index-e2fdc5095f597a42cd43eb4b81fd6328', 139)\": 'memory', \"('sort_index-e2fdc5095f597a42cd43eb4b81fd6328', 140)\": 'memory', \"('sort_index-e2fdc5095f597a42cd43eb4b81fd6328', 60)\": 'memory', \"('sort_index-e2fdc5095f597a42cd43eb4b81fd6328', 161)\": 'memory', \"('sort_index-e2fdc5095f597a42cd43eb4b81fd6328', 78)\": 'memory', \"('sort_index-e2fdc5095f597a42cd43eb4b81fd6328', 136)\": 'memory', \"('sort_index-e2fdc5095f597a42cd43eb4b81fd6328', 77)\": 'memory', \"('sort_index-e2fdc5095f597a42cd43eb4b81fd6328', 180)\": 'memory', \"('sort_index-e2fdc5095f597a42cd43eb4b81fd6328', 61)\": 'memory', \"('sort_index-e2fdc5095f597a42cd43eb4b81fd6328', 53)\": 'memory', \"('sort_index-e2fdc5095f597a42cd43eb4b81fd6328', 106)\": 'memory', \"('sort_index-e2fdc5095f597a42cd43eb4b81fd6328', 133)\": 'memory', \"('sort_index-e2fdc5095f597a42cd43eb4b81fd6328', 49)\": 'memory', \"('sort_index-e2fdc5095f597a42cd43eb4b81fd6328', 162)\": 'memory', \"('sort_index-e2fdc5095f597a42cd43eb4b81fd6328', 12)\": 'memory', \"('sort_index-e2fdc5095f597a42cd43eb4b81fd6328', 36)\": 'memory', \"('sort_index-e2fdc5095f597a42cd43eb4b81fd6328', 121)\": 'memory', \"('sort_index-e2fdc5095f597a42cd43eb4b81fd6328', 90)\": 'memory', \"('sort_index-e2fdc5095f597a42cd43eb4b81fd6328', 51)\": 'memory', \"('sort_index-e2fdc5095f597a42cd43eb4b81fd6328', 155)\": 'memory', \"('sort_index-e2fdc5095f597a42cd43eb4b81fd6328', 131)\": 'memory', \"('sort_index-e2fdc5095f597a42cd43eb4b81fd6328', 74)\": 'memory', \"('sort_index-e2fdc5095f597a42cd43eb4b81fd6328', 85)\": 'memory', \"('sort_index-e2fdc5095f597a42cd43eb4b81fd6328', 163)\": 'memory', \"('sort_index-e2fdc5095f597a42cd43eb4b81fd6328', 2)\": 'memory', \"('sort_index-e2fdc5095f597a42cd43eb4b81fd6328', 26)\": 'memory', \"('sort_index-e2fdc5095f597a42cd43eb4b81fd6328', 101)\": 'memory', \"('sort_index-e2fdc5095f597a42cd43eb4b81fd6328', 120)\": 'memory', \"('sort_index-e2fdc5095f597a42cd43eb4b81fd6328', 76)\": 'memory', \"('sort_index-e2fdc5095f597a42cd43eb4b81fd6328', 123)\": 'memory', \"('sort_index-e2fdc5095f597a42cd43eb4b81fd6328', 97)\": 'memory', \"('sort_index-e2fdc5095f597a42cd43eb4b81fd6328', 35)\": 'memory', \"('sort_index-e2fdc5095f597a42cd43eb4b81fd6328', 187)\": 'memory', \"('sort_index-e2fdc5095f597a42cd43eb4b81fd6328', 104)\": 'memory', \"('sort_index-e2fdc5095f597a42cd43eb4b81fd6328', 92)\": 'memory', \"('sort_index-e2fdc5095f597a42cd43eb4b81fd6328', 107)\": 'memory', \"('sort_index-e2fdc5095f597a42cd43eb4b81fd6328', 160)\": 'memory', \"('sort_index-e2fdc5095f597a42cd43eb4b81fd6328', 189)\": 'memory', \"('sort_index-e2fdc5095f597a42cd43eb4b81fd6328', 159)\": 'memory', \"('sort_index-e2fdc5095f597a42cd43eb4b81fd6328', 88)\": 'memory', \"('sort_index-e2fdc5095f597a42cd43eb4b81fd6328', 117)\": 'memory', \"('sort_index-e2fdc5095f597a42cd43eb4b81fd6328', 182)\": 'memory', \"('sort_index-e2fdc5095f597a42cd43eb4b81fd6328', 124)\": 'memory', \"('sort_index-e2fdc5095f597a42cd43eb4b81fd6328', 103)\": 'memory', \"('sort_index-e2fdc5095f597a42cd43eb4b81fd6328', 82)\": 'memory', \"('sort_index-e2fdc5095f597a42cd43eb4b81fd6328', 158)\": 'memory', \"('sort_index-e2fdc5095f597a42cd43eb4b81fd6328', 122)\": 'memory', \"('sort_index-e2fdc5095f597a42cd43eb4b81fd6328', 171)\": 'memory', \"('sort_index-e2fdc5095f597a42cd43eb4b81fd6328', 29)\": 'memory', \"('sort_index-e2fdc5095f597a42cd43eb4b81fd6328', 16)\": 'memory', \"('sort_index-e2fdc5095f597a42cd43eb4b81fd6328', 75)\": 'memory', \"('sort_index-e2fdc5095f597a42cd43eb4b81fd6328', 67)\": 'memory', \"('sort_index-e2fdc5095f597a42cd43eb4b81fd6328', 191)\": 'memory', \"('sort_index-e2fdc5095f597a42cd43eb4b81fd6328', 109)\": 'memory', \"('sort_index-e2fdc5095f597a42cd43eb4b81fd6328', 113)\": 'memory', \"('sort_index-e2fdc5095f597a42cd43eb4b81fd6328', 108)\": 'memory', \"('sort_index-e2fdc5095f597a42cd43eb4b81fd6328', 58)\": 'memory', \"('sort_index-e2fdc5095f597a42cd43eb4b81fd6328', 89)\": 'memory', \"('sort_index-e2fdc5095f597a42cd43eb4b81fd6328', 70)\": 'memory', \"('sort_index-e2fdc5095f597a42cd43eb4b81fd6328', 79)\": 'memory', \"('sort_index-e2fdc5095f597a42cd43eb4b81fd6328', 40)\": 'memory', \"('sort_index-e2fdc5095f597a42cd43eb4b81fd6328', 142)\": 'memory', \"('sort_index-e2fdc5095f597a42cd43eb4b81fd6328', 181)\": 'memory', \"('sort_index-e2fdc5095f597a42cd43eb4b81fd6328', 176)\": 'memory', \"('sort_index-e2fdc5095f597a42cd43eb4b81fd6328', 111)\": 'memory', \"('sort_index-e2fdc5095f597a42cd43eb4b81fd6328', 25)\": 'memory', \"('sort_index-e2fdc5095f597a42cd43eb4b81fd6328', 17)\": 'memory', \"('sort_index-e2fdc5095f597a42cd43eb4b81fd6328', 105)\": 'memory', \"('sort_index-e2fdc5095f597a42cd43eb4b81fd6328', 130)\": 'memory', \"('sort_index-e2fdc5095f597a42cd43eb4b81fd6328', 6)\": 'memory', \"('sort_index-e2fdc5095f597a42cd43eb4b81fd6328', 116)\": 'memory', \"('sort_index-e2fdc5095f597a42cd43eb4b81fd6328', 32)\": 'memory', \"('sort_index-e2fdc5095f597a42cd43eb4b81fd6328', 178)\": 'memory', \"('sort_index-e2fdc5095f597a42cd43eb4b81fd6328', 57)\": 'memory', \"('sort_index-e2fdc5095f597a42cd43eb4b81fd6328', 66)\": 'memory', \"('sort_index-e2fdc5095f597a42cd43eb4b81fd6328', 152)\": 'memory', \"('sort_index-e2fdc5095f597a42cd43eb4b81fd6328', 42)\": 'memory', \"('sort_index-e2fdc5095f597a42cd43eb4b81fd6328', 21)\": 'memory', \"('sort_index-e2fdc5095f597a42cd43eb4b81fd6328', 166)\": 'memory', \"('sort_index-e2fdc5095f597a42cd43eb4b81fd6328', 84)\": 'memory', \"('sort_index-e2fdc5095f597a42cd43eb4b81fd6328', 135)\": 'memory', \"('sort_index-e2fdc5095f597a42cd43eb4b81fd6328', 72)\": 'memory', \"('sort_index-e2fdc5095f597a42cd43eb4b81fd6328', 45)\": 'memory', \"('sort_index-e2fdc5095f597a42cd43eb4b81fd6328', 118)\": 'memory', \"('sort_index-e2fdc5095f597a42cd43eb4b81fd6328', 39)\": 'memory', \"('sort_index-e2fdc5095f597a42cd43eb4b81fd6328', 134)\": 'memory', \"('sort_index-e2fdc5095f597a42cd43eb4b81fd6328', 173)\": 'memory', \"('sort_index-e2fdc5095f597a42cd43eb4b81fd6328', 65)\": 'memory', \"('sort_index-e2fdc5095f597a42cd43eb4b81fd6328', 15)\": 'memory', \"('sort_index-e2fdc5095f597a42cd43eb4b81fd6328', 168)\": 'memory', \"('sort_index-e2fdc5095f597a42cd43eb4b81fd6328', 48)\": 'memory', \"('sort_index-e2fdc5095f597a42cd43eb4b81fd6328', 151)\": 'memory', \"('sort_index-e2fdc5095f597a42cd43eb4b81fd6328', 41)\": 'memory', \"('sort_index-e2fdc5095f597a42cd43eb4b81fd6328', 52)\": 'memory', \"('sort_index-e2fdc5095f597a42cd43eb4b81fd6328', 145)\": 'memory', \"('sort_index-e2fdc5095f597a42cd43eb4b81fd6328', 129)\": 'memory', \"('sort_index-e2fdc5095f597a42cd43eb4b81fd6328', 127)\": 'memory', \"('sort_index-e2fdc5095f597a42cd43eb4b81fd6328', 128)\": 'memory', \"('sort_index-e2fdc5095f597a42cd43eb4b81fd6328', 91)\": 'memory', \"('sort_index-e2fdc5095f597a42cd43eb4b81fd6328', 46)\": 'memory', \"('sort_index-e2fdc5095f597a42cd43eb4b81fd6328', 69)\": 'memory', \"('sort_index-e2fdc5095f597a42cd43eb4b81fd6328', 9)\": 'memory', \"('sort_index-e2fdc5095f597a42cd43eb4b81fd6328', 179)\": 'memory', \"('sort_index-e2fdc5095f597a42cd43eb4b81fd6328', 126)\": 'memory', \"('sort_index-e2fdc5095f597a42cd43eb4b81fd6328', 190)\": 'memory', \"('sort_index-e2fdc5095f597a42cd43eb4b81fd6328', 184)\": 'memory', \"('sort_index-e2fdc5095f597a42cd43eb4b81fd6328', 154)\": 'memory', \"('sort_index-e2fdc5095f597a42cd43eb4b81fd6328', 11)\": 'memory', \"('sort_index-e2fdc5095f597a42cd43eb4b81fd6328', 80)\": 'memory', \"('sort_index-e2fdc5095f597a42cd43eb4b81fd6328', 24)\": 'memory', \"('sort_index-e2fdc5095f597a42cd43eb4b81fd6328', 153)\": 'memory', \"('sort_index-e2fdc5095f597a42cd43eb4b81fd6328', 86)\": 'memory', \"('sort_index-e2fdc5095f597a42cd43eb4b81fd6328', 4)\": 'memory', \"('sort_index-e2fdc5095f597a42cd43eb4b81fd6328', 185)\": 'memory', \"('sort_index-e2fdc5095f597a42cd43eb4b81fd6328', 10)\": 'memory', \"('sort_index-e2fdc5095f597a42cd43eb4b81fd6328', 87)\": 'memory', \"('sort_index-e2fdc5095f597a42cd43eb4b81fd6328', 71)\": 'memory', \"('sort_index-e2fdc5095f597a42cd43eb4b81fd6328', 68)\": 'memory', \"('sort_index-e2fdc5095f597a42cd43eb4b81fd6328', 7)\": 'memory', \"('sort_index-e2fdc5095f597a42cd43eb4b81fd6328', 44)\": 'memory', \"('sort_index-e2fdc5095f597a42cd43eb4b81fd6328', 5)\": 'memory', \"('sort_index-e2fdc5095f597a42cd43eb4b81fd6328', 23)\": 'memory', \"('sort_index-e2fdc5095f597a42cd43eb4b81fd6328', 22)\": 'memory', \"('sort_index-e2fdc5095f597a42cd43eb4b81fd6328', 47)\": 'memory', \"('sort_index-e2fdc5095f597a42cd43eb4b81fd6328', 102)\": 'memory', \"('sort_index-e2fdc5095f597a42cd43eb4b81fd6328', 95)\": 'memory', \"('sort_index-e2fdc5095f597a42cd43eb4b81fd6328', 62)\": 'memory', \"('sort_index-e2fdc5095f597a42cd43eb4b81fd6328', 37)\": 'memory', \"('sort_index-e2fdc5095f597a42cd43eb4b81fd6328', 96)\": 'memory', \"('sort_index-e2fdc5095f597a42cd43eb4b81fd6328', 169)\": 'memory', \"('sort_index-e2fdc5095f597a42cd43eb4b81fd6328', 114)\": 'memory', \"('sort_index-e2fdc5095f597a42cd43eb4b81fd6328', 43)\": 'memory', \"('sort_index-e2fdc5095f597a42cd43eb4b81fd6328', 149)\": 'memory', \"('sort_index-e2fdc5095f597a42cd43eb4b81fd6328', 56)\": 'memory', \"('sort_index-e2fdc5095f597a42cd43eb4b81fd6328', 34)\": 'memory', \"('sort_index-e2fdc5095f597a42cd43eb4b81fd6328', 148)\": 'memory', \"('sort_index-e2fdc5095f597a42cd43eb4b81fd6328', 174)\": 'memory', \"('sort_index-e2fdc5095f597a42cd43eb4b81fd6328', 157)\": 'memory', \"('sort_index-e2fdc5095f597a42cd43eb4b81fd6328', 100)\": 'memory', \"('sort_index-e2fdc5095f597a42cd43eb4b81fd6328', 143)\": 'memory', \"('sort_index-e2fdc5095f597a42cd43eb4b81fd6328', 177)\": 'memory', \"('sort_index-e2fdc5095f597a42cd43eb4b81fd6328', 55)\": 'memory', \"('sort_index-e2fdc5095f597a42cd43eb4b81fd6328', 138)\": 'memory', \"('sort_index-e2fdc5095f597a42cd43eb4b81fd6328', 110)\": 'memory', \"('sort_index-e2fdc5095f597a42cd43eb4b81fd6328', 3)\": 'memory', \"('sort_index-e2fdc5095f597a42cd43eb4b81fd6328', 172)\": 'memory', \"('sort_index-e2fdc5095f597a42cd43eb4b81fd6328', 188)\": 'memory', \"('sort_index-e2fdc5095f597a42cd43eb4b81fd6328', 50)\": 'memory', \"('sort_index-e2fdc5095f597a42cd43eb4b81fd6328', 13)\": 'memory', \"('sort_index-e2fdc5095f597a42cd43eb4b81fd6328', 150)\": 'memory', \"('sort_index-e2fdc5095f597a42cd43eb4b81fd6328', 27)\": 'memory', \"('sort_index-e2fdc5095f597a42cd43eb4b81fd6328', 170)\": 'memory', \"('sort_index-e2fdc5095f597a42cd43eb4b81fd6328', 183)\": 'memory', \"('sort_index-e2fdc5095f597a42cd43eb4b81fd6328', 33)\": 'memory', \"('sort_index-e2fdc5095f597a42cd43eb4b81fd6328', 146)\": 'memory', \"('sort_index-e2fdc5095f597a42cd43eb4b81fd6328', 141)\": 'memory', \"('sort_index-e2fdc5095f597a42cd43eb4b81fd6328', 64)\": 'memory', \"('sort_index-e2fdc5095f597a42cd43eb4b81fd6328', 28)\": 'memory', \"('sort_index-e2fdc5095f597a42cd43eb4b81fd6328', 125)\": 'memory', \"('sort_index-e2fdc5095f597a42cd43eb4b81fd6328', 18)\": 'memory', \"('sort_index-e2fdc5095f597a42cd43eb4b81fd6328', 63)\": 'memory', \"('sort_index-e2fdc5095f597a42cd43eb4b81fd6328', 93)\": 'memory', \"('sort_index-e2fdc5095f597a42cd43eb4b81fd6328', 98)\": 'memory', \"('sort_index-e2fdc5095f597a42cd43eb4b81fd6328', 73)\": 'memory', \"('sort_index-e2fdc5095f597a42cd43eb4b81fd6328', 94)\": 'memory', \"('sort_index-e2fdc5095f597a42cd43eb4b81fd6328', 137)\": 'memory', \"('sort_index-e2fdc5095f597a42cd43eb4b81fd6328', 0)\": 'memory', \"('sort_index-e2fdc5095f597a42cd43eb4b81fd6328', 1)\": 'memory', \"('sort_index-e2fdc5095f597a42cd43eb4b81fd6328', 144)\": 'memory', \"('sort_index-e2fdc5095f597a42cd43eb4b81fd6328', 132)\": 'memory', \"('sort_index-e2fdc5095f597a42cd43eb4b81fd6328', 186)\": 'memory', \"('sort_index-e2fdc5095f597a42cd43eb4b81fd6328', 31)\": 'memory', \"('sort_index-e2fdc5095f597a42cd43eb4b81fd6328', 30)\": 'memory', \"('sort_index-e2fdc5095f597a42cd43eb4b81fd6328', 8)\": 'memory', \"('sort_index-e2fdc5095f597a42cd43eb4b81fd6328', 192)\": 'memory', \"('sort_index-e2fdc5095f597a42cd43eb4b81fd6328', 175)\": 'memory', \"('sort_index-e2fdc5095f597a42cd43eb4b81fd6328', 99)\": 'memory', \"('sort_index-e2fdc5095f597a42cd43eb4b81fd6328', 147)\": 'memory', \"('sort_index-e2fdc5095f597a42cd43eb4b81fd6328', 19)\": 'memory', \"('sort_index-e2fdc5095f597a42cd43eb4b81fd6328', 164)\": 'memory', \"('sort_index-e2fdc5095f597a42cd43eb4b81fd6328', 156)\": 'memory', \"('sort_index-e2fdc5095f597a42cd43eb4b81fd6328', 38)\": 'memory', \"('sort_index-e2fdc5095f597a42cd43eb4b81fd6328', 167)\": 'memory', \"('sort_index-e2fdc5095f597a42cd43eb4b81fd6328', 59)\": 'memory', \"('sort_index-e2fdc5095f597a42cd43eb4b81fd6328', 14)\": 'memory', \"('sort_index-e2fdc5095f597a42cd43eb4b81fd6328', 165)\": 'memory', \"('sort_index-e2fdc5095f597a42cd43eb4b81fd6328', 115)\": 'memory', \"('sort_index-e2fdc5095f597a42cd43eb4b81fd6328', 20)\": 'memory', \"('sort_index-e2fdc5095f597a42cd43eb4b81fd6328', 83)\": 'memory', \"('sort_index-e2fdc5095f597a42cd43eb4b81fd6328', 81)\": 'memory', \"('sort_index-e2fdc5095f597a42cd43eb4b81fd6328', 54)\": 'memory', \"('sort_index-e2fdc5095f597a42cd43eb4b81fd6328', 119)\": 'memory', \"('sort_index-e2fdc5095f597a42cd43eb4b81fd6328', 112)\": 'memory'}\n",
      "2023-09-28 12:19:54,737 - distributed.worker - ERROR - failed during get data with tcp://127.0.0.1:53035 -> None\n",
      "Traceback (most recent call last):\n",
      "  File \"/Users/hombit/.virtualenvs/tape/lib/python3.11/site-packages/tornado/iostream.py\", line 962, in _handle_write\n",
      "    num_bytes = self.write_to_fd(self._write_buffer.peek(size))\n",
      "                ^^^^^^^^^^^^^^^^^^^^^^^^^^^^^^^^^^^^^^^^^^^^^^^\n",
      "  File \"/Users/hombit/.virtualenvs/tape/lib/python3.11/site-packages/tornado/iostream.py\", line 1124, in write_to_fd\n",
      "    return self.socket.send(data)  # type: ignore\n",
      "           ^^^^^^^^^^^^^^^^^^^^^^\n",
      "ConnectionResetError: [Errno 54] Connection reset by peer\n",
      "\n",
      "The above exception was the direct cause of the following exception:\n",
      "\n",
      "Traceback (most recent call last):\n",
      "  File \"/Users/hombit/.virtualenvs/tape/lib/python3.11/site-packages/distributed/worker.py\", line 1800, in get_data\n",
      "    response = await comm.read(deserializers=serializers)\n",
      "               ^^^^^^^^^^^^^^^^^^^^^^^^^^^^^^^^^^^^^^^^^^\n",
      "  File \"/Users/hombit/.virtualenvs/tape/lib/python3.11/site-packages/distributed/comm/tcp.py\", line 240, in read\n",
      "    convert_stream_closed_error(self, e)\n",
      "  File \"/Users/hombit/.virtualenvs/tape/lib/python3.11/site-packages/distributed/comm/tcp.py\", line 141, in convert_stream_closed_error\n",
      "    raise CommClosedError(f\"in {obj}: {exc.__class__.__name__}: {exc}\") from exc\n",
      "distributed.comm.core.CommClosedError: in <TCP (closed)  local=tcp://127.0.0.1:53035 remote=tcp://127.0.0.1:53385>: ConnectionResetError: [Errno 54] Connection reset by peer\n",
      "2023-09-28 12:19:54,745 - distributed.client - WARNING - Couldn't gather 193 keys, rescheduling (\"('sort_index-e2fdc5095f597a42cd43eb4b81fd6328', 139)\", \"('sort_index-e2fdc5095f597a42cd43eb4b81fd6328', 140)\", \"('sort_index-e2fdc5095f597a42cd43eb4b81fd6328', 60)\", \"('sort_index-e2fdc5095f597a42cd43eb4b81fd6328', 161)\", \"('sort_index-e2fdc5095f597a42cd43eb4b81fd6328', 78)\", \"('sort_index-e2fdc5095f597a42cd43eb4b81fd6328', 136)\", \"('sort_index-e2fdc5095f597a42cd43eb4b81fd6328', 77)\", \"('sort_index-e2fdc5095f597a42cd43eb4b81fd6328', 180)\", \"('sort_index-e2fdc5095f597a42cd43eb4b81fd6328', 61)\", \"('sort_index-e2fdc5095f597a42cd43eb4b81fd6328', 53)\", \"('sort_index-e2fdc5095f597a42cd43eb4b81fd6328', 106)\", \"('sort_index-e2fdc5095f597a42cd43eb4b81fd6328', 133)\", \"('sort_index-e2fdc5095f597a42cd43eb4b81fd6328', 49)\", \"('sort_index-e2fdc5095f597a42cd43eb4b81fd6328', 162)\", \"('sort_index-e2fdc5095f597a42cd43eb4b81fd6328', 12)\", \"('sort_index-e2fdc5095f597a42cd43eb4b81fd6328', 36)\", \"('sort_index-e2fdc5095f597a42cd43eb4b81fd6328', 121)\", \"('sort_index-e2fdc5095f597a42cd43eb4b81fd6328', 90)\", \"('sort_index-e2fdc5095f597a42cd43eb4b81fd6328', 51)\", \"('sort_index-e2fdc5095f597a42cd43eb4b81fd6328', 155)\", \"('sort_index-e2fdc5095f597a42cd43eb4b81fd6328', 131)\", \"('sort_index-e2fdc5095f597a42cd43eb4b81fd6328', 74)\", \"('sort_index-e2fdc5095f597a42cd43eb4b81fd6328', 85)\", \"('sort_index-e2fdc5095f597a42cd43eb4b81fd6328', 163)\", \"('sort_index-e2fdc5095f597a42cd43eb4b81fd6328', 2)\", \"('sort_index-e2fdc5095f597a42cd43eb4b81fd6328', 26)\", \"('sort_index-e2fdc5095f597a42cd43eb4b81fd6328', 101)\", \"('sort_index-e2fdc5095f597a42cd43eb4b81fd6328', 120)\", \"('sort_index-e2fdc5095f597a42cd43eb4b81fd6328', 76)\", \"('sort_index-e2fdc5095f597a42cd43eb4b81fd6328', 123)\", \"('sort_index-e2fdc5095f597a42cd43eb4b81fd6328', 97)\", \"('sort_index-e2fdc5095f597a42cd43eb4b81fd6328', 35)\", \"('sort_index-e2fdc5095f597a42cd43eb4b81fd6328', 187)\", \"('sort_index-e2fdc5095f597a42cd43eb4b81fd6328', 104)\", \"('sort_index-e2fdc5095f597a42cd43eb4b81fd6328', 92)\", \"('sort_index-e2fdc5095f597a42cd43eb4b81fd6328', 107)\", \"('sort_index-e2fdc5095f597a42cd43eb4b81fd6328', 160)\", \"('sort_index-e2fdc5095f597a42cd43eb4b81fd6328', 189)\", \"('sort_index-e2fdc5095f597a42cd43eb4b81fd6328', 159)\", \"('sort_index-e2fdc5095f597a42cd43eb4b81fd6328', 88)\", \"('sort_index-e2fdc5095f597a42cd43eb4b81fd6328', 117)\", \"('sort_index-e2fdc5095f597a42cd43eb4b81fd6328', 182)\", \"('sort_index-e2fdc5095f597a42cd43eb4b81fd6328', 124)\", \"('sort_index-e2fdc5095f597a42cd43eb4b81fd6328', 103)\", \"('sort_index-e2fdc5095f597a42cd43eb4b81fd6328', 82)\", \"('sort_index-e2fdc5095f597a42cd43eb4b81fd6328', 158)\", \"('sort_index-e2fdc5095f597a42cd43eb4b81fd6328', 122)\", \"('sort_index-e2fdc5095f597a42cd43eb4b81fd6328', 171)\", \"('sort_index-e2fdc5095f597a42cd43eb4b81fd6328', 29)\", \"('sort_index-e2fdc5095f597a42cd43eb4b81fd6328', 16)\", \"('sort_index-e2fdc5095f597a42cd43eb4b81fd6328', 75)\", \"('sort_index-e2fdc5095f597a42cd43eb4b81fd6328', 67)\", \"('sort_index-e2fdc5095f597a42cd43eb4b81fd6328', 191)\", \"('sort_index-e2fdc5095f597a42cd43eb4b81fd6328', 109)\", \"('sort_index-e2fdc5095f597a42cd43eb4b81fd6328', 113)\", \"('sort_index-e2fdc5095f597a42cd43eb4b81fd6328', 108)\", \"('sort_index-e2fdc5095f597a42cd43eb4b81fd6328', 58)\", \"('sort_index-e2fdc5095f597a42cd43eb4b81fd6328', 89)\", \"('sort_index-e2fdc5095f597a42cd43eb4b81fd6328', 70)\", \"('sort_index-e2fdc5095f597a42cd43eb4b81fd6328', 79)\", \"('sort_index-e2fdc5095f597a42cd43eb4b81fd6328', 40)\", \"('sort_index-e2fdc5095f597a42cd43eb4b81fd6328', 142)\", \"('sort_index-e2fdc5095f597a42cd43eb4b81fd6328', 181)\", \"('sort_index-e2fdc5095f597a42cd43eb4b81fd6328', 176)\", \"('sort_index-e2fdc5095f597a42cd43eb4b81fd6328', 111)\", \"('sort_index-e2fdc5095f597a42cd43eb4b81fd6328', 25)\", \"('sort_index-e2fdc5095f597a42cd43eb4b81fd6328', 17)\", \"('sort_index-e2fdc5095f597a42cd43eb4b81fd6328', 105)\", \"('sort_index-e2fdc5095f597a42cd43eb4b81fd6328', 130)\", \"('sort_index-e2fdc5095f597a42cd43eb4b81fd6328', 6)\", \"('sort_index-e2fdc5095f597a42cd43eb4b81fd6328', 116)\", \"('sort_index-e2fdc5095f597a42cd43eb4b81fd6328', 32)\", \"('sort_index-e2fdc5095f597a42cd43eb4b81fd6328', 178)\", \"('sort_index-e2fdc5095f597a42cd43eb4b81fd6328', 57)\", \"('sort_index-e2fdc5095f597a42cd43eb4b81fd6328', 66)\", \"('sort_index-e2fdc5095f597a42cd43eb4b81fd6328', 152)\", \"('sort_index-e2fdc5095f597a42cd43eb4b81fd6328', 42)\", \"('sort_index-e2fdc5095f597a42cd43eb4b81fd6328', 21)\", \"('sort_index-e2fdc5095f597a42cd43eb4b81fd6328', 166)\", \"('sort_index-e2fdc5095f597a42cd43eb4b81fd6328', 84)\", \"('sort_index-e2fdc5095f597a42cd43eb4b81fd6328', 135)\", \"('sort_index-e2fdc5095f597a42cd43eb4b81fd6328', 72)\", \"('sort_index-e2fdc5095f597a42cd43eb4b81fd6328', 45)\", \"('sort_index-e2fdc5095f597a42cd43eb4b81fd6328', 118)\", \"('sort_index-e2fdc5095f597a42cd43eb4b81fd6328', 39)\", \"('sort_index-e2fdc5095f597a42cd43eb4b81fd6328', 134)\", \"('sort_index-e2fdc5095f597a42cd43eb4b81fd6328', 173)\", \"('sort_index-e2fdc5095f597a42cd43eb4b81fd6328', 65)\", \"('sort_index-e2fdc5095f597a42cd43eb4b81fd6328', 15)\", \"('sort_index-e2fdc5095f597a42cd43eb4b81fd6328', 168)\", \"('sort_index-e2fdc5095f597a42cd43eb4b81fd6328', 48)\", \"('sort_index-e2fdc5095f597a42cd43eb4b81fd6328', 151)\", \"('sort_index-e2fdc5095f597a42cd43eb4b81fd6328', 41)\", \"('sort_index-e2fdc5095f597a42cd43eb4b81fd6328', 52)\", \"('sort_index-e2fdc5095f597a42cd43eb4b81fd6328', 145)\", \"('sort_index-e2fdc5095f597a42cd43eb4b81fd6328', 129)\", \"('sort_index-e2fdc5095f597a42cd43eb4b81fd6328', 127)\", \"('sort_index-e2fdc5095f597a42cd43eb4b81fd6328', 128)\", \"('sort_index-e2fdc5095f597a42cd43eb4b81fd6328', 91)\", \"('sort_index-e2fdc5095f597a42cd43eb4b81fd6328', 46)\", \"('sort_index-e2fdc5095f597a42cd43eb4b81fd6328', 69)\", \"('sort_index-e2fdc5095f597a42cd43eb4b81fd6328', 9)\", \"('sort_index-e2fdc5095f597a42cd43eb4b81fd6328', 179)\", \"('sort_index-e2fdc5095f597a42cd43eb4b81fd6328', 126)\", \"('sort_index-e2fdc5095f597a42cd43eb4b81fd6328', 190)\", \"('sort_index-e2fdc5095f597a42cd43eb4b81fd6328', 184)\", \"('sort_index-e2fdc5095f597a42cd43eb4b81fd6328', 154)\", \"('sort_index-e2fdc5095f597a42cd43eb4b81fd6328', 11)\", \"('sort_index-e2fdc5095f597a42cd43eb4b81fd6328', 80)\", \"('sort_index-e2fdc5095f597a42cd43eb4b81fd6328', 24)\", \"('sort_index-e2fdc5095f597a42cd43eb4b81fd6328', 153)\", \"('sort_index-e2fdc5095f597a42cd43eb4b81fd6328', 86)\", \"('sort_index-e2fdc5095f597a42cd43eb4b81fd6328', 4)\", \"('sort_index-e2fdc5095f597a42cd43eb4b81fd6328', 185)\", \"('sort_index-e2fdc5095f597a42cd43eb4b81fd6328', 10)\", \"('sort_index-e2fdc5095f597a42cd43eb4b81fd6328', 87)\", \"('sort_index-e2fdc5095f597a42cd43eb4b81fd6328', 71)\", \"('sort_index-e2fdc5095f597a42cd43eb4b81fd6328', 68)\", \"('sort_index-e2fdc5095f597a42cd43eb4b81fd6328', 7)\", \"('sort_index-e2fdc5095f597a42cd43eb4b81fd6328', 44)\", \"('sort_index-e2fdc5095f597a42cd43eb4b81fd6328', 5)\", \"('sort_index-e2fdc5095f597a42cd43eb4b81fd6328', 23)\", \"('sort_index-e2fdc5095f597a42cd43eb4b81fd6328', 22)\", \"('sort_index-e2fdc5095f597a42cd43eb4b81fd6328', 47)\", \"('sort_index-e2fdc5095f597a42cd43eb4b81fd6328', 102)\", \"('sort_index-e2fdc5095f597a42cd43eb4b81fd6328', 95)\", \"('sort_index-e2fdc5095f597a42cd43eb4b81fd6328', 62)\", \"('sort_index-e2fdc5095f597a42cd43eb4b81fd6328', 37)\", \"('sort_index-e2fdc5095f597a42cd43eb4b81fd6328', 96)\", \"('sort_index-e2fdc5095f597a42cd43eb4b81fd6328', 169)\", \"('sort_index-e2fdc5095f597a42cd43eb4b81fd6328', 114)\", \"('sort_index-e2fdc5095f597a42cd43eb4b81fd6328', 43)\", \"('sort_index-e2fdc5095f597a42cd43eb4b81fd6328', 149)\", \"('sort_index-e2fdc5095f597a42cd43eb4b81fd6328', 56)\", \"('sort_index-e2fdc5095f597a42cd43eb4b81fd6328', 34)\", \"('sort_index-e2fdc5095f597a42cd43eb4b81fd6328', 148)\", \"('sort_index-e2fdc5095f597a42cd43eb4b81fd6328', 174)\", \"('sort_index-e2fdc5095f597a42cd43eb4b81fd6328', 157)\", \"('sort_index-e2fdc5095f597a42cd43eb4b81fd6328', 100)\", \"('sort_index-e2fdc5095f597a42cd43eb4b81fd6328', 143)\", \"('sort_index-e2fdc5095f597a42cd43eb4b81fd6328', 177)\", \"('sort_index-e2fdc5095f597a42cd43eb4b81fd6328', 55)\", \"('sort_index-e2fdc5095f597a42cd43eb4b81fd6328', 138)\", \"('sort_index-e2fdc5095f597a42cd43eb4b81fd6328', 110)\", \"('sort_index-e2fdc5095f597a42cd43eb4b81fd6328', 3)\", \"('sort_index-e2fdc5095f597a42cd43eb4b81fd6328', 172)\", \"('sort_index-e2fdc5095f597a42cd43eb4b81fd6328', 188)\", \"('sort_index-e2fdc5095f597a42cd43eb4b81fd6328', 50)\", \"('sort_index-e2fdc5095f597a42cd43eb4b81fd6328', 13)\", \"('sort_index-e2fdc5095f597a42cd43eb4b81fd6328', 150)\", \"('sort_index-e2fdc5095f597a42cd43eb4b81fd6328', 27)\", \"('sort_index-e2fdc5095f597a42cd43eb4b81fd6328', 170)\", \"('sort_index-e2fdc5095f597a42cd43eb4b81fd6328', 183)\", \"('sort_index-e2fdc5095f597a42cd43eb4b81fd6328', 33)\", \"('sort_index-e2fdc5095f597a42cd43eb4b81fd6328', 146)\", \"('sort_index-e2fdc5095f597a42cd43eb4b81fd6328', 141)\", \"('sort_index-e2fdc5095f597a42cd43eb4b81fd6328', 64)\", \"('sort_index-e2fdc5095f597a42cd43eb4b81fd6328', 28)\", \"('sort_index-e2fdc5095f597a42cd43eb4b81fd6328', 125)\", \"('sort_index-e2fdc5095f597a42cd43eb4b81fd6328', 18)\", \"('sort_index-e2fdc5095f597a42cd43eb4b81fd6328', 63)\", \"('sort_index-e2fdc5095f597a42cd43eb4b81fd6328', 93)\", \"('sort_index-e2fdc5095f597a42cd43eb4b81fd6328', 98)\", \"('sort_index-e2fdc5095f597a42cd43eb4b81fd6328', 73)\", \"('sort_index-e2fdc5095f597a42cd43eb4b81fd6328', 94)\", \"('sort_index-e2fdc5095f597a42cd43eb4b81fd6328', 137)\", \"('sort_index-e2fdc5095f597a42cd43eb4b81fd6328', 0)\", \"('sort_index-e2fdc5095f597a42cd43eb4b81fd6328', 1)\", \"('sort_index-e2fdc5095f597a42cd43eb4b81fd6328', 144)\", \"('sort_index-e2fdc5095f597a42cd43eb4b81fd6328', 132)\", \"('sort_index-e2fdc5095f597a42cd43eb4b81fd6328', 186)\", \"('sort_index-e2fdc5095f597a42cd43eb4b81fd6328', 31)\", \"('sort_index-e2fdc5095f597a42cd43eb4b81fd6328', 30)\", \"('sort_index-e2fdc5095f597a42cd43eb4b81fd6328', 8)\", \"('sort_index-e2fdc5095f597a42cd43eb4b81fd6328', 192)\", \"('sort_index-e2fdc5095f597a42cd43eb4b81fd6328', 175)\", \"('sort_index-e2fdc5095f597a42cd43eb4b81fd6328', 99)\", \"('sort_index-e2fdc5095f597a42cd43eb4b81fd6328', 147)\", \"('sort_index-e2fdc5095f597a42cd43eb4b81fd6328', 19)\", \"('sort_index-e2fdc5095f597a42cd43eb4b81fd6328', 164)\", \"('sort_index-e2fdc5095f597a42cd43eb4b81fd6328', 156)\", \"('sort_index-e2fdc5095f597a42cd43eb4b81fd6328', 38)\", \"('sort_index-e2fdc5095f597a42cd43eb4b81fd6328', 167)\", \"('sort_index-e2fdc5095f597a42cd43eb4b81fd6328', 59)\", \"('sort_index-e2fdc5095f597a42cd43eb4b81fd6328', 14)\", \"('sort_index-e2fdc5095f597a42cd43eb4b81fd6328', 165)\", \"('sort_index-e2fdc5095f597a42cd43eb4b81fd6328', 115)\", \"('sort_index-e2fdc5095f597a42cd43eb4b81fd6328', 20)\", \"('sort_index-e2fdc5095f597a42cd43eb4b81fd6328', 83)\", \"('sort_index-e2fdc5095f597a42cd43eb4b81fd6328', 81)\", \"('sort_index-e2fdc5095f597a42cd43eb4b81fd6328', 54)\", \"('sort_index-e2fdc5095f597a42cd43eb4b81fd6328', 119)\", \"('sort_index-e2fdc5095f597a42cd43eb4b81fd6328', 112)\")\n",
      "2023-09-28 12:20:17,226 - distributed.worker - ERROR - failed during get data with tcp://127.0.0.1:53034 -> None\n",
      "Traceback (most recent call last):\n",
      "  File \"/Users/hombit/.virtualenvs/tape/lib/python3.11/site-packages/tornado/iostream.py\", line 962, in _handle_write\n",
      "    num_bytes = self.write_to_fd(self._write_buffer.peek(size))\n",
      "                ^^^^^^^^^^^^^^^^^^^^^^^^^^^^^^^^^^^^^^^^^^^^^^^\n",
      "  File \"/Users/hombit/.virtualenvs/tape/lib/python3.11/site-packages/tornado/iostream.py\", line 1124, in write_to_fd\n",
      "    return self.socket.send(data)  # type: ignore\n",
      "           ^^^^^^^^^^^^^^^^^^^^^^\n",
      "ConnectionResetError: [Errno 54] Connection reset by peer\n",
      "\n",
      "The above exception was the direct cause of the following exception:\n",
      "\n",
      "Traceback (most recent call last):\n",
      "  File \"/Users/hombit/.virtualenvs/tape/lib/python3.11/site-packages/distributed/worker.py\", line 1800, in get_data\n",
      "    response = await comm.read(deserializers=serializers)\n",
      "               ^^^^^^^^^^^^^^^^^^^^^^^^^^^^^^^^^^^^^^^^^^\n",
      "  File \"/Users/hombit/.virtualenvs/tape/lib/python3.11/site-packages/distributed/comm/tcp.py\", line 240, in read\n",
      "    convert_stream_closed_error(self, e)\n",
      "  File \"/Users/hombit/.virtualenvs/tape/lib/python3.11/site-packages/distributed/comm/tcp.py\", line 141, in convert_stream_closed_error\n",
      "    raise CommClosedError(f\"in {obj}: {exc.__class__.__name__}: {exc}\") from exc\n",
      "distributed.comm.core.CommClosedError: in <TCP (closed)  local=tcp://127.0.0.1:53034 remote=tcp://127.0.0.1:53399>: ConnectionResetError: [Errno 54] Connection reset by peer\n"
     ]
    },
    {
     "ename": "KeyboardInterrupt",
     "evalue": "",
     "output_type": "error",
     "traceback": [
      "\u001B[0;31m---------------------------------------------------------------------------\u001B[0m",
      "\u001B[0;31mKeyboardInterrupt\u001B[0m                         Traceback (most recent call last)",
      "File \u001B[0;32m<timed exec>:87\u001B[0m\n",
      "File \u001B[0;32m~/projects/lincc-frameworks/tape/src/tape/ensemble.py:244\u001B[0m, in \u001B[0;36mEnsemble.compute\u001B[0;34m(self, table, **kwargs)\u001B[0m\n\u001B[1;32m    242\u001B[0m \u001B[38;5;28;01melse\u001B[39;00m:\n\u001B[1;32m    243\u001B[0m     \u001B[38;5;28mself\u001B[39m\u001B[38;5;241m.\u001B[39m_lazy_sync_tables(table\u001B[38;5;241m=\u001B[39m\u001B[38;5;124m\"\u001B[39m\u001B[38;5;124mall\u001B[39m\u001B[38;5;124m\"\u001B[39m)\n\u001B[0;32m--> 244\u001B[0m     \u001B[38;5;28;01mreturn\u001B[39;00m (\u001B[38;5;28mself\u001B[39m\u001B[38;5;241m.\u001B[39m_object\u001B[38;5;241m.\u001B[39mcompute(\u001B[38;5;241m*\u001B[39m\u001B[38;5;241m*\u001B[39mkwargs), \u001B[38;5;28;43mself\u001B[39;49m\u001B[38;5;241;43m.\u001B[39;49m\u001B[43m_source\u001B[49m\u001B[38;5;241;43m.\u001B[39;49m\u001B[43mcompute\u001B[49m\u001B[43m(\u001B[49m\u001B[38;5;241;43m*\u001B[39;49m\u001B[38;5;241;43m*\u001B[39;49m\u001B[43mkwargs\u001B[49m\u001B[43m)\u001B[49m)\n",
      "File \u001B[0;32m~/.virtualenvs/tape/lib/python3.11/site-packages/dask/base.py:381\u001B[0m, in \u001B[0;36mDaskMethodsMixin.compute\u001B[0;34m(self, **kwargs)\u001B[0m\n\u001B[1;32m    357\u001B[0m \u001B[38;5;28;01mdef\u001B[39;00m \u001B[38;5;21mcompute\u001B[39m(\u001B[38;5;28mself\u001B[39m, \u001B[38;5;241m*\u001B[39m\u001B[38;5;241m*\u001B[39mkwargs):\n\u001B[1;32m    358\u001B[0m \u001B[38;5;250m    \u001B[39m\u001B[38;5;124;03m\"\"\"Compute this dask collection\u001B[39;00m\n\u001B[1;32m    359\u001B[0m \n\u001B[1;32m    360\u001B[0m \u001B[38;5;124;03m    This turns a lazy Dask collection into its in-memory equivalent.\u001B[39;00m\n\u001B[0;32m   (...)\u001B[0m\n\u001B[1;32m    379\u001B[0m \u001B[38;5;124;03m    dask.compute\u001B[39;00m\n\u001B[1;32m    380\u001B[0m \u001B[38;5;124;03m    \"\"\"\u001B[39;00m\n\u001B[0;32m--> 381\u001B[0m     (result,) \u001B[38;5;241m=\u001B[39m \u001B[43mcompute\u001B[49m\u001B[43m(\u001B[49m\u001B[38;5;28;43mself\u001B[39;49m\u001B[43m,\u001B[49m\u001B[43m \u001B[49m\u001B[43mtraverse\u001B[49m\u001B[38;5;241;43m=\u001B[39;49m\u001B[38;5;28;43;01mFalse\u001B[39;49;00m\u001B[43m,\u001B[49m\u001B[43m \u001B[49m\u001B[38;5;241;43m*\u001B[39;49m\u001B[38;5;241;43m*\u001B[39;49m\u001B[43mkwargs\u001B[49m\u001B[43m)\u001B[49m\n\u001B[1;32m    382\u001B[0m     \u001B[38;5;28;01mreturn\u001B[39;00m result\n",
      "File \u001B[0;32m~/.virtualenvs/tape/lib/python3.11/site-packages/dask/base.py:666\u001B[0m, in \u001B[0;36mcompute\u001B[0;34m(traverse, optimize_graph, scheduler, get, *args, **kwargs)\u001B[0m\n\u001B[1;32m    663\u001B[0m     keys\u001B[38;5;241m.\u001B[39mappend(x\u001B[38;5;241m.\u001B[39m__dask_keys__())\n\u001B[1;32m    664\u001B[0m     postcomputes\u001B[38;5;241m.\u001B[39mappend(x\u001B[38;5;241m.\u001B[39m__dask_postcompute__())\n\u001B[0;32m--> 666\u001B[0m results \u001B[38;5;241m=\u001B[39m \u001B[43mschedule\u001B[49m\u001B[43m(\u001B[49m\u001B[43mdsk\u001B[49m\u001B[43m,\u001B[49m\u001B[43m \u001B[49m\u001B[43mkeys\u001B[49m\u001B[43m,\u001B[49m\u001B[43m \u001B[49m\u001B[38;5;241;43m*\u001B[39;49m\u001B[38;5;241;43m*\u001B[39;49m\u001B[43mkwargs\u001B[49m\u001B[43m)\u001B[49m\n\u001B[1;32m    667\u001B[0m \u001B[38;5;28;01mreturn\u001B[39;00m repack([f(r, \u001B[38;5;241m*\u001B[39ma) \u001B[38;5;28;01mfor\u001B[39;00m r, (f, a) \u001B[38;5;129;01min\u001B[39;00m \u001B[38;5;28mzip\u001B[39m(results, postcomputes)])\n",
      "File \u001B[0;32m~/.virtualenvs/tape/lib/python3.11/site-packages/distributed/client.py:3278\u001B[0m, in \u001B[0;36mClient.get\u001B[0;34m(self, dsk, keys, workers, allow_other_workers, resources, sync, asynchronous, direct, retries, priority, fifo_timeout, actors, **kwargs)\u001B[0m\n\u001B[1;32m   3276\u001B[0m         should_rejoin \u001B[38;5;241m=\u001B[39m \u001B[38;5;28;01mFalse\u001B[39;00m\n\u001B[1;32m   3277\u001B[0m \u001B[38;5;28;01mtry\u001B[39;00m:\n\u001B[0;32m-> 3278\u001B[0m     results \u001B[38;5;241m=\u001B[39m \u001B[38;5;28;43mself\u001B[39;49m\u001B[38;5;241;43m.\u001B[39;49m\u001B[43mgather\u001B[49m\u001B[43m(\u001B[49m\u001B[43mpacked\u001B[49m\u001B[43m,\u001B[49m\u001B[43m \u001B[49m\u001B[43masynchronous\u001B[49m\u001B[38;5;241;43m=\u001B[39;49m\u001B[43masynchronous\u001B[49m\u001B[43m,\u001B[49m\u001B[43m \u001B[49m\u001B[43mdirect\u001B[49m\u001B[38;5;241;43m=\u001B[39;49m\u001B[43mdirect\u001B[49m\u001B[43m)\u001B[49m\n\u001B[1;32m   3279\u001B[0m \u001B[38;5;28;01mfinally\u001B[39;00m:\n\u001B[1;32m   3280\u001B[0m     \u001B[38;5;28;01mfor\u001B[39;00m f \u001B[38;5;129;01min\u001B[39;00m futures\u001B[38;5;241m.\u001B[39mvalues():\n",
      "File \u001B[0;32m~/.virtualenvs/tape/lib/python3.11/site-packages/distributed/client.py:2403\u001B[0m, in \u001B[0;36mClient.gather\u001B[0;34m(self, futures, errors, direct, asynchronous)\u001B[0m\n\u001B[1;32m   2401\u001B[0m \u001B[38;5;28;01mexcept\u001B[39;00m \u001B[38;5;167;01mValueError\u001B[39;00m:\n\u001B[1;32m   2402\u001B[0m     local_worker \u001B[38;5;241m=\u001B[39m \u001B[38;5;28;01mNone\u001B[39;00m\n\u001B[0;32m-> 2403\u001B[0m \u001B[38;5;28;01mreturn\u001B[39;00m \u001B[38;5;28;43mself\u001B[39;49m\u001B[38;5;241;43m.\u001B[39;49m\u001B[43msync\u001B[49m\u001B[43m(\u001B[49m\n\u001B[1;32m   2404\u001B[0m \u001B[43m    \u001B[49m\u001B[38;5;28;43mself\u001B[39;49m\u001B[38;5;241;43m.\u001B[39;49m\u001B[43m_gather\u001B[49m\u001B[43m,\u001B[49m\n\u001B[1;32m   2405\u001B[0m \u001B[43m    \u001B[49m\u001B[43mfutures\u001B[49m\u001B[43m,\u001B[49m\n\u001B[1;32m   2406\u001B[0m \u001B[43m    \u001B[49m\u001B[43merrors\u001B[49m\u001B[38;5;241;43m=\u001B[39;49m\u001B[43merrors\u001B[49m\u001B[43m,\u001B[49m\n\u001B[1;32m   2407\u001B[0m \u001B[43m    \u001B[49m\u001B[43mdirect\u001B[49m\u001B[38;5;241;43m=\u001B[39;49m\u001B[43mdirect\u001B[49m\u001B[43m,\u001B[49m\n\u001B[1;32m   2408\u001B[0m \u001B[43m    \u001B[49m\u001B[43mlocal_worker\u001B[49m\u001B[38;5;241;43m=\u001B[39;49m\u001B[43mlocal_worker\u001B[49m\u001B[43m,\u001B[49m\n\u001B[1;32m   2409\u001B[0m \u001B[43m    \u001B[49m\u001B[43masynchronous\u001B[49m\u001B[38;5;241;43m=\u001B[39;49m\u001B[43masynchronous\u001B[49m\u001B[43m,\u001B[49m\n\u001B[1;32m   2410\u001B[0m \u001B[43m\u001B[49m\u001B[43m)\u001B[49m\n",
      "File \u001B[0;32m~/.virtualenvs/tape/lib/python3.11/site-packages/distributed/utils.py:359\u001B[0m, in \u001B[0;36mSyncMethodMixin.sync\u001B[0;34m(self, func, asynchronous, callback_timeout, *args, **kwargs)\u001B[0m\n\u001B[1;32m    357\u001B[0m     \u001B[38;5;28;01mreturn\u001B[39;00m future\n\u001B[1;32m    358\u001B[0m \u001B[38;5;28;01melse\u001B[39;00m:\n\u001B[0;32m--> 359\u001B[0m     \u001B[38;5;28;01mreturn\u001B[39;00m \u001B[43msync\u001B[49m\u001B[43m(\u001B[49m\n\u001B[1;32m    360\u001B[0m \u001B[43m        \u001B[49m\u001B[38;5;28;43mself\u001B[39;49m\u001B[38;5;241;43m.\u001B[39;49m\u001B[43mloop\u001B[49m\u001B[43m,\u001B[49m\u001B[43m \u001B[49m\u001B[43mfunc\u001B[49m\u001B[43m,\u001B[49m\u001B[43m \u001B[49m\u001B[38;5;241;43m*\u001B[39;49m\u001B[43margs\u001B[49m\u001B[43m,\u001B[49m\u001B[43m \u001B[49m\u001B[43mcallback_timeout\u001B[49m\u001B[38;5;241;43m=\u001B[39;49m\u001B[43mcallback_timeout\u001B[49m\u001B[43m,\u001B[49m\u001B[43m \u001B[49m\u001B[38;5;241;43m*\u001B[39;49m\u001B[38;5;241;43m*\u001B[39;49m\u001B[43mkwargs\u001B[49m\n\u001B[1;32m    361\u001B[0m \u001B[43m    \u001B[49m\u001B[43m)\u001B[49m\n",
      "File \u001B[0;32m~/.virtualenvs/tape/lib/python3.11/site-packages/distributed/utils.py:422\u001B[0m, in \u001B[0;36msync\u001B[0;34m(loop, func, callback_timeout, *args, **kwargs)\u001B[0m\n\u001B[1;32m    420\u001B[0m \u001B[38;5;28;01melse\u001B[39;00m:\n\u001B[1;32m    421\u001B[0m     \u001B[38;5;28;01mwhile\u001B[39;00m \u001B[38;5;129;01mnot\u001B[39;00m e\u001B[38;5;241m.\u001B[39mis_set():\n\u001B[0;32m--> 422\u001B[0m         \u001B[43mwait\u001B[49m\u001B[43m(\u001B[49m\u001B[38;5;241;43m10\u001B[39;49m\u001B[43m)\u001B[49m\n\u001B[1;32m    424\u001B[0m \u001B[38;5;28;01mif\u001B[39;00m error:\n\u001B[1;32m    425\u001B[0m     typ, exc, tb \u001B[38;5;241m=\u001B[39m error\n",
      "File \u001B[0;32m~/.virtualenvs/tape/lib/python3.11/site-packages/distributed/utils.py:411\u001B[0m, in \u001B[0;36msync.<locals>.wait\u001B[0;34m(timeout)\u001B[0m\n\u001B[1;32m    409\u001B[0m \u001B[38;5;28;01mdef\u001B[39;00m \u001B[38;5;21mwait\u001B[39m(timeout):\n\u001B[1;32m    410\u001B[0m     \u001B[38;5;28;01mtry\u001B[39;00m:\n\u001B[0;32m--> 411\u001B[0m         \u001B[38;5;28;01mreturn\u001B[39;00m \u001B[43me\u001B[49m\u001B[38;5;241;43m.\u001B[39;49m\u001B[43mwait\u001B[49m\u001B[43m(\u001B[49m\u001B[43mtimeout\u001B[49m\u001B[43m)\u001B[49m\n\u001B[1;32m    412\u001B[0m     \u001B[38;5;28;01mexcept\u001B[39;00m \u001B[38;5;167;01mKeyboardInterrupt\u001B[39;00m:\n\u001B[1;32m    413\u001B[0m         loop\u001B[38;5;241m.\u001B[39madd_callback(cancel)\n",
      "File \u001B[0;32m/opt/homebrew/Cellar/python@3.11/3.11.5/Frameworks/Python.framework/Versions/3.11/lib/python3.11/threading.py:622\u001B[0m, in \u001B[0;36mEvent.wait\u001B[0;34m(self, timeout)\u001B[0m\n\u001B[1;32m    620\u001B[0m signaled \u001B[38;5;241m=\u001B[39m \u001B[38;5;28mself\u001B[39m\u001B[38;5;241m.\u001B[39m_flag\n\u001B[1;32m    621\u001B[0m \u001B[38;5;28;01mif\u001B[39;00m \u001B[38;5;129;01mnot\u001B[39;00m signaled:\n\u001B[0;32m--> 622\u001B[0m     signaled \u001B[38;5;241m=\u001B[39m \u001B[38;5;28;43mself\u001B[39;49m\u001B[38;5;241;43m.\u001B[39;49m\u001B[43m_cond\u001B[49m\u001B[38;5;241;43m.\u001B[39;49m\u001B[43mwait\u001B[49m\u001B[43m(\u001B[49m\u001B[43mtimeout\u001B[49m\u001B[43m)\u001B[49m\n\u001B[1;32m    623\u001B[0m \u001B[38;5;28;01mreturn\u001B[39;00m signaled\n",
      "File \u001B[0;32m/opt/homebrew/Cellar/python@3.11/3.11.5/Frameworks/Python.framework/Versions/3.11/lib/python3.11/threading.py:324\u001B[0m, in \u001B[0;36mCondition.wait\u001B[0;34m(self, timeout)\u001B[0m\n\u001B[1;32m    322\u001B[0m \u001B[38;5;28;01melse\u001B[39;00m:\n\u001B[1;32m    323\u001B[0m     \u001B[38;5;28;01mif\u001B[39;00m timeout \u001B[38;5;241m>\u001B[39m \u001B[38;5;241m0\u001B[39m:\n\u001B[0;32m--> 324\u001B[0m         gotit \u001B[38;5;241m=\u001B[39m \u001B[43mwaiter\u001B[49m\u001B[38;5;241;43m.\u001B[39;49m\u001B[43macquire\u001B[49m\u001B[43m(\u001B[49m\u001B[38;5;28;43;01mTrue\u001B[39;49;00m\u001B[43m,\u001B[49m\u001B[43m \u001B[49m\u001B[43mtimeout\u001B[49m\u001B[43m)\u001B[49m\n\u001B[1;32m    325\u001B[0m     \u001B[38;5;28;01melse\u001B[39;00m:\n\u001B[1;32m    326\u001B[0m         gotit \u001B[38;5;241m=\u001B[39m waiter\u001B[38;5;241m.\u001B[39macquire(\u001B[38;5;28;01mFalse\u001B[39;00m)\n",
      "\u001B[0;31mKeyboardInterrupt\u001B[0m: "
     ]
    }
   ],
   "source": [
    "%%time\n",
    "\n",
    "import light_curve as licu\n",
    "import dask.dataframe as dd\n",
    "from tape import Ensemble, ColumnMapper\n",
    "\n",
    "# In TAPE's (and LSST's) terminology, sources are individual detections,\n",
    "# and objects are the underlying astrophysical objects.\n",
    "\n",
    "# We load object table first, from the metadata file.\n",
    "print(\"Loading object table...\")\n",
    "object_table = dd.read_csv(\n",
    "    DATA_DIR / META_FILENAME,\n",
    "    blocksize=100e6,\n",
    ")\n",
    "# object_table = object_table.set_index('object_id', sorted=True, sort=False,)# divisions=[13, 130788054])\n",
    "\n",
    "# Then we load the sources:\n",
    "print(\"Loading source tables...\")\n",
    "source_table = dd.read_csv(\n",
    "    [DATA_DIR / filename for filename in LC_FILENAMES],\n",
    "    blocksize=100e6,\n",
    ")\n",
    "# source_table = source_table.set_index('object_id', sorted=True, sort=False,) # divisions=[13, 1000183, 13952428, 26956806, 39933855, 52935297, 65930419, 78887012, 91875367, 104853940, 117792961, 130788054])\n",
    "\n",
    "# Now we can make an Ensemble.\n",
    "# To make parallel processing work we need to partition the data.\n",
    "# After that, when we run analysis, TAPE will distribute the work:\n",
    "# one partition per worker.\n",
    "print(\"Building Ensemble...\")\n",
    "# ens = Ensemble(dashboard_address=\"127.0.0.1:8787\", memory_limit='16GB')\n",
    "ens = Ensemble(sync_mode=False, memory_limit='16GB', n_workers=2)\n",
    "ens.from_dask_dataframe(\n",
    "    source_frame=source_table,\n",
    "    object_frame=object_table,\n",
    "    # npartitions=N_PARTITIONS,\n",
    "    npartitions=None,\n",
    "    column_mapper=ColumnMapper(\n",
    "        id_col='object_id',\n",
    "        time_col='mjd',\n",
    "        flux_col='flux',\n",
    "        err_col='flux_err',\n",
    "        band_col='passband',\n",
    "    ),\n",
    "    sync_tables=False,\n",
    ")\n",
    "\n",
    "# Let's run some analysis!\n",
    "\n",
    "print(\"Starting analysis...\")\n",
    "# First, let's select only Galactic objects, by cutting on hostgal_photoz.\n",
    "print(\"First, filter by photoz\")\n",
    "ens = ens.query(\"hostgal_photoz < 1e-3\", table=\"object\")\n",
    "\n",
    "# Second, let's select persistent sources, by cutting on the duration of the light curve.\n",
    "print(\"Extract durations\")\n",
    "duration = ens.batch(\n",
    "    lambda time, detected: np.ptp(time[np.asarray(detected, dtype=bool)]),\n",
    "    ens._time_col, 'detected_bool',\n",
    "    meta=('duration', \"float64\"),\n",
    "    use_map=False,\n",
    "    compute=False,\n",
    ")\n",
    "print(\"Assign a column\")\n",
    "ens.assign(table=\"object\", duration=duration)\n",
    "print(\"Filter by duration\")\n",
    "ens = ens.query(\"duration > 366\", table=\"object\")\n",
    "\n",
    "# Next, we use Otsu's method to split light curves into two groups:\n",
    "# one with high flux, and one with low flux. Eclipsing binaries should have\n",
    "# lower flux group smaller than the higher flux group, but having larger \n",
    "# variability. We use light-curve package to extract these features.\n",
    "# (https://github.com/light-curve/light-curve-python)\n",
    "# For simplicity, we only calculate these features for the i band.\n",
    "print(\"Extract Otsu features\")\n",
    "otsu_features = ens.batch(licu.OtsuSplit(), band_to_calc=3, use_map=False, compute=False)\n",
    "print(\"Assign columns\")\n",
    "ens = ens.assign(\n",
    "    table=\"object\",\n",
    "    otsu_lower_to_all_ratio=otsu_features['otsu_lower_to_all_ratio'],\n",
    "    otsu_std_lower=otsu_features['otsu_std_lower'],\n",
    "    otsu_std_upper=otsu_features['otsu_std_upper'],\n",
    ")\n",
    "print('Filter by Otsu features')\n",
    "ens = ens.query(\n",
    "    \"otsu_lower_to_all_ratio < 0.1 and otsu_std_lower > otsu_std_upper\",\n",
    "    table=\"object\",\n",
    ")\n",
    "ens = ens.compute()"
   ],
   "metadata": {
    "collapsed": false,
    "ExecuteTime": {
     "end_time": "2023-09-28T16:20:21.672515Z",
     "start_time": "2023-09-28T16:10:34.917963Z"
    }
   },
   "id": "e023704e2d93eb13"
  },
  {
   "cell_type": "markdown",
   "source": [
    "### Do the same, but with bare Pandas + PyArrow and nested arrays"
   ],
   "metadata": {
    "collapsed": false
   },
   "id": "c92b01b629070426"
  },
  {
   "cell_type": "code",
   "execution_count": null,
   "outputs": [
    {
     "name": "stdout",
     "output_type": "stream",
     "text": [
      "Loading object table...\n",
      "Loading source tables...\n"
     ]
    }
   ],
   "source": [
    "%%time\n",
    "# %%memit\n",
    "\n",
    "import light_curve as licu\n",
    "import numpy as np\n",
    "import pandas as pd\n",
    "import pyarrow as pa\n",
    "import pyarrow.csv as pacsv\n",
    "from joblib import Parallel, delayed\n",
    "\n",
    "# Read the data\n",
    "# -------------\n",
    "\n",
    "# First we load object table, from the metadata file.\n",
    "print(\"Loading object table...\")\n",
    "object_table = pacsv.read_csv(\n",
    "    DATA_DIR / META_FILENAME,\n",
    "    # We'd like to load the whole file into a single partition\n",
    "    read_options=pacsv.ReadOptions(block_size=(1<<31)-1),\n",
    ")\n",
    "object_table = pd.DataFrame(\n",
    "    {\n",
    "        col: pd.Series(\n",
    "            object_table[col],\n",
    "            dtype=pd.ArrowDtype(object_table[col].type),\n",
    "            index=object_table['object_id'],\n",
    "            copy=False,\n",
    "        )\n",
    "        for col in object_table.column_names if col != 'object_id'\n",
    "    },\n",
    ")\n",
    "\n",
    "# Then we load the sources:\n",
    "print(\"Loading source tables...\")\n",
    "\n",
    "def read_source_table(filename):\n",
    "    table = pacsv.read_csv(\n",
    "        DATA_DIR / filename,\n",
    "        # We'd like to have a partition per an original file\n",
    "        read_options=pacsv.ReadOptions(block_size=(1<<31)-1),\n",
    "    )\n",
    "    return pd.DataFrame(\n",
    "        {\n",
    "            col: pd.Series(\n",
    "                table[col],\n",
    "                dtype=pd.ArrowDtype(table[col].type),\n",
    "                index=table['object_id'],\n",
    "                copy=False,\n",
    "            )\n",
    "            for col in table.column_names if col != 'object_id'\n",
    "        },\n",
    "    )\n",
    "\n",
    "# source_tables = []\n",
    "# for filename in LC_FILENAMES:\n",
    "#     source_table = pa.csv.read_csv(\n",
    "#         DATA_DIR / filename,\n",
    "#         # We'd like to have a partition per an original file\n",
    "#         read_options=pa.csv.ReadOptions(block_size=(1<<31)-1),\n",
    "#     )\n",
    "#     source_tables.append(pd.DataFrame(\n",
    "#         {\n",
    "#             col: pd.Series(\n",
    "#                 source_table[col],\n",
    "#                 dtype=pd.ArrowDtype(source_table[col].type),\n",
    "#                 index=source_table['object_id'],\n",
    "#                 copy=False,\n",
    "#             )\n",
    "#             for col in source_table.column_names if col != 'object_id'\n",
    "#         },\n",
    "#     ))\n",
    "source_tables = Parallel(backend='threading', n_jobs=2)(\n",
    "    delayed(read_source_table)(filename) for filename in LC_FILENAMES\n",
    ")\n",
    "source_table = pd.concat(source_tables, ignore_index=True, sort=False)\n",
    "\n",
    "\n",
    "# Add sources to the object table\n",
    "# -------------------------------\n",
    "\n",
    "# First, let's do some sanity checks\n",
    "print(\"Sanity checks...\")\n",
    "np.testing.assert_array_equal(\n",
    "    object_table.index.values,\n",
    "    np.unique(object_table.index.values),\n",
    "    err_msg=\"Object table has duplicate indices or is not sorted.\",\n",
    ")\n",
    "assert np.all(np.diff(source_table.index) >= 0), \"Source table index must be sorted.\"\n",
    "\n",
    "# We need an offsets array to know where each source light curve starts.\n",
    "source_offsets = []\n",
    "for table in source_tables:\n",
    "    offset = np.nonzero(np.diff(table.index, prepend=-1, append=-1))[0]\n",
    "    source_offsets.append(pa.array(offset))\n",
    "\n",
    "# Update the object table with list-arrays built from the source table\n",
    "\n",
    "print(\"Updating object table with list-arrays...\")\n",
    "for column in source_table.columns:\n",
    "    list_arrays = []\n",
    "    for table, offset in zip(source_tables, source_offsets):\n",
    "        list_arrays.append(pa.ListArray.from_arrays(\n",
    "            offset,\n",
    "            pa.array(table[column]),\n",
    "        ))\n",
    "    chunked_array = pa.chunked_array(list_arrays)\n",
    "    object_table[column] = pd.Series(\n",
    "        chunked_array,\n",
    "        dtype=pd.ArrowDtype(chunked_array.type),\n",
    "        index=object_table.index,\n",
    "    )\n",
    "    \n",
    "# Do analysis\n",
    "# -----------\n",
    "\n",
    "print(\"Starting analysis...\")\n",
    "# First, let's select only Galactic objects, by cutting on hostgal_photoz.\n",
    "df = object_table[object_table['hostgal_photoz'] < 1e-3]\n",
    "\n",
    "# Second, let's select persistent sources, by cutting on the duration of the light curve.\n",
    "df['duration'] = df[['mjd', 'detected_bool']].apply(\n",
    "    lambda row: np.ptp(row['mjd'][np.asarray(row['detected_bool'], dtype=bool)]),\n",
    "    axis=1\n",
    ")\n",
    "df = df[df['duration'] > 366]\n",
    "\n",
    "# Next, we use Otsu's method to split light curves into two groups:\n",
    "# one with high flux, and one with low flux. Eclipsing binaries should have\n",
    "# lower flux group significantly smaller than the higher flux group,\n",
    "# but having larger variability.\n",
    "# We use light-curve package to extract these features.\n",
    "# (https://github.com/light-curve/light-curve-python)\n",
    "# For simplicity, we only calculate these features for the i band.\n",
    "def extract_band(*arrays, bands, band_to_calc):\n",
    "    mask = np.asarray(bands) == band_to_calc\n",
    "    return [np.asarray(arr)[mask] for arr in arrays]\n",
    "\n",
    "otsu_split = licu.OtsuSplit()\n",
    "otsu_features = df[['mjd', 'flux', 'flux_err', 'passband']].apply(\n",
    "    lambda row: pd.Series(\n",
    "        otsu_split(\n",
    "            *extract_band(\n",
    "                row['mjd'],\n",
    "                row['flux'],\n",
    "                row['flux_err'],\n",
    "                bands=row['passband'],\n",
    "                band_to_calc=3,  # i band\n",
    "            ),\n",
    "            sorted=True,\n",
    "            check=False,\n",
    "        ),\n",
    "        index=otsu_split.names,\n",
    "    ),\n",
    "    axis=1\n",
    ")\n",
    "\n",
    "df = df[otsu_features['otsu_lower_to_all_ratio'] < 0.1]\n",
    "df = df[otsu_features['otsu_std_lower'] > otsu_features['otsu_std_upper']]"
   ],
   "metadata": {
    "collapsed": false,
    "ExecuteTime": {
     "start_time": "2023-09-28T15:19:27.518044Z"
    }
   },
   "id": "b1d6c3f4c547b96b"
  },
  {
   "cell_type": "code",
   "execution_count": 7,
   "outputs": [
    {
     "data": {
      "text/plain": "                 ra     decl  ddf_bool  hostgal_specz  hostgal_photoz  \\\n168        349.4295 -62.5086         1           -9.0             0.0   \n104007       1.3636 -46.7685         1           -9.0             0.0   \n268222      52.9102 -26.2768         1           -9.0             0.0   \n1000889    106.1719 -40.0330         0           -9.0             0.0   \n1014192     98.9648   2.6867         0           -9.0             0.0   \n...             ...      ...       ...            ...             ...   \n130773164  279.8438 -29.4845         0           -9.0             0.0   \n130773875  288.8086 -12.6356         0           -9.0             0.0   \n130775146  328.8867 -34.9539         0           -9.0             0.0   \n130786299  169.6289   1.4922         0           -9.0             0.0   \n130787879   67.1484 -25.1177         0           -9.0             0.0   \n\n           hostgal_photoz_err  distmod  mwebv  target  true_target  ...  \\\n168                       0.0     -9.0  0.020       0           16  ...   \n104007                    0.0     -9.0  0.008       0           16  ...   \n268222                    0.0     -9.0  0.008       0           16  ...   \n1000889                   0.0     -9.0  0.136       0           65  ...   \n1014192                   0.0     -9.0  1.849       0           92  ...   \n...                       ...      ...    ...     ...          ...  ...   \n130773164                 0.0     -9.0  0.162       0           16  ...   \n130773875                 0.0     -9.0  0.180       0           16  ...   \n130775146                 0.0     -9.0  0.019       0           16  ...   \n130786299                 0.0     -9.0  0.041       0           16  ...   \n130787879                 0.0     -9.0  0.034       0           16  ...   \n\n           tflux_r  tflux_i  tflux_z  tflux_y  \\\n168          366.0    243.5    147.8     59.8   \n104007       658.3    497.2    325.6    138.3   \n268222       407.2    267.6    161.0     64.7   \n1000889      117.9    426.1    737.4    949.2   \n1014192     3574.3   3425.8   3972.8   4227.6   \n...            ...      ...      ...      ...   \n130773164  10962.4   9186.6   6481.9   2894.3   \n130773875  22191.3  18744.6  13295.9   5959.6   \n130775146   4365.2   3988.1   2935.0   1347.0   \n130786299  20735.3  14952.9   9547.2   3988.9   \n130787879   1949.0   1327.2    817.9    333.7   \n\n                                                         mjd  \\\n168        [59750.4229 59750.4306 59750.4383 59750.445  5...   \n104007     [59770.3662 59770.374  59770.3817 59770.3928 5...   \n268222     [59825.26   59825.2676 59825.2752 59825.2862 5...   \n1000889    [59583.298  59583.3544 59584.0467 59589.0609 5...   \n1014192    [59638.0155 59653.0841 59662.0036 59682.0035 5...   \n...                                                      ...   \n130773164  [59698.4292 59700.2404 59722.3742 59729.4327 5...   \n130773875  [59696.3432 59698.3456 59698.4209 59701.3375 5...   \n130775146  [59753.2174 59769.2853 59770.2698 59771.1771 5...   \n130786299  [59610.2991 59610.3785 59611.3766 59612.3737 5...   \n130787879  [59580.0594 59583.0916 59584.1081 59588.1043 5...   \n\n                                                    passband  \\\n168        [2 1 3 4 2 1 3 4 5 2 1 3 4 5 2 1 3 4 5 2 1 3 4...   \n104007     [2 1 3 4 5 2 1 3 4 5 2 1 3 4 5 2 1 3 4 5 2 1 3...   \n268222     [2 1 3 4 5 2 1 3 4 5 2 1 3 4 5 0 2 1 3 4 5 2 1...   \n1000889    [0 4 4 5 3 5 5 3 5 4 5 4 5 5 5 5 5 4 4 4 5 5 2...   \n1014192    [4 5 5 5 5 5 4 5 5 5 4 4 4 0 1 2 4 2 2 0 2 0 3...   \n...                                                      ...   \n130773164  [4 0 4 4 3 4 1 5 4 3 2 4 4 2 5 5 0 5 1 5 2 4 4...   \n130773875  [3 3 4 2 0 5 3 4 4 5 5 4 4 5 2 1 5 5 4 4 0 4 1...   \n130775146  [1 4 5 4 5 5 5 5 4 1 2 5 0 3 5 4 5 1 3 2 3 2 3...   \n130786299  [3 4 4 4 4 0 5 4 5 5 1 5 4 4 4 4 4 2 4 3 2 3 4...   \n130787879  [5 0 0 5 3 4 5 4 5 4 5 5 4 4 5 5 4 4 1 5 5 5 3...   \n\n                                                        flux  \\\n168        [ 8.04076000e-01  1.87697700e+00  1.80772400e+...   \n104007     [ 8.1388500e-01  1.0303110e+00  1.4764110e+00 ...   \n268222     [ 7.4472100e-01 -2.7603720e+00 -1.7110180e+00 ...   \n1000889    [ 2.80417700e+00 -7.52903700e+00 -5.13894700e+...   \n1014192    [-1.78175034e+02  4.11250040e+01  4.01937256e+...   \n...                                                      ...   \n130773164  [-6.01033500e+00 -1.71352540e+01  2.04168870e+...   \n130773875  [-3.22548462e+02 -2.54991400e+01 -4.62516440e+...   \n130775146  [ 2.37857150e+01  4.81287120e+01  1.95647320e+...   \n130786299  [ 1.13636230e+01 -2.06327606e+02  1.00225400e+...   \n130787879  [-1.02686420e+01 -2.31972730e+01 -7.05197000e-...   \n\n                                                    flux_err  \\\n168        [ 1.653534  2.331876  2.394275 10.431469  1.26...   \n104007     [ 1.07554   1.322442  1.359521  1.942241  4.68...   \n268222     [1.174541 1.48612  1.978493 3.024909 7.139806 ...   \n1000889    [ 8.161173 13.003259 19.156862 22.240126  9.21...   \n1014192    [  169.611145   423.33371    249.60318    214....   \n...                                                      ...   \n130773164  [43.856094 24.732826 17.160511 21.696514 22.08...   \n130773875  [15.321712 15.063808 37.548401 19.989159 21.80...   \n130775146  [ 6.818478 10.075212 17.565044 13.315582 30.69...   \n130786299  [16.489899 26.350208 23.926029 24.907831 26.94...   \n130787879  [27.136755 11.748099 12.617407 26.967546  6.95...   \n\n                                               detected_bool  duration  \n168        [0 0 0 0 0 1 0 0 0 0 0 0 0 0 0 0 0 0 0 0 0 0 0...  785.8281  \n104007     [0 0 0 0 0 0 0 0 0 0 0 0 0 0 0 0 0 0 0 0 0 0 0...  713.0030  \n268222     [0 0 0 0 0 0 0 0 0 0 0 0 0 0 0 0 0 0 0 0 0 0 0...  412.9690  \n1000889    [0 0 0 0 1 0 0 0 0 0 0 0 0 0 0 0 0 0 0 0 0 0 0...  616.0312  \n1014192    [0 0 0 0 1 0 0 0 0 0 0 0 0 0 0 0 0 0 0 0 0 0 0...  980.1724  \n...                                                      ...       ...  \n130773164  [0 0 0 0 0 0 0 0 0 1 0 0 0 0 0 0 0 0 0 1 0 0 0...  595.3709  \n130773875  [1 0 0 0 0 0 0 0 0 0 0 0 0 0 0 0 0 0 0 0 0 0 0...  831.7051  \n130775146  [0 0 0 0 0 0 0 0 0 0 1 0 0 1 0 0 0 0 1 1 1 1 0...  828.6954  \n130786299  [0 1 0 0 1 0 0 0 1 0 0 0 0 1 0 0 1 0 0 0 0 0 1...  848.6973  \n130787879  [0 0 0 0 0 0 0 0 0 0 0 0 0 0 0 0 0 0 0 0 0 0 0...  707.9264  \n\n[31221 rows x 31 columns]",
      "text/html": "<div>\n<style scoped>\n    .dataframe tbody tr th:only-of-type {\n        vertical-align: middle;\n    }\n\n    .dataframe tbody tr th {\n        vertical-align: top;\n    }\n\n    .dataframe thead th {\n        text-align: right;\n    }\n</style>\n<table border=\"1\" class=\"dataframe\">\n  <thead>\n    <tr style=\"text-align: right;\">\n      <th></th>\n      <th>ra</th>\n      <th>decl</th>\n      <th>ddf_bool</th>\n      <th>hostgal_specz</th>\n      <th>hostgal_photoz</th>\n      <th>hostgal_photoz_err</th>\n      <th>distmod</th>\n      <th>mwebv</th>\n      <th>target</th>\n      <th>true_target</th>\n      <th>...</th>\n      <th>tflux_r</th>\n      <th>tflux_i</th>\n      <th>tflux_z</th>\n      <th>tflux_y</th>\n      <th>mjd</th>\n      <th>passband</th>\n      <th>flux</th>\n      <th>flux_err</th>\n      <th>detected_bool</th>\n      <th>duration</th>\n    </tr>\n  </thead>\n  <tbody>\n    <tr>\n      <th>168</th>\n      <td>349.4295</td>\n      <td>-62.5086</td>\n      <td>1</td>\n      <td>-9.0</td>\n      <td>0.0</td>\n      <td>0.0</td>\n      <td>-9.0</td>\n      <td>0.020</td>\n      <td>0</td>\n      <td>16</td>\n      <td>...</td>\n      <td>366.0</td>\n      <td>243.5</td>\n      <td>147.8</td>\n      <td>59.8</td>\n      <td>[59750.4229 59750.4306 59750.4383 59750.445  5...</td>\n      <td>[2 1 3 4 2 1 3 4 5 2 1 3 4 5 2 1 3 4 5 2 1 3 4...</td>\n      <td>[ 8.04076000e-01  1.87697700e+00  1.80772400e+...</td>\n      <td>[ 1.653534  2.331876  2.394275 10.431469  1.26...</td>\n      <td>[0 0 0 0 0 1 0 0 0 0 0 0 0 0 0 0 0 0 0 0 0 0 0...</td>\n      <td>785.8281</td>\n    </tr>\n    <tr>\n      <th>104007</th>\n      <td>1.3636</td>\n      <td>-46.7685</td>\n      <td>1</td>\n      <td>-9.0</td>\n      <td>0.0</td>\n      <td>0.0</td>\n      <td>-9.0</td>\n      <td>0.008</td>\n      <td>0</td>\n      <td>16</td>\n      <td>...</td>\n      <td>658.3</td>\n      <td>497.2</td>\n      <td>325.6</td>\n      <td>138.3</td>\n      <td>[59770.3662 59770.374  59770.3817 59770.3928 5...</td>\n      <td>[2 1 3 4 5 2 1 3 4 5 2 1 3 4 5 2 1 3 4 5 2 1 3...</td>\n      <td>[ 8.1388500e-01  1.0303110e+00  1.4764110e+00 ...</td>\n      <td>[ 1.07554   1.322442  1.359521  1.942241  4.68...</td>\n      <td>[0 0 0 0 0 0 0 0 0 0 0 0 0 0 0 0 0 0 0 0 0 0 0...</td>\n      <td>713.0030</td>\n    </tr>\n    <tr>\n      <th>268222</th>\n      <td>52.9102</td>\n      <td>-26.2768</td>\n      <td>1</td>\n      <td>-9.0</td>\n      <td>0.0</td>\n      <td>0.0</td>\n      <td>-9.0</td>\n      <td>0.008</td>\n      <td>0</td>\n      <td>16</td>\n      <td>...</td>\n      <td>407.2</td>\n      <td>267.6</td>\n      <td>161.0</td>\n      <td>64.7</td>\n      <td>[59825.26   59825.2676 59825.2752 59825.2862 5...</td>\n      <td>[2 1 3 4 5 2 1 3 4 5 2 1 3 4 5 0 2 1 3 4 5 2 1...</td>\n      <td>[ 7.4472100e-01 -2.7603720e+00 -1.7110180e+00 ...</td>\n      <td>[1.174541 1.48612  1.978493 3.024909 7.139806 ...</td>\n      <td>[0 0 0 0 0 0 0 0 0 0 0 0 0 0 0 0 0 0 0 0 0 0 0...</td>\n      <td>412.9690</td>\n    </tr>\n    <tr>\n      <th>1000889</th>\n      <td>106.1719</td>\n      <td>-40.0330</td>\n      <td>0</td>\n      <td>-9.0</td>\n      <td>0.0</td>\n      <td>0.0</td>\n      <td>-9.0</td>\n      <td>0.136</td>\n      <td>0</td>\n      <td>65</td>\n      <td>...</td>\n      <td>117.9</td>\n      <td>426.1</td>\n      <td>737.4</td>\n      <td>949.2</td>\n      <td>[59583.298  59583.3544 59584.0467 59589.0609 5...</td>\n      <td>[0 4 4 5 3 5 5 3 5 4 5 4 5 5 5 5 5 4 4 4 5 5 2...</td>\n      <td>[ 2.80417700e+00 -7.52903700e+00 -5.13894700e+...</td>\n      <td>[ 8.161173 13.003259 19.156862 22.240126  9.21...</td>\n      <td>[0 0 0 0 1 0 0 0 0 0 0 0 0 0 0 0 0 0 0 0 0 0 0...</td>\n      <td>616.0312</td>\n    </tr>\n    <tr>\n      <th>1014192</th>\n      <td>98.9648</td>\n      <td>2.6867</td>\n      <td>0</td>\n      <td>-9.0</td>\n      <td>0.0</td>\n      <td>0.0</td>\n      <td>-9.0</td>\n      <td>1.849</td>\n      <td>0</td>\n      <td>92</td>\n      <td>...</td>\n      <td>3574.3</td>\n      <td>3425.8</td>\n      <td>3972.8</td>\n      <td>4227.6</td>\n      <td>[59638.0155 59653.0841 59662.0036 59682.0035 5...</td>\n      <td>[4 5 5 5 5 5 4 5 5 5 4 4 4 0 1 2 4 2 2 0 2 0 3...</td>\n      <td>[-1.78175034e+02  4.11250040e+01  4.01937256e+...</td>\n      <td>[  169.611145   423.33371    249.60318    214....</td>\n      <td>[0 0 0 0 1 0 0 0 0 0 0 0 0 0 0 0 0 0 0 0 0 0 0...</td>\n      <td>980.1724</td>\n    </tr>\n    <tr>\n      <th>...</th>\n      <td>...</td>\n      <td>...</td>\n      <td>...</td>\n      <td>...</td>\n      <td>...</td>\n      <td>...</td>\n      <td>...</td>\n      <td>...</td>\n      <td>...</td>\n      <td>...</td>\n      <td>...</td>\n      <td>...</td>\n      <td>...</td>\n      <td>...</td>\n      <td>...</td>\n      <td>...</td>\n      <td>...</td>\n      <td>...</td>\n      <td>...</td>\n      <td>...</td>\n      <td>...</td>\n    </tr>\n    <tr>\n      <th>130773164</th>\n      <td>279.8438</td>\n      <td>-29.4845</td>\n      <td>0</td>\n      <td>-9.0</td>\n      <td>0.0</td>\n      <td>0.0</td>\n      <td>-9.0</td>\n      <td>0.162</td>\n      <td>0</td>\n      <td>16</td>\n      <td>...</td>\n      <td>10962.4</td>\n      <td>9186.6</td>\n      <td>6481.9</td>\n      <td>2894.3</td>\n      <td>[59698.4292 59700.2404 59722.3742 59729.4327 5...</td>\n      <td>[4 0 4 4 3 4 1 5 4 3 2 4 4 2 5 5 0 5 1 5 2 4 4...</td>\n      <td>[-6.01033500e+00 -1.71352540e+01  2.04168870e+...</td>\n      <td>[43.856094 24.732826 17.160511 21.696514 22.08...</td>\n      <td>[0 0 0 0 0 0 0 0 0 1 0 0 0 0 0 0 0 0 0 1 0 0 0...</td>\n      <td>595.3709</td>\n    </tr>\n    <tr>\n      <th>130773875</th>\n      <td>288.8086</td>\n      <td>-12.6356</td>\n      <td>0</td>\n      <td>-9.0</td>\n      <td>0.0</td>\n      <td>0.0</td>\n      <td>-9.0</td>\n      <td>0.180</td>\n      <td>0</td>\n      <td>16</td>\n      <td>...</td>\n      <td>22191.3</td>\n      <td>18744.6</td>\n      <td>13295.9</td>\n      <td>5959.6</td>\n      <td>[59696.3432 59698.3456 59698.4209 59701.3375 5...</td>\n      <td>[3 3 4 2 0 5 3 4 4 5 5 4 4 5 2 1 5 5 4 4 0 4 1...</td>\n      <td>[-3.22548462e+02 -2.54991400e+01 -4.62516440e+...</td>\n      <td>[15.321712 15.063808 37.548401 19.989159 21.80...</td>\n      <td>[1 0 0 0 0 0 0 0 0 0 0 0 0 0 0 0 0 0 0 0 0 0 0...</td>\n      <td>831.7051</td>\n    </tr>\n    <tr>\n      <th>130775146</th>\n      <td>328.8867</td>\n      <td>-34.9539</td>\n      <td>0</td>\n      <td>-9.0</td>\n      <td>0.0</td>\n      <td>0.0</td>\n      <td>-9.0</td>\n      <td>0.019</td>\n      <td>0</td>\n      <td>16</td>\n      <td>...</td>\n      <td>4365.2</td>\n      <td>3988.1</td>\n      <td>2935.0</td>\n      <td>1347.0</td>\n      <td>[59753.2174 59769.2853 59770.2698 59771.1771 5...</td>\n      <td>[1 4 5 4 5 5 5 5 4 1 2 5 0 3 5 4 5 1 3 2 3 2 3...</td>\n      <td>[ 2.37857150e+01  4.81287120e+01  1.95647320e+...</td>\n      <td>[ 6.818478 10.075212 17.565044 13.315582 30.69...</td>\n      <td>[0 0 0 0 0 0 0 0 0 0 1 0 0 1 0 0 0 0 1 1 1 1 0...</td>\n      <td>828.6954</td>\n    </tr>\n    <tr>\n      <th>130786299</th>\n      <td>169.6289</td>\n      <td>1.4922</td>\n      <td>0</td>\n      <td>-9.0</td>\n      <td>0.0</td>\n      <td>0.0</td>\n      <td>-9.0</td>\n      <td>0.041</td>\n      <td>0</td>\n      <td>16</td>\n      <td>...</td>\n      <td>20735.3</td>\n      <td>14952.9</td>\n      <td>9547.2</td>\n      <td>3988.9</td>\n      <td>[59610.2991 59610.3785 59611.3766 59612.3737 5...</td>\n      <td>[3 4 4 4 4 0 5 4 5 5 1 5 4 4 4 4 4 2 4 3 2 3 4...</td>\n      <td>[ 1.13636230e+01 -2.06327606e+02  1.00225400e+...</td>\n      <td>[16.489899 26.350208 23.926029 24.907831 26.94...</td>\n      <td>[0 1 0 0 1 0 0 0 1 0 0 0 0 1 0 0 1 0 0 0 0 0 1...</td>\n      <td>848.6973</td>\n    </tr>\n    <tr>\n      <th>130787879</th>\n      <td>67.1484</td>\n      <td>-25.1177</td>\n      <td>0</td>\n      <td>-9.0</td>\n      <td>0.0</td>\n      <td>0.0</td>\n      <td>-9.0</td>\n      <td>0.034</td>\n      <td>0</td>\n      <td>16</td>\n      <td>...</td>\n      <td>1949.0</td>\n      <td>1327.2</td>\n      <td>817.9</td>\n      <td>333.7</td>\n      <td>[59580.0594 59583.0916 59584.1081 59588.1043 5...</td>\n      <td>[5 0 0 5 3 4 5 4 5 4 5 5 4 4 5 5 4 4 1 5 5 5 3...</td>\n      <td>[-1.02686420e+01 -2.31972730e+01 -7.05197000e-...</td>\n      <td>[27.136755 11.748099 12.617407 26.967546  6.95...</td>\n      <td>[0 0 0 0 0 0 0 0 0 0 0 0 0 0 0 0 0 0 0 0 0 0 0...</td>\n      <td>707.9264</td>\n    </tr>\n  </tbody>\n</table>\n<p>31221 rows × 31 columns</p>\n</div>"
     },
     "execution_count": 7,
     "metadata": {},
     "output_type": "execute_result"
    }
   ],
   "source": [
    "df"
   ],
   "metadata": {
    "collapsed": false,
    "ExecuteTime": {
     "end_time": "2023-09-28T14:38:09.351314Z",
     "start_time": "2023-09-28T14:38:09.310618Z"
    }
   },
   "id": "c6da298aabe9feed"
  },
  {
   "cell_type": "code",
   "execution_count": null,
   "outputs": [],
   "source": [
    "import matplotlib.pyplot as plt\n",
    "\n",
    "LSST_BANDS = 'ugrizy'\n",
    "\n",
    "def plot(row):\n",
    "    plt.figure()\n",
    "    plt.title(f\"Object {row.Index}, true class {row.true_target}\")\n",
    "    plt.xlabel('MJD')\n",
    "    plt.ylabel('Flux, zp=27.5')\n",
    "    for band_idx, band_name in enumerate(LSST_BANDS):\n",
    "        mjd, flux, flux_err = extract_band(\n",
    "            row.mjd,\n",
    "            row.flux,\n",
    "            row.flux_err,\n",
    "            bands=row.passband,\n",
    "            band_to_calc=band_idx,\n",
    "        )\n",
    "        color = f'C{band_idx}'\n",
    "        plt.scatter(mjd, flux, c=color, label=band_name)\n",
    "        plt.errorbar(mjd, flux, yerr=flux_err, ls='none', c=color)\n",
    "        plt.legend()\n",
    "\n",
    "# Random objects from the selected sample\n",
    "for row in object_table[object_table['true_target'] == 16].sample(5, random_state=0).itertuples():\n",
    "    plot(row)\n",
    "    \n",
    "# Random objects from the selected sample\n",
    "for row in df.sample(5, random_state=0).itertuples():\n",
    "    plot(row)"
   ],
   "metadata": {
    "collapsed": false,
    "ExecuteTime": {
     "start_time": "2023-09-27T12:54:31.108198Z"
    }
   },
   "id": "1b336d01b8f74587"
  },
  {
   "cell_type": "markdown",
   "source": [],
   "metadata": {
    "collapsed": false
   },
   "id": "7fe6c62b2e3df51e"
  },
  {
   "cell_type": "code",
   "execution_count": 23,
   "outputs": [
    {
     "data": {
      "text/plain": "13           20468334592\n14           20468337232\n17           20468339872\n23           20468342688\n34           20468345328\n                ...     \n130787966    24097554064\n130787971    24097555224\n130787974    24097556344\n130788053    24097557480\n130788054    24097558304\nName: mjd, Length: 3492890, dtype: int64"
     },
     "execution_count": 23,
     "metadata": {},
     "output_type": "execute_result"
    }
   ],
   "source": [
    "object_table['mjd'].apply(lambda t: t.ctypes.data)"
   ],
   "metadata": {
    "collapsed": false,
    "ExecuteTime": {
     "end_time": "2023-09-07T20:52:45.230485Z",
     "start_time": "2023-09-07T20:52:39.758994Z"
    }
   },
   "id": "f2051fa7220567fc"
  },
  {
   "cell_type": "code",
   "execution_count": 21,
   "outputs": [
    {
     "data": {
      "text/plain": "13           20468334592\n14           20468337232\n17           20468339872\n23           20468342688\n34           20468345328\n                ...     \n130787966    24097554064\n130787971    24097555224\n130787974    24097556344\n130788053    24097557480\n130788054    24097558304\nLength: 3492890, dtype: int64"
     },
     "execution_count": 21,
     "metadata": {},
     "output_type": "execute_result"
    }
   ],
   "source": [
    "object_table.apply(lambda row: row['mjd'].ctypes.data, axis=1)"
   ],
   "metadata": {
    "collapsed": false,
    "ExecuteTime": {
     "end_time": "2023-09-06T20:43:09.636489Z",
     "start_time": "2023-09-06T20:42:14.143754Z"
    }
   },
   "id": "d7162734e034ba78"
  },
  {
   "cell_type": "code",
   "execution_count": 34,
   "outputs": [
    {
     "name": "stdout",
     "output_type": "stream",
     "text": [
      "[330 330 352 ... 350 255 255]\n"
     ]
    },
    {
     "data": {
      "text/plain": "13             NaN\n14           330.0\n17           330.0\n23           352.0\n34           330.0\n             ...  \n130787966    139.0\n130787971    145.0\n130787974    140.0\n130788053    142.0\n130788054    103.0\nName: mjd, Length: 3492890, dtype: float64"
     },
     "execution_count": 34,
     "metadata": {},
     "output_type": "execute_result"
    }
   ],
   "source": [
    "print(np.diff(pa.array(object_table['mjd']).chunks[0].offsets))\n",
    "object_table['mjd'].apply(lambda t: t.ctypes.data).diff() / 8"
   ],
   "metadata": {
    "collapsed": false,
    "ExecuteTime": {
     "end_time": "2023-09-07T20:56:03.566747Z",
     "start_time": "2023-09-07T20:55:58.360624Z"
    }
   },
   "id": "e259be67d6991a76"
  },
  {
   "cell_type": "code",
   "execution_count": null,
   "outputs": [],
   "source": [],
   "metadata": {
    "collapsed": false
   },
   "id": "87bfa55fa6eedd45"
  }
 ],
 "metadata": {
  "kernelspec": {
   "display_name": "Python 3 (ipykernel)",
   "language": "python",
   "name": "python3"
  },
  "language_info": {
   "codemirror_mode": {
    "name": "ipython",
    "version": 3
   },
   "file_extension": ".py",
   "mimetype": "text/x-python",
   "name": "python",
   "nbconvert_exporter": "python",
   "pygments_lexer": "ipython3",
   "version": "3.11.5"
  }
 },
 "nbformat": 4,
 "nbformat_minor": 5
}
