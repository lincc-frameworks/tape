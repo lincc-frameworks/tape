{
 "cells": [
  {
   "attachments": {},
   "cell_type": "markdown",
   "metadata": {},
   "source": [
    "# Working with Structure Function in lsstseries"
   ]
  },
  {
   "cell_type": "code",
   "execution_count": null,
   "metadata": {},
   "outputs": [],
   "source": [
    "import numpy as np\n",
    "\n",
    "from lsstseries.analysis.structurefunction2 import calc_sf2\n",
    "\n",
    "from lsstseries.analysis.structure_function.base_argument_container import StructureFunctionArgumentContainer\n",
    "from lsstseries.analysis.structure_function.basic.calculator import BasicStructureFunctionCalculator\n",
    "\n",
    "import lsstseries\n",
    "\n",
    "# make sure we're running the code we think we're running\n",
    "print(lsstseries.__file__)"
   ]
  },
  {
   "attachments": {},
   "cell_type": "markdown",
   "metadata": {},
   "source": [
    "Over time there will be several different Structure Function calculation methods implemented.\n",
    "Each of the calculation method will be a child class of the StructureFunctionCalculator base class.\n",
    "\n",
    "A dictionary of all available SF calculation methods dynamically generated at run time and is available as the SF_METHODS dictionary.\n",
    "The dictionary is a mapping of unique SF calculation method name to calculator class. \n",
    "Generally a user would not interact with `SF_METHODS` other than to view the list of SF calculation method names."
   ]
  },
  {
   "cell_type": "code",
   "execution_count": null,
   "metadata": {},
   "outputs": [],
   "source": [
    "from lsstseries.analysis.structure_function import SF_METHODS\n",
    "print(SF_METHODS.keys())"
   ]
  },
  {
   "attachments": {},
   "cell_type": "markdown",
   "metadata": {},
   "source": [
    "Each Structure Function calculation instance requires an input argument container object.\n",
    "But for those who are a class method, `expected_argument_container` is provided that will return the expected argument container class.\n",
    "\n",
    "Most of the time the user will not have to be aware of this functionality because default container will be created when needed. \n",
    "In the interest of completeness, we show below how to check for the expected argument container class, instantiate one, and check\n",
    "the value of one of the arguments it contains."
   ]
  },
  {
   "cell_type": "code",
   "execution_count": null,
   "metadata": {},
   "outputs": [],
   "source": [
    "# Note that we do not need to create an instance of the BasicStructureFunctionCalculator to call the `expected_argument_container` (static)method.\n",
    "arg_container_type = BasicStructureFunctionCalculator.expected_argument_container()\n",
    "arg_container = arg_container_type()\n",
    "\n",
    "# Print out the default value for one particular argument.\n",
    "print(arg_container.bin_count_target)"
   ]
  },
  {
   "attachments": {},
   "cell_type": "markdown",
   "metadata": {},
   "source": [
    "Using the argument container created above, we can create an instance of a Structure Function calculator method."
   ]
  },
  {
   "cell_type": "code",
   "execution_count": null,
   "metadata": {},
   "outputs": [],
   "source": [
    "# Create an instance of a calculator using the dictionary, and call the `calculate` method\n",
    "basic_calculator = SF_METHODS[\"basic\"]([], [], [], arg_container)\n",
    "\n",
    "# given no inputs, we expect an empty output\n",
    "basic_calculator.calculate()"
   ]
  },
  {
   "attachments": {},
   "cell_type": "markdown",
   "metadata": {},
   "source": [
    "The vast majority of the time, users will not interact directly with the Structure Function calculation method.\n",
    "It is more likely they will call the `calc_sf2` function either directly or via an `Ensemble` or `Timeseries`.\n",
    "\n",
    "Below we show various examples of calling `calc_sf2` directly."
   ]
  },
  {
   "cell_type": "code",
   "execution_count": null,
   "metadata": {},
   "outputs": [],
   "source": [
    "times = [1.11, 2.23, 3.45, 4.01, 5.67, 6.32, 7.88, 8.2]\n",
    "fluxes = [0.11, 0.23, 0.45, 0.01, 0.67, 0.32, 0.88, 0.2]\n",
    "errors = [0.1, 0.023, 0.045, 0.1, 0.067, 0.032, 0.8, 0.02]\n",
    "bands = np.array([\"r\"] * len(fluxes))\n",
    "lightcurve_ids = [1, 1, 1, 1, 1, 1, 1, 1]\n",
    "\n",
    "res = calc_sf2(times, fluxes, errors, bands, lightcurve_ids)\n",
    "\n",
    "print(res)"
   ]
  },
  {
   "cell_type": "code",
   "execution_count": null,
   "metadata": {},
   "outputs": [],
   "source": [
    "# Same as above, but we explicitly create an argument_container and produce the same results as before\n",
    "\n",
    "times = [1.11, 2.23, 3.45, 4.01, 5.67, 6.32, 7.88, 8.2]\n",
    "fluxes = [0.11, 0.23, 0.45, 0.01, 0.67, 0.32, 0.88, 0.2]\n",
    "errors = [0.1, 0.023, 0.045, 0.1, 0.067, 0.032, 0.8, 0.02]\n",
    "bands = np.array([\"r\"] * len(fluxes))\n",
    "lightcurve_ids = [1, 1, 1, 1, 1, 1, 1, 1]\n",
    "\n",
    "arg_container = StructureFunctionArgumentContainer()\n",
    "\n",
    "res = calc_sf2(times, fluxes, errors, bands, lightcurve_ids, argument_container=arg_container)\n",
    "\n",
    "print(res)"
   ]
  },
  {
   "cell_type": "code",
   "execution_count": null,
   "metadata": {},
   "outputs": [],
   "source": [
    "# Same as before, but being more explicit about the arguments in the argument container\n",
    "\n",
    "times = [1.11, 2.23, 3.45, 4.01, 5.67, 6.32, 7.88, 8.2]\n",
    "fluxes = [0.11, 0.23, 0.45, 0.01, 0.67, 0.32, 0.88, 0.2]\n",
    "errors = [0.1, 0.023, 0.045, 0.1, 0.067, 0.032, 0.8, 0.02]\n",
    "bands = np.array([\"r\"] * len(fluxes))\n",
    "lightcurve_ids = [1, 1, 1, 1, 1, 1, 1, 1]\n",
    "\n",
    "# Note, not all arguments need to be provided, nor do they have to be set at the\n",
    "# time the object is instantiated.\n",
    "arg_container = StructureFunctionArgumentContainer(band_to_calc=None, combine=False)\n",
    "arg_container.bins = None\n",
    "arg_container.method = \"size\"\n",
    "\n",
    "res = calc_sf2(times, fluxes, errors, bands, lightcurve_ids, argument_container=arg_container)\n",
    "\n",
    "print(res)"
   ]
  },
  {
   "attachments": {},
   "cell_type": "markdown",
   "metadata": {},
   "source": [
    "Next we show how one would work with `calc_sf2` using an `Ensemble` object.\n",
    "For more information about `Ensembles` see the example code in the \"Working with the lsstseries Ensemble object\" notebook."
   ]
  },
  {
   "cell_type": "code",
   "execution_count": null,
   "metadata": {},
   "outputs": [],
   "source": [
    "from lsstseries.ensemble import Ensemble\n",
    "\n",
    "ens = Ensemble()  # initialize an ensemble object\n",
    "\n",
    "# Read in data from a parquet file\n",
    "ens.from_parquet(\"../../tests/lsstseries_tests/data/source/test_source.parquet\",\n",
    "                id_col='ps1_objid',\n",
    "                time_col='midPointTai',\n",
    "                flux_col='psFlux',\n",
    "                err_col='psFluxErr',\n",
    "                band_col='filterName')"
   ]
  },
  {
   "cell_type": "code",
   "execution_count": null,
   "metadata": {},
   "outputs": [],
   "source": [
    "# Call batch on the ensemble providing no additional arguments.\n",
    "res = ens.batch(calc_sf2, compute=True)\n",
    "res"
   ]
  },
  {
   "cell_type": "code",
   "execution_count": null,
   "metadata": {},
   "outputs": [],
   "source": [
    "# Create a StructureFunctionArgumentContainer with lots of non-default argument values\n",
    "\n",
    "arg_container = StructureFunctionArgumentContainer()\n",
    "arg_container.band_to_calc = [\"r\"]\n",
    "arg_container.combine = True\n",
    "arg_container.bin_method = \"loglength\"\n",
    "arg_container.bin_count_target = 40\n",
    "\n",
    "res = ens.batch(calc_sf2, compute=True, argument_container=arg_container)\n",
    "res"
   ]
  },
  {
   "cell_type": "code",
   "execution_count": null,
   "metadata": {},
   "outputs": [],
   "source": [
    "ens.client.close()"
   ]
  },
  {
   "attachments": {},
   "cell_type": "markdown",
   "metadata": {},
   "source": [
    "Here we show how to work with `calc_sf2` using a `TimeSeries` object. \n",
    "For more information about working with `TimeSeries` objects, see the example code in the \"Working with the lsstseries Timeseries object\" notebook."
   ]
  },
  {
   "cell_type": "code",
   "execution_count": null,
   "metadata": {},
   "outputs": [],
   "source": [
    "# Pull out a TimeSeries object from the previous Ensemble\n",
    "ts = ens.to_timeseries(88472935274829959) # provided a target object id\n",
    "\n",
    "res = ts.sf2()\n",
    "print(res)"
   ]
  },
  {
   "cell_type": "code",
   "execution_count": null,
   "metadata": {},
   "outputs": [],
   "source": [
    "# Create a StructureFunctionArgumentContainer with lots of non-default argument values\n",
    "\n",
    "arg_container = StructureFunctionArgumentContainer()\n",
    "arg_container.band_to_calc = [\"r\"]\n",
    "arg_container.combine = True\n",
    "arg_container.bin_method = \"loglength\"\n",
    "arg_container.bin_count_target = 40\n",
    "\n",
    "res = ts.sf2(argument_container=arg_container)\n",
    "print(res)"
   ]
  },
  {
   "attachments": {},
   "cell_type": "markdown",
   "metadata": {},
   "source": [
    "## Implementing a custom Structure Function calculator"
   ]
  },
  {
   "attachments": {},
   "cell_type": "markdown",
   "metadata": {},
   "source": [
    "There may be times when the provided set of Structure Function calculator methods is insufficient for your work.\n",
    "It is possible to extend the `StructureFunctionCalculator` base class to create your own calculator method while making use of foundational code.\n",
    "\n",
    "The example below uses the `calculate` method from the `basic` structure function calculator method, and shows how the data is typically manipulated.\n",
    "Note that a unique name must be provided in the `name_id` static method.\n",
    "This is the name that will be provided when calling the `calc_sf2` function to determine which SF calculator method to use.\n",
    "\n",
    "Note that before this new SF calculator method must be registered before it is used.\n",
    "We demonstrate how to register the new calculator method at the end of the next cell. "
   ]
  },
  {
   "cell_type": "code",
   "execution_count": null,
   "metadata": {},
   "outputs": [],
   "source": [
    "# Creating a new subclass of `StructureFunctionCalculator` to implement a new SF calculator method\n",
    "from lsstseries.analysis.structure_function.base_calculator import StructureFunctionCalculator\n",
    "\n",
    "class ExperimentalStructureFunctionCalculator(StructureFunctionCalculator):\n",
    "    def calculate(self):\n",
    "        for lc_idx in range(len(self._time)):\n",
    "            lc_times = self._time[lc_idx]\n",
    "            lc_fluxes = self._flux[lc_idx]\n",
    "            lc_errors = self._err[lc_idx]\n",
    "\n",
    "            # mask out any nan values\n",
    "            t_mask = np.isnan(lc_times)\n",
    "            f_mask = np.isnan(lc_fluxes)\n",
    "            e_mask = np.isnan(lc_errors)  # always mask out nan errors?\n",
    "            lc_mask = np.logical_or(t_mask, f_mask, e_mask)\n",
    "\n",
    "            lc_times = lc_times[~lc_mask]\n",
    "            lc_fluxes = lc_fluxes[~lc_mask]\n",
    "            lc_errors = lc_errors[~lc_mask]\n",
    "\n",
    "            # d_times - difference of times\n",
    "            dt_matrix = lc_times.reshape((1, lc_times.size)) - lc_times.reshape((lc_times.size, 1))\n",
    "            d_times = dt_matrix[dt_matrix > 0].flatten()\n",
    "\n",
    "            # d_fluxes - difference of fluxes\n",
    "            df_matrix = lc_fluxes.reshape((1, lc_fluxes.size)) - lc_fluxes.reshape((lc_fluxes.size, 1))\n",
    "            d_fluxes = df_matrix[dt_matrix > 0].flatten()\n",
    "\n",
    "            # err^2 - errors squared\n",
    "            err2_matrix = (\n",
    "                lc_errors.reshape((1, lc_errors.size)) ** 2 + lc_errors.reshape((lc_errors.size, 1)) ** 2\n",
    "            )\n",
    "            err2s = err2_matrix[dt_matrix > 0].flatten()\n",
    "\n",
    "            # corrected each pair of observations\n",
    "            cor_flux2 = d_fluxes**2 - err2s\n",
    "\n",
    "            # build stack of times and fluxes\n",
    "            self._dts.append(d_times)\n",
    "            self._all_d_fluxes.append(cor_flux2)\n",
    "\n",
    "        # self._calculate_binned_statistic is provided by the parent class and\n",
    "        # will operate on self._dts and self._all_d_fluxes by default.\n",
    "        dts, sfs = self._calculate_binned_statistics()\n",
    "\n",
    "        return dts, sfs\n",
    "\n",
    "    @staticmethod\n",
    "    def name_id() -> str:\n",
    "        return \"experimental\"\n",
    "\n",
    "    @staticmethod\n",
    "    def expected_argument_container() -> type:\n",
    "        return StructureFunctionArgumentContainer\n",
    "\n",
    "\n",
    "# Registering the new calculator method using `register_subclasses`\n",
    "from lsstseries.analysis.structure_function import SF_METHODS\n",
    "from lsstseries.analysis.structure_function.base_calculator import register_sf_subclasses\n",
    "\n",
    "print(\"Current list of Structure Function calculator methods\")\n",
    "print(SF_METHODS.keys())\n",
    "\n",
    "# register the new subclass\n",
    "SF_METHODS = register_sf_subclasses()\n",
    "\n",
    "print(\"Updated list now includes the new 'experimental' method.\")\n",
    "print(SF_METHODS.keys())"
   ]
  },
  {
   "attachments": {},
   "cell_type": "markdown",
   "metadata": {},
   "source": [
    "We can now make use of the updated registry of Structure Function calculator methods as shown below."
   ]
  },
  {
   "cell_type": "code",
   "execution_count": null,
   "metadata": {},
   "outputs": [],
   "source": [
    "# Create an instance of our new calculator method using the dictionary, and call the `calculate` method\n",
    "experimental_calculator = SF_METHODS[\"experimental\"]([], [], [], arg_container)\n",
    "\n",
    "# given no inputs, we expect an empty output\n",
    "experimental_calculator.calculate()"
   ]
  }
 ],
 "metadata": {
  "kernelspec": {
   "display_name": "py310",
   "language": "python",
   "name": "python3"
  },
  "language_info": {
   "codemirror_mode": {
    "name": "ipython",
    "version": 3
   },
   "file_extension": ".py",
   "mimetype": "text/x-python",
   "name": "python",
   "nbconvert_exporter": "python",
   "pygments_lexer": "ipython3",
   "version": "3.10.10"
  },
  "vscode": {
   "interpreter": {
    "hash": "08968836a6367873274ed1d5e98a07391f42fc3a62bd5aba54afbd7b11ba8673"
   }
  }
 },
 "nbformat": 4,
 "nbformat_minor": 2
}
