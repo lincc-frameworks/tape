{
 "cells": [
  {
   "attachments": {},
   "cell_type": "markdown",
   "metadata": {},
   "source": [
    "# Working with Structure Function in lsstseries"
   ]
  },
  {
   "cell_type": "code",
   "execution_count": null,
   "metadata": {},
   "outputs": [],
   "source": [
    "import numpy as np\n",
    "\n",
    "from lsstseries.analysis.structurefunction2 import calc_sf2\n",
    "\n",
    "from lsstseries.analysis.structure_function.base_argument_container import StructureFunctionArgumentContainer\n",
    "from lsstseries.analysis.structure_function.basic.calculator import BasicStructureFunctionCalculator\n",
    "\n",
    "import lsstseries\n",
    "\n",
    "# make sure we're running the code we think we're running\n",
    "print(lsstseries.__file__)"
   ]
  },
  {
   "attachments": {},
   "cell_type": "markdown",
   "metadata": {},
   "source": [
    "## Structure Function Calculators and Argument Containers"
   ]
  },
  {
   "attachments": {},
   "cell_type": "markdown",
   "metadata": {},
   "source": [
    "Several different Structure Function calculation methods have been implemented.\n",
    "Each of the calculation methods will are a child class of the `StructureFunctionCalculator` base class.\n",
    "\n",
    "A dictionary of all available SF calculation methods named `SF_METHODS` is dynamically\n",
    "generated at run time.\n",
    "The dictionary is a mapping of unique SF calculation method name to calculator class.\n",
    "Generally a user would not interact with `SF_METHODS` other than to view the list of SF calculation method names.\n",
    "\n",
    "The `__init__` docstring for each SF calculator class contains references to the original papers."
   ]
  },
  {
   "cell_type": "code",
   "execution_count": null,
   "metadata": {},
   "outputs": [],
   "source": [
    "from lsstseries.analysis.structure_function.calculator_registrar import SF_METHODS\n",
    "print(SF_METHODS.keys())\n",
    "\n",
    "help(SF_METHODS['bauer_2009b'])"
   ]
  },
  {
   "attachments": {},
   "cell_type": "markdown",
   "metadata": {},
   "source": [
    "Because there are many configuration options for a given Structure Function calculation,\n",
    "and to avoid both cluttering the API and the use of kwargs, we leverage a\n",
    "`StructureFunctionArgumentContainer` `dataclass` object.\n",
    "\n",
    "Each Structure Function calculator instance will accept a `StructureFunctionArgumentContainer` object.\n",
    "Every Structure Function calculator is required to implement a `expected_argument_container`\n",
    "class method that will return the specific `StructureFunctionArgumentContainer` required by that class.\n",
    "\n",
    "Here we show how to check for the expected argument container class, instantiate\n",
    "one, and check the value of one of the arguments it contains.\n",
    "\n",
    "Note: \n",
    "- The full list of arguments and their functionality can be seen by calling \n",
    "`help(StructureFunctionArgumentContainer)`.\n",
    "- It's possible that a particular type of Structure Function calculator will need\n",
    "additional unique input arguments, so `StructureFunctionArgumentContainer` can be subclassed.\n",
    "An example of subclassing the argument container is shown later in this notebook."
   ]
  },
  {
   "cell_type": "code",
   "execution_count": null,
   "metadata": {},
   "outputs": [],
   "source": [
    "# Note that we do not need to create an instance of the BasicStructureFunctionCalculator to call the `expected_argument_container` (static)method.\n",
    "arg_container_type = BasicStructureFunctionCalculator.expected_argument_container()\n",
    "\n",
    "# Create an instance of the returned argument container type.\n",
    "arg_container = arg_container_type()\n",
    "\n",
    "# Print out the default value for one particular argument.\n",
    "print(arg_container.bin_count_target)\n",
    "\n",
    "# Show the full list of arguments and their definitions.\n",
    "help(StructureFunctionArgumentContainer)"
   ]
  },
  {
   "attachments": {},
   "cell_type": "markdown",
   "metadata": {},
   "source": [
    "Using the argument container created above, we can create an instance of a \"basic\" Structure Function calculator method."
   ]
  },
  {
   "cell_type": "code",
   "execution_count": null,
   "metadata": {},
   "outputs": [],
   "source": [
    "# Create an instance of the \"basic\" calculator using the `SF_METHODS` dictionary.\n",
    "# We provide an empty array of \"data\" as well as the argument container created\n",
    "# in the previous cell.\n",
    "basic_calculator = SF_METHODS[\"basic\"]([], arg_container)\n",
    "\n",
    "# Since no input data was provided, we expect an empty output: `([], [])`\n",
    "basic_calculator.calculate()"
   ]
  },
  {
   "attachments": {},
   "cell_type": "markdown",
   "metadata": {},
   "source": [
    "## `calc_sf2` - The Driver for Structure Function"
   ]
  },
  {
   "attachments": {},
   "cell_type": "markdown",
   "metadata": {},
   "source": [
    "The vast majority of the time, users will not interact directly with a Structure\n",
    "Function calculator.\n",
    "Instead, we expect users to call the `calc_sf2` function either directly or via an `Ensemble` or `Timeseries`.\n",
    "\n",
    "`calc_sf2` provides the most intuitive API to calculate the Structure Function for\n",
    "input data. The API is described in thoroughly in the [calc_sf2 documentation](https://lsstseries.readthedocs.io/en/latest/autoapi/lsstseries/analysis/structurefunction2/index.html#lsstseries.analysis.structurefunction2.calc_sf2).\n",
    "\n",
    "Below we show various small examples of calling `calc_sf2` directly."
   ]
  },
  {
   "cell_type": "code",
   "execution_count": null,
   "metadata": {},
   "outputs": [],
   "source": [
    "times = [1.11, 2.23, 3.45, 4.01, 5.67, 6.32, 7.88, 8.2]\n",
    "fluxes = [0.11, 0.23, 0.45, 0.01, 0.67, 0.32, 0.88, 0.2]\n",
    "\n",
    "# note that `errors`, `bands`, and `lightcurve_ids` are optional input arguments.\n",
    "errors = [0.1, 0.023, 0.045, 0.1, 0.067, 0.032, 0.8, 0.02]\n",
    "bands = np.array([\"r\"] * len(fluxes))\n",
    "lightcurve_ids = [1, 1, 1, 1, 1, 1, 1, 1]\n",
    "\n",
    "res = calc_sf2(times, fluxes, errors, bands, lightcurve_ids)\n",
    "\n",
    "print(res)"
   ]
  },
  {
   "cell_type": "code",
   "execution_count": null,
   "metadata": {},
   "outputs": [],
   "source": [
    "# Same as above, but we explicitly create an argument_container and produce the same results as before\n",
    "\n",
    "times = [1.11, 2.23, 3.45, 4.01, 5.67, 6.32, 7.88, 8.2]\n",
    "fluxes = [0.11, 0.23, 0.45, 0.01, 0.67, 0.32, 0.88, 0.2]\n",
    "\n",
    "# note again: `errors`, `bands`, `lightcurve_ids` and `arg_container` are optional input arguments.\n",
    "errors = [0.1, 0.023, 0.045, 0.1, 0.067, 0.032, 0.8, 0.02]\n",
    "bands = np.array([\"r\"] * len(fluxes))\n",
    "lightcurve_ids = [1, 1, 1, 1, 1, 1, 1, 1]\n",
    "\n",
    "arg_container = StructureFunctionArgumentContainer()\n",
    "\n",
    "res = calc_sf2(times, fluxes, errors, bands, lightcurve_ids, argument_container=arg_container)\n",
    "\n",
    "print(res)"
   ]
  },
  {
   "cell_type": "code",
   "execution_count": null,
   "metadata": {},
   "outputs": [],
   "source": [
    "# Same as before, but being more explicit about the arguments in the argument container\n",
    "\n",
    "times = [1.11, 2.23, 3.45, 4.01, 5.67, 6.32, 7.88, 8.2]\n",
    "fluxes = [0.11, 0.23, 0.45, 0.01, 0.67, 0.32, 0.88, 0.2]\n",
    "errors = [0.1, 0.023, 0.045, 0.1, 0.067, 0.032, 0.8, 0.02]\n",
    "bands = np.array([\"r\"] * len(fluxes))\n",
    "lightcurve_ids = [1, 1, 1, 1, 1, 1, 1, 1]\n",
    "\n",
    "# Note, not all arguments need to be provided, nor do they have to be set at the\n",
    "# time the object is instantiated.\n",
    "arg_container = StructureFunctionArgumentContainer(band_to_calc=None, combine=False)\n",
    "arg_container.bins = None\n",
    "arg_container.method = \"size\"\n",
    "\n",
    "res = calc_sf2(times, fluxes, errors, bands, lightcurve_ids, argument_container=arg_container)\n",
    "\n",
    "print(res)"
   ]
  },
  {
   "attachments": {},
   "cell_type": "markdown",
   "metadata": {},
   "source": [
    "### Using `calc_sf2` to run Structure Function calculations on an Ensemble\n",
    "\n",
    "Here we show how one would work with `calc_sf2` using an `Ensemble` object.\n",
    "For more information about `Ensembles` see the example code in the [\"Working with the lsstseries Ensemble object\"](https://lsstseries.readthedocs.io/en/latest/notebooks/working_with_the_ensemble.html) notebook."
   ]
  },
  {
   "cell_type": "code",
   "execution_count": null,
   "metadata": {},
   "outputs": [],
   "source": [
    "from lsstseries.ensemble import Ensemble\n",
    "\n",
    "ens = Ensemble()  # initialize an ensemble object\n",
    "\n",
    "# Read in data from a parquet file\n",
    "ens.from_parquet(\"../../tests/lsstseries_tests/data/source/test_source.parquet\",\n",
    "                id_col='ps1_objid',\n",
    "                time_col='midPointTai',\n",
    "                flux_col='psFlux',\n",
    "                err_col='psFluxErr',\n",
    "                band_col='filterName')"
   ]
  },
  {
   "cell_type": "code",
   "execution_count": null,
   "metadata": {},
   "outputs": [],
   "source": [
    "# Call batch on the ensemble providing no additional arguments.\n",
    "res = ens.batch(calc_sf2, compute=True)\n",
    "res"
   ]
  },
  {
   "cell_type": "code",
   "execution_count": null,
   "metadata": {},
   "outputs": [],
   "source": [
    "# Create a StructureFunctionArgumentContainer with lots of non-default argument values\n",
    "\n",
    "arg_container = StructureFunctionArgumentContainer()\n",
    "arg_container.band_to_calc = [\"r\"]\n",
    "arg_container.combine = True\n",
    "arg_container.bin_method = \"loglength\"\n",
    "arg_container.bin_count_target = 40\n",
    "\n",
    "res = ens.batch(calc_sf2, compute=True, argument_container=arg_container)\n",
    "res"
   ]
  },
  {
   "cell_type": "code",
   "execution_count": null,
   "metadata": {},
   "outputs": [],
   "source": [
    "ens.client.close()"
   ]
  },
  {
   "attachments": {},
   "cell_type": "markdown",
   "metadata": {},
   "source": [
    "### Using `calc_sf2` to run Structure Function calculations on a TimeSeries\n",
    "\n",
    "Here we show how to work with `calc_sf2` using a `TimeSeries` object. \n",
    "For more information about working with `TimeSeries` objects, see the example code in the [\"Working with the lsstseries Timeseries object\"](https://lsstseries.readthedocs.io/en/latest/notebooks/working_with_the_timeseries.html) notebook."
   ]
  },
  {
   "cell_type": "code",
   "execution_count": null,
   "metadata": {},
   "outputs": [],
   "source": [
    "# Pull out a TimeSeries object from the previous Ensemble\n",
    "ts = ens.to_timeseries(88472935274829959) # provided a target object id\n",
    "\n",
    "# Calculate the Structure Function for this lightcurve.\n",
    "res = ts.sf2()\n",
    "print(res)"
   ]
  },
  {
   "cell_type": "code",
   "execution_count": null,
   "metadata": {},
   "outputs": [],
   "source": [
    "# Create a StructureFunctionArgumentContainer with lots of non-default argument values\n",
    "\n",
    "arg_container = StructureFunctionArgumentContainer()\n",
    "arg_container.band_to_calc = [\"r\"]\n",
    "arg_container.bin_method = \"size\"\n",
    "arg_container.bin_count_target = 100\n",
    "arg_container.equally_weight_lightcurves = True\n",
    "arg_container.number_lightcurve_samples = 10000\n",
    "arg_container.calculation_repetitions = 100\n",
    "arg_container.report_upper_lower_error_separately = True\n",
    "\n",
    "# Calculate the Structure Function for this lightcurve.\n",
    "res = ts.sf2(argument_container=arg_container)\n",
    "print(res)"
   ]
  },
  {
   "attachments": {},
   "cell_type": "markdown",
   "metadata": {},
   "source": [
    "## Implementing a custom Structure Function calculator\n",
    "\n",
    "There may be times when the provided set of Structure Function calculator methods is insufficient for your work.\n",
    "It is possible to extend the `StructureFunctionCalculator` base class to create your own calculator method while making use of foundational code.\n",
    "\n",
    "The example below uses the `calculate` method from the `basic` structure function calculator method, and shows how the data is typically manipulated.\n",
    "Note that a unique name must be provided in the `name_id` static method.\n",
    "This is the name that will be provided when calling the `calc_sf2` function to determine which SF calculator method to use.\n",
    "\n",
    "Note that before this new SF calculator method must be registered before it is used.\n",
    "We demonstrate how to register the new calculator method at the end of the next cell. "
   ]
  },
  {
   "cell_type": "code",
   "execution_count": null,
   "metadata": {},
   "outputs": [],
   "source": [
    "# Creating a new subclass of `StructureFunctionCalculator` to implement a new SF calculator method\n",
    "from lsstseries.analysis.structure_function.base_calculator import StructureFunctionCalculator\n",
    "\n",
    "class ExperimentalStructureFunctionCalculator(StructureFunctionCalculator):\n",
    "    def calculate(self):\n",
    "        # self._calculate_binned_statistic is provided by the parent class,\n",
    "        # `StructureFunctionCalculator` and will operate on time and flux\n",
    "        # differences contained in the StructureFunctionLightCurve objects by\n",
    "        # default.\n",
    "        dts, sfs = self._calculate_binned_statistics()\n",
    "\n",
    "        return dts, sfs\n",
    "\n",
    "    @staticmethod\n",
    "    def name_id() -> str:\n",
    "        return \"experimental\"\n",
    "\n",
    "    @staticmethod\n",
    "    def expected_argument_container() -> type:\n",
    "        return StructureFunctionArgumentContainer\n",
    "\n",
    "\n",
    "# Registering the new calculator method using `register_subclasses`\n",
    "# from lsstseries.analysis.structure_function import SF_METHODS\n",
    "from lsstseries.analysis.structure_function.calculator_registrar import update_sf_subclasses\n",
    "\n",
    "print(\"Current list of Structure Function calculator methods\")\n",
    "print(SF_METHODS.keys())\n",
    "\n",
    "# update the dictionary of structure functions to include the new subclass\n",
    "update_sf_subclasses()\n",
    "\n",
    "print(\"Updated list now includes the new 'experimental' method.\")\n",
    "print(SF_METHODS.keys())"
   ]
  },
  {
   "attachments": {},
   "cell_type": "markdown",
   "metadata": {},
   "source": [
    "We can now make use of the updated registry of Structure Function calculator methods as shown below."
   ]
  },
  {
   "cell_type": "code",
   "execution_count": null,
   "metadata": {},
   "outputs": [],
   "source": [
    "# Create an instance of our new calculator method using the dictionary, and call the `calculate` method\n",
    "experimental_calculator = SF_METHODS[\"experimental\"]([], arg_container)\n",
    "\n",
    "# given no inputs, we expect an empty output\n",
    "experimental_calculator.calculate()"
   ]
  },
  {
   "attachments": {},
   "cell_type": "markdown",
   "metadata": {},
   "source": [
    "## Implementing a custom StructureFunctionArgumentContainer\n",
    "\n",
    "The customization provided by the default `StructureFunctionArgumentContainer`\n",
    "may need to be extended to support a bespoke `StructureFunctionCalculator` subclass.\n",
    "\n",
    "Below we show the approach for implementing a new `StructureFunctionArgumentContainer`\n",
    "as well as a mathematically trivial new `StructureFunctionCalculator` to show the\n",
    "new container in action. \n",
    "\n",
    "First we'll create a new subclass of `StructureFunctionArgumentContainer`."
   ]
  },
  {
   "cell_type": "code",
   "execution_count": null,
   "metadata": {},
   "outputs": [],
   "source": [
    "from dataclasses import dataclass\n",
    "\n",
    "@dataclass\n",
    "class HitchhikerStructureFunctionArgumentContainer(StructureFunctionArgumentContainer):\n",
    "    # note, due to the way dataclass inheritance works, all parameters must have a default value!\n",
    "    find_meaning_of_life: bool = False"
   ]
  },
  {
   "attachments": {},
   "cell_type": "markdown",
   "metadata": {},
   "source": [
    "Next we'll create and register a new `StructureFunctionCalculator`"
   ]
  },
  {
   "cell_type": "code",
   "execution_count": null,
   "metadata": {},
   "outputs": [],
   "source": [
    "from lsstseries.analysis.structure_function.base_calculator import StructureFunctionCalculator\n",
    "\n",
    "class HitchhikerStructureFunctionCalculator(StructureFunctionCalculator):\n",
    "    def calculate(self):\n",
    "        # self._calculate_binned_statistic is provided by the parent class,\n",
    "        # `StructureFunctionCalculator` and will operate on time and flux\n",
    "        # differences contained in the StructureFunctionLightCurve objects by\n",
    "        # default.\n",
    "        dts, sfs = self._calculate_binned_statistics()\n",
    "\n",
    "        if self._argument_container.find_meaning_of_life:\n",
    "            dts = np.full_like(dts, 42.0)\n",
    "            sfs = np.full_like(sfs, 42.0)\n",
    "\n",
    "        return dts, sfs\n",
    "\n",
    "    @staticmethod\n",
    "    def name_id() -> str:\n",
    "        return \"hitchhiker\"\n",
    "\n",
    "    # Note that we've specified the newly created Ex\n",
    "    @staticmethod\n",
    "    def expected_argument_container() -> type:\n",
    "        return HitchhikerStructureFunctionArgumentContainer\n",
    "\n",
    "# register the new subclass and make sure we see \"maybe_squared\" in our list\n",
    "update_sf_subclasses()\n",
    "print(SF_METHODS.keys())"
   ]
  },
  {
   "attachments": {},
   "cell_type": "markdown",
   "metadata": {},
   "source": [
    "Finally, we'll make use of our new calculator by calling it with a default argument\n",
    "set, and then also providing non-default arguments to an instance of the\n",
    "`HitchhikerStructureFunctionArgumentContainer`."
   ]
  },
  {
   "attachments": {},
   "cell_type": "markdown",
   "metadata": {},
   "source": [
    "#### All default arguments\n",
    "Here we see that our new Structure function returns some reasonable values using\n",
    "all the default arguments."
   ]
  },
  {
   "cell_type": "code",
   "execution_count": null,
   "metadata": {},
   "outputs": [],
   "source": [
    "times = [1.11, 2.23, 3.45, 4.01, 5.67, 6.32, 7.88, 8.2]\n",
    "fluxes = [0.11, 0.23, 0.45, 0.01, 0.67, 0.32, 0.88, 0.2]\n",
    "\n",
    "# note that `errors`, `bands`, and `lightcurve_ids` are optional input arguments.\n",
    "errors = [0.1, 0.023, 0.045, 0.1, 0.067, 0.032, 0.8, 0.02]\n",
    "bands = np.array([\"r\"] * len(fluxes))\n",
    "lightcurve_ids = [1, 1, 1, 1, 1, 1, 1, 1]\n",
    "\n",
    "res = calc_sf2(times, fluxes, errors, bands, lightcurve_ids, sf_method=\"hitchhiker\")\n",
    "\n",
    "print(res)"
   ]
  },
  {
   "attachments": {},
   "cell_type": "markdown",
   "metadata": {},
   "source": [
    "#### Non-default arguments\n",
    "Here we've requested that the Structure Function calculator find the meaning of\n",
    "life by setting `arg_container.find_meaning_of_life = True`.\n",
    "\n",
    "Note: We also have set the preferred structure function calculator to use with\n",
    "`arg_container.sf_method = \"hitchhiker\"`."
   ]
  },
  {
   "cell_type": "code",
   "execution_count": null,
   "metadata": {},
   "outputs": [],
   "source": [
    "times = [1.11, 2.23, 3.45, 4.01, 5.67, 6.32, 7.88, 8.2]\n",
    "fluxes = [0.11, 0.23, 0.45, 0.01, 0.67, 0.32, 0.88, 0.2]\n",
    "\n",
    "# note that `errors`, `bands`, and `lightcurve_ids` are optional input arguments.\n",
    "errors = [0.1, 0.023, 0.045, 0.1, 0.067, 0.032, 0.8, 0.02]\n",
    "bands = np.array([\"r\"] * len(fluxes))\n",
    "lightcurve_ids = [1, 1, 1, 1, 1, 1, 1, 1]\n",
    "\n",
    "arg_container_class = SF_METHODS[\"hitchhiker\"].expected_argument_container()\n",
    "arg_container = arg_container_class()\n",
    "\n",
    "# If using an argument container, define the requested structure function here.\n",
    "arg_container.sf_method = \"hitchhiker\"\n",
    "arg_container.find_meaning_of_life = True\n",
    "\n",
    "res = calc_sf2(times, fluxes, errors, bands, lightcurve_ids, argument_container=arg_container)\n",
    "\n",
    "print(res)"
   ]
  }
 ],
 "metadata": {
  "kernelspec": {
   "display_name": "py310",
   "language": "python",
   "name": "python3"
  },
  "language_info": {
   "codemirror_mode": {
    "name": "ipython",
    "version": 3
   },
   "file_extension": ".py",
   "mimetype": "text/x-python",
   "name": "python",
   "nbconvert_exporter": "python",
   "pygments_lexer": "ipython3",
   "version": "3.10.10"
  },
  "vscode": {
   "interpreter": {
    "hash": "08968836a6367873274ed1d5e98a07391f42fc3a62bd5aba54afbd7b11ba8673"
   }
  }
 },
 "nbformat": 4,
 "nbformat_minor": 2
}
