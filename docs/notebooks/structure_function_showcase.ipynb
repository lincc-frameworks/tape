{
 "cells": [
  {
   "attachments": {},
   "cell_type": "markdown",
   "metadata": {},
   "source": [
    "# Structure Function science showcase"
   ]
  },
  {
   "cell_type": "code",
   "execution_count": null,
   "metadata": {},
   "outputs": [],
   "source": [
    "import tape\n",
    "import eztao\n",
    "\n",
    "import numpy as np\n",
    "import matplotlib.pyplot as plt\n"
   ]
  },
  {
   "attachments": {},
   "cell_type": "markdown",
   "metadata": {},
   "source": [
    "## Uncomment the following cell when EzTao is updated to not use `np.bool`.\n",
    "There's a bug in EzTao that should be fixed soon. Until then this block of code doesn't work. "
   ]
  },
  {
   "cell_type": "code",
   "execution_count": null,
   "metadata": {},
   "outputs": [],
   "source": [
    "from eztao.carma import DRW_term\n",
    "from eztao.ts import gpSimRand\n",
    "\n",
    "# amp is RMS amplitude and tau is the decorrelation timescale\n",
    "amp = 0.2\n",
    "tau = 100\n",
    "\n",
    "# Create the kernel\n",
    "DRW_kernel = DRW_term(np.log(amp), np.log(tau))\n",
    "\n",
    "num_light_curves = 100\n",
    "snr = 10\n",
    "duration_in_days = 365 * 10\n",
    "num_observations = 200\n",
    "\n",
    "# Generate `num_light_curves` lightcurves\n",
    "# t, y, yerr are np.ndarray with shape = (num_light_curves, num_observations)\n",
    "t, y, err = gpSimRand(\n",
    "    carmaTerm=DRW_kernel,\n",
    "    SNR=snr,\n",
    "    duration=duration_in_days,\n",
    "    N=num_observations,\n",
    "    nLC=num_light_curves)\n",
    "\n",
    "# pick 10 lightcurves at random and plot\n",
    "fig, ax = plt.subplots(10, 1, dpi=150, figsize=(8,3))\n",
    "for i, j in enumerate(np.random.choice(len(t), size=10, replace=False)):\n",
    "    ax[i].errorbar(t[j], y[j], err[j], fmt='.')"
   ]
  },
  {
   "attachments": {},
   "cell_type": "markdown",
   "metadata": {},
   "source": [
    "Run the example through the basic SF and plot"
   ]
  },
  {
   "cell_type": "code",
   "execution_count": null,
   "metadata": {},
   "outputs": [],
   "source": [
    "\n",
    "res_basic = tape.analysis.calc_sf2(t[0], y[0], err[0])\n",
    "\n",
    "plt.figure()\n",
    "plt.plot(res_basic['dt'], res_basic['sf2'])\n",
    "plt.yscale('log')\n",
    "plt.xscale('log')\n",
    "plt.title(\"Basic Structure Function\")\n",
    "plt.show()"
   ]
  },
  {
   "attachments": {},
   "cell_type": "markdown",
   "metadata": {},
   "source": [
    "## Run the data through the other SF methods and plot those."
   ]
  },
  {
   "cell_type": "code",
   "execution_count": null,
   "metadata": {},
   "outputs": [],
   "source": [
    "arg_container = tape.analysis.structure_function.StructureFunctionArgumentContainer()\n",
    "arg_container.sf_method = 'macleod_2012'\n",
    "res_macleod = tape.analysis.calc_sf2(t[0], y[0], err[0], argument_container=arg_container)\n",
    "\n",
    "arg_container = tape.analysis.structure_function.StructureFunctionArgumentContainer()\n",
    "arg_container.sf_method = 'bauer_2009a'\n",
    "res_bauer_a = tape.analysis.calc_sf2(t[0], y[0], err[0], argument_container=arg_container)\n",
    "\n",
    "arg_container = tape.analysis.structure_function.StructureFunctionArgumentContainer()\n",
    "arg_container.sf_method = 'bauer_2009b'\n",
    "res_bauer_b = tape.analysis.calc_sf2(t[0], y[0], err[0], argument_container=arg_container)\n",
    "\n",
    "arg_container = tape.analysis.structure_function.StructureFunctionArgumentContainer()\n",
    "arg_container.sf_method = 'schmidt_2010'\n",
    "res_schmidt = tape.analysis.calc_sf2(t[0], y[0], err[0], argument_container=arg_container)\n"
   ]
  },
  {
   "cell_type": "code",
   "execution_count": null,
   "metadata": {},
   "outputs": [],
   "source": [
    "plt.plot(res_basic['dt'], res_basic['sf2'], 'b', label='Basic')\n",
    "plt.plot(res_macleod['dt'], res_macleod['sf2'], 'g', label='MacLeod 2012')\n",
    "plt.plot(res_bauer_a['dt'], res_bauer_a['sf2'], 'r', label='Bauer 2009a')\n",
    "plt.plot(res_bauer_b['dt'], res_bauer_b['sf2'], 'k', label='Bauer 2009b')\n",
    "plt.plot(res_schmidt['dt'], res_schmidt['sf2'], 'm', label='Schmidt 2010')\n",
    "plt.legend()\n",
    "plt.yscale('log')\n",
    "plt.xscale('log')"
   ]
  },
  {
   "attachments": {},
   "cell_type": "markdown",
   "metadata": {},
   "source": [
    "## Working with an ensemble\n",
    "Similar to the code above, this is hand crafted from data produced from a locally modified instance of EzTao. Once the `np.bool` bug is fixed, you should be able to replace the following code with `data_dict = dict(time=t, flux=y, err=yerr)`."
   ]
  },
  {
   "cell_type": "code",
   "execution_count": null,
   "metadata": {},
   "outputs": [],
   "source": [
    "\n",
    "data_dict = dict(\n",
    "    lc_id = np.repeat(np.arange(1,101, dtype=int), repeats=200),\n",
    "    band = np.hstack(np.full(np.shape(t), 'r')),\n",
    "    time=np.hstack(t),\n",
    "    flux=np.hstack(y),\n",
    "    err=np.hstack(err)\n",
    ")"
   ]
  },
  {
   "cell_type": "code",
   "execution_count": null,
   "metadata": {},
   "outputs": [],
   "source": [
    "from tape.analysis import calc_sf2\n",
    "manual_colmap = tape.ColumnMapper().assign(\n",
    "    id_col='lc_id', time_col='time', flux_col='flux', err_col='err', band_col='band',\n",
    ")\n",
    "ens = tape.Ensemble()\n",
    "\n",
    "ens.from_source_dict(source_dict=data_dict, column_mapper=manual_colmap)\n",
    "batch_res = ens.batch(calc_sf2, compute=True)\n",
    "batch_res"
   ]
  },
  {
   "cell_type": "code",
   "execution_count": null,
   "metadata": {},
   "outputs": [],
   "source": [
    "plt.figure()\n",
    "plt.plot(batch_res['dt'], batch_res['sf2'], '.')\n",
    "plt.yscale('log')\n",
    "plt.xscale('log')\n",
    "plt.title(\"Basic Structure Function\")\n",
    "plt.show()"
   ]
  },
  {
   "cell_type": "code",
   "execution_count": null,
   "metadata": {},
   "outputs": [],
   "source": [
    "# Running the `calc_sf2` function with the first 10 lightcurves in `combine` mode.\n",
    "arg_container = tape.analysis.structure_function.StructureFunctionArgumentContainer()\n",
    "arg_container.combine = True\n",
    "res_basic = tape.analysis.calc_sf2(data_dict['time'][0:2000], data_dict['flux'][0:2000], data_dict['err'][0:2000], argument_container=arg_container)\n",
    "\n",
    "plt.figure()\n",
    "plt.plot(res_basic['dt'], res_basic['sf2'])\n",
    "plt.yscale('log')\n",
    "plt.xscale('log')\n",
    "plt.title(\"Basic Structure Function\")\n",
    "plt.show()"
   ]
  }
 ],
 "metadata": {
  "kernelspec": {
   "display_name": "tape",
   "language": "python",
   "name": "python3"
  },
  "language_info": {
   "codemirror_mode": {
    "name": "ipython",
    "version": 3
   },
   "file_extension": ".py",
   "mimetype": "text/x-python",
   "name": "python",
   "nbconvert_exporter": "python",
   "pygments_lexer": "ipython3",
   "version": "3.10.10"
  }
 },
 "nbformat": 4,
 "nbformat_minor": 2
}
