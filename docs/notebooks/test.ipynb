{
 "cells": [
  {
   "cell_type": "code",
   "execution_count": null,
   "metadata": {},
   "outputs": [],
   "source": [
    "import numpy as np\n",
    "import pytest\n",
    "\n",
    "from lsstseries.analysis.structurefunction2 import calc_sf2_v2\n",
    "\n",
    "from lsstseries.analysis.structure_function_argument_containers import StructureFunctionArgumentContainer\n",
    "from lsstseries.analysis.structure_function_calculators import BasicStructureFunctionCalculator\n",
    "\n",
    "import lsstseries\n",
    "\n",
    "# make sure we're running the code we think we're running\n",
    "print(lsstseries.__file__)"
   ]
  },
  {
   "cell_type": "code",
   "execution_count": null,
   "metadata": {},
   "outputs": [],
   "source": [
    "# Note that we are not creating an instance of the BasicSFCalculator to call the `expected_argument_container` (static)method. \n",
    "arg_container = BasicStructureFunctionCalculator.expected_argument_container()\n",
    "\n",
    "# print something out, so that we can see that we do indeed get a default argument_container\n",
    "print(arg_container.bin_count_target)"
   ]
  },
  {
   "cell_type": "code",
   "execution_count": null,
   "metadata": {},
   "outputs": [],
   "source": [
    "# import and show that we dynamically generate the SF_CALCULATORS dictionary\n",
    "from lsstseries.analysis.structure_function_calculators import SF_METHODS\n",
    "print(SF_METHODS)"
   ]
  },
  {
   "cell_type": "code",
   "execution_count": null,
   "metadata": {},
   "outputs": [],
   "source": [
    "# Create an instance of a calculator using the dictionary, and call the `calculate` method\n",
    "basic_calculator = SF_METHODS[\"basic\"]([], [], [], arg_container)\n",
    "\n",
    "# given no inputs, we expect an empty output\n",
    "basic_calculator.calculate()"
   ]
  },
  {
   "cell_type": "code",
   "execution_count": null,
   "metadata": {},
   "outputs": [],
   "source": [
    "# Reproduces one of the basic tests used for the original implementation of SF.\n",
    "# But here we're using the new class-based machinery\n",
    "\n",
    "lc_id = [1, 1, 1, 1, 1, 1, 1, 1]\n",
    "test_t = [1.11, 2.23, 3.45, 4.01, 5.67, 6.32, 7.88, 8.2]\n",
    "test_y = [0.11, 0.23, 0.45, 0.01, 0.67, 0.32, 0.88, 0.2]\n",
    "test_yerr = [0.1, 0.023, 0.045, 0.1, 0.067, 0.032, 0.8, 0.02]\n",
    "test_band = np.array([\"r\"] * len(test_y))\n",
    "\n",
    "res = calc_sf2_v2(test_t, test_y, test_yerr, test_band, lc_id)\n",
    "\n",
    "print(res)\n",
    "assert res[\"dt\"][0] == pytest.approx(3.705, rel=0.001)\n",
    "assert res[\"sf2\"][0] == pytest.approx(0.005365, rel=0.001)"
   ]
  },
  {
   "cell_type": "code",
   "execution_count": null,
   "metadata": {},
   "outputs": [],
   "source": [
    "# Same as above, but explicitly creating an argument_container\n",
    "# Produces the same results as before\n",
    "\n",
    "lc_id = [1, 1, 1, 1, 1, 1, 1, 1]\n",
    "test_t = [1.11, 2.23, 3.45, 4.01, 5.67, 6.32, 7.88, 8.2]\n",
    "test_y = [0.11, 0.23, 0.45, 0.01, 0.67, 0.32, 0.88, 0.2]\n",
    "test_yerr = [0.1, 0.023, 0.045, 0.1, 0.067, 0.032, 0.8, 0.02]\n",
    "test_band = np.array([\"r\"] * len(test_y))\n",
    "\n",
    "arg_container = StructureFunctionArgumentContainer()\n",
    "\n",
    "res = calc_sf2_v2(test_t, test_y, test_yerr, test_band, lc_id, argument_container=arg_container)\n",
    "\n",
    "print(res)\n",
    "assert res[\"dt\"][0] == pytest.approx(3.705, rel=0.001)\n",
    "assert res[\"sf2\"][0] == pytest.approx(0.005365, rel=0.001)"
   ]
  },
  {
   "cell_type": "code",
   "execution_count": null,
   "metadata": {},
   "outputs": [],
   "source": [
    "# Same as before, but being more explicit about the arguments in the argument container\n",
    "\n",
    "lc_id = [1, 1, 1, 1, 1, 1, 1, 1]\n",
    "test_t = [1.11, 2.23, 3.45, 4.01, 5.67, 6.32, 7.88, 8.2]\n",
    "test_y = [0.11, 0.23, 0.45, 0.01, 0.67, 0.32, 0.88, 0.2]\n",
    "test_yerr = [0.1, 0.023, 0.045, 0.1, 0.067, 0.032, 0.8, 0.02]\n",
    "test_band = np.array([\"r\"] * len(test_y))\n",
    "\n",
    "# Note, not all arguments need to be provided, nor do they have to be set at the\n",
    "# time the object is instantiated.\n",
    "arg_container = StructureFunctionArgumentContainer(band_to_calc=None, combine=False)\n",
    "arg_container.bins = None\n",
    "arg_container.method = \"size\"\n",
    "\n",
    "res = calc_sf2_v2(test_t, test_y, test_yerr, test_band, lc_id, argument_container=arg_container)\n",
    "\n",
    "print(res)\n",
    "assert res[\"dt\"][0] == pytest.approx(3.705, rel=0.001)\n",
    "assert res[\"sf2\"][0] == pytest.approx(0.005365, rel=0.001)"
   ]
  }
 ],
 "metadata": {
  "kernelspec": {
   "display_name": "lsstseries",
   "language": "python",
   "name": "python3"
  },
  "language_info": {
   "codemirror_mode": {
    "name": "ipython",
    "version": 3
   },
   "file_extension": ".py",
   "mimetype": "text/x-python",
   "name": "python",
   "nbconvert_exporter": "python",
   "pygments_lexer": "ipython3",
   "version": "3.10.10"
  }
 },
 "nbformat": 4,
 "nbformat_minor": 2
}
