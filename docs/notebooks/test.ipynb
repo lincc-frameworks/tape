{
 "cells": [
  {
   "cell_type": "code",
   "execution_count": 1,
   "metadata": {},
   "outputs": [],
   "source": [
    "from lsstseries.analysis.structure_function_argument_containers import StructureFunctionArgumentContainer\n",
    "from lsstseries.analysis.structure_function_calculators import BasicStructureFunctionCalculator\n",
    "from lsstseries.analysis.structure_function_calculators import StructureFunctionCalculator"
   ]
  },
  {
   "cell_type": "code",
   "execution_count": 2,
   "metadata": {},
   "outputs": [],
   "source": [
    "# Note that we are not creating an instance of the BasicSFCalculator to call the `expected_argument_container` (static)method. \n",
    "arg_container = BasicStructureFunctionCalculator.expected_argument_container()"
   ]
  },
  {
   "cell_type": "code",
   "execution_count": 3,
   "metadata": {},
   "outputs": [
    {
     "data": {
      "text/plain": [
       "100"
      ]
     },
     "execution_count": 3,
     "metadata": {},
     "output_type": "execute_result"
    }
   ],
   "source": [
    "arg_container.sthresh"
   ]
  },
  {
   "cell_type": "code",
   "execution_count": 4,
   "metadata": {},
   "outputs": [
    {
     "name": "stdout",
     "output_type": "stream",
     "text": [
      "{'basic': <class 'lsstseries.analysis.structure_function_calculators.basic_structure_function_calculator.BasicStructureFunctionCalculator'>}\n"
     ]
    }
   ],
   "source": [
    "from lsstseries.analysis.structure_function_calculators import SF_CALCULATORS\n",
    "\n",
    "print(SF_CALCULATORS)"
   ]
  },
  {
   "cell_type": "code",
   "execution_count": 5,
   "metadata": {},
   "outputs": [
    {
     "name": "stdout",
     "output_type": "stream",
     "text": [
      "Doin' the calculation\n"
     ]
    }
   ],
   "source": [
    "# Create an instance of a calculator using the dictionary, and call the `calculate` method\n",
    "basic_calculator = SF_CALCULATORS[\"basic\"]([], [], [], arg_container)\n",
    "\n",
    "basic_calculator.calculate()"
   ]
  }
 ],
 "metadata": {
  "kernelspec": {
   "display_name": "lsstseries",
   "language": "python",
   "name": "python3"
  },
  "language_info": {
   "codemirror_mode": {
    "name": "ipython",
    "version": 3
   },
   "file_extension": ".py",
   "mimetype": "text/x-python",
   "name": "python",
   "nbconvert_exporter": "python",
   "pygments_lexer": "ipython3",
   "version": "3.10.10"
  },
  "orig_nbformat": 4
 },
 "nbformat": 4,
 "nbformat_minor": 2
}
